{
 "cells": [
  {
   "cell_type": "markdown",
   "metadata": {},
   "source": [
    "# Network of Words"
   ]
  },
  {
   "cell_type": "code",
   "execution_count": 1,
   "metadata": {},
   "outputs": [],
   "source": [
    "from nltk.sentiment.vader import SentimentIntensityAnalyzer\n",
    "from nltk import word_tokenize,sent_tokenize,Text,PorterStemmer,WordNetLemmatizer,pos_tag\n",
    "from nltk.corpus import stopwords\n",
    "import pandas as pd\n",
    "import numpy as np\n",
    "import networkx as nx\n",
    "import math\n",
    "import matplotlib.pyplot as plt\n",
    "import spacy\n",
    "from spellchecker import SpellChecker\n",
    "import collections as clt\n",
    "import time\n",
    "from community import best_partition\n",
    "import pickle\n",
    "import math"
   ]
  },
  {
   "cell_type": "code",
   "execution_count": 2,
   "metadata": {},
   "outputs": [],
   "source": [
    "df = pd.read_csv('reviews_full_v5.csv')\n",
    "plt.rcParams[\"figure.figsize\"] = (10,7) #defining size of plots\n",
    "sp = spacy.load('en_core_web_sm')"
   ]
  },
  {
   "cell_type": "raw",
   "metadata": {},
   "source": [
    "df['Text'] = df['Text'].str.replace(\"'s\",'').str.replace(\"'\",'').str.replace('-','').str.replace('(',')').str.replace(')','').str.replace(',','').str.replace('.','')\n",
    "print(df['Text'].head(10))"
   ]
  },
  {
   "cell_type": "code",
   "execution_count": 3,
   "metadata": {},
   "outputs": [],
   "source": [
    "genre_group = pickle.load(open('genre_group.p','rb'))"
   ]
  },
  {
   "cell_type": "code",
   "execution_count": 4,
   "metadata": {},
   "outputs": [],
   "source": [
    "def isNaN(x):\n",
    "    return x != x"
   ]
  },
  {
   "cell_type": "raw",
   "metadata": {},
   "source": [
    "B = nx.Graph()\n",
    "posScore = 75\n",
    "#stemmer = PorterStemmer() #faster\n",
    "#stemmer = WordNetLemmatizer() #slower but more accurate\n",
    "vocab = set()\n",
    "a = time.time()\n",
    "spell = SpellChecker()\n",
    "N_albums = len(set(df.Release))\n",
    "all_stopwords = sp.Defaults.stop_words\n",
    "tf = {}\n",
    "for index, row in df.iterrows():\n",
    "    if index%5000 == 0:\n",
    "        print(index, time.time()-a)\n",
    "    if row['Score'] < posScore: #removing reviews with low score \n",
    "        continue\n",
    "    text = pos_tag(word_tokenize(row['Text']))\n",
    "    album = row['Release'] + 'A'\n",
    "    if isNaN(row['Genre']):\n",
    "        genres = []\n",
    "    else:\n",
    "        genres = list({genre_group[item] for item in row['Genre'].split('|')})\n",
    "    #print(text)\n",
    "    #print(genres)\n",
    "    for word,tag in text:\n",
    "        #print(word)\n",
    "        word = word.lower()\n",
    "        if word.isalpha() and len(word) > 4 and len(word) < 15 and tag == 'JJ' and word not in all_stopwords and len(spell.unknown([word])) == 0:\n",
    "            if not B.has_edge(album, word):\n",
    "                B.add_edge(album, word, weight = 1)\n",
    "            else:\n",
    "                B[album][word]['weight'] += 1\n",
    "            vocab.add(word)\n",
    "            for genre in genres:\n",
    "                if genre not in tf:\n",
    "                    tf[genre] = {}\n",
    "                if word not in tf[genre]:\n",
    "                    tf[genre][word] = 1\n",
    "                else:\n",
    "                    tf[genre][word] += 1\n",
    "print(B.number_of_nodes(), B.number_of_edges(),time.time()-a)"
   ]
  },
  {
   "cell_type": "raw",
   "metadata": {},
   "source": [
    "G = nx.Graph() #eliminates lone words\n",
    "for word in vocab:\n",
    "    for album in B.adj[word]:\n",
    "        for word1 in B.adj[album]:\n",
    "            if word < word1: #order is important to avoid repeats\n",
    "                if not G.has_edge(word,word1):\n",
    "                    G.add_edge(word, word1, weight = 0)\n",
    "                G[word][word1]['weight'] += 1"
   ]
  },
  {
   "cell_type": "code",
   "execution_count": 5,
   "metadata": {},
   "outputs": [],
   "source": [
    "#nx.write_gpickle(B,'bipartite_words.p')"
   ]
  },
  {
   "cell_type": "code",
   "execution_count": 6,
   "metadata": {},
   "outputs": [],
   "source": [
    "#nx.write_gpickle(G,'network_words.p')"
   ]
  },
  {
   "cell_type": "raw",
   "metadata": {},
   "source": [
    "f = open('vocab_list.txt', 'w')\n",
    "for word in vocab:\n",
    "    f.write(word)\n",
    "    f.write('\\n')\n",
    "f.close()"
   ]
  },
  {
   "cell_type": "code",
   "execution_count": 7,
   "metadata": {},
   "outputs": [],
   "source": [
    "vocab = set(open('vocab_list.txt', 'r').read().split('\\n'))"
   ]
  },
  {
   "cell_type": "code",
   "execution_count": 8,
   "metadata": {},
   "outputs": [],
   "source": [
    "G = nx.read_gpickle('network_words.p')\n",
    "B = nx.read_gpickle('bipartite_words.p')"
   ]
  },
  {
   "cell_type": "code",
   "execution_count": 9,
   "metadata": {},
   "outputs": [
    {
     "data": {
      "text/plain": [
       "(16033, 45464, 16034)"
      ]
     },
     "execution_count": 9,
     "metadata": {},
     "output_type": "execute_result"
    }
   ],
   "source": [
    "G.number_of_nodes(), B.number_of_nodes(), len(vocab)"
   ]
  },
  {
   "cell_type": "code",
   "execution_count": 10,
   "metadata": {},
   "outputs": [
    {
     "data": {
      "text/plain": [
       "29430"
      ]
     },
     "execution_count": 10,
     "metadata": {},
     "output_type": "execute_result"
    }
   ],
   "source": [
    "N_albums = B.number_of_nodes() - len(vocab)\n",
    "N_albums"
   ]
  },
  {
   "cell_type": "code",
   "execution_count": 11,
   "metadata": {},
   "outputs": [
    {
     "data": {
      "text/plain": [
       "40241"
      ]
     },
     "execution_count": 11,
     "metadata": {},
     "output_type": "execute_result"
    }
   ],
   "source": [
    "len(set(df.Release))"
   ]
  },
  {
   "cell_type": "raw",
   "metadata": {},
   "source": [
    "idf = {word:math.log2(N_albums/B.degree[word]) for word in G.nodes()}"
   ]
  },
  {
   "cell_type": "raw",
   "metadata": {},
   "source": [
    "pickle.dump(idf, open('IDF.p','wb'))\n",
    "pickle.dump(tf, open('TF.p','wb'))"
   ]
  },
  {
   "cell_type": "code",
   "execution_count": 12,
   "metadata": {},
   "outputs": [],
   "source": [
    "idf = pickle.load(open('IDF.p','rb'))\n",
    "tf = pickle.load(open('TF.p','rb'))"
   ]
  },
  {
   "cell_type": "code",
   "execution_count": 13,
   "metadata": {},
   "outputs": [],
   "source": [
    "genre = 'Black metal'\n",
    "total = 0\n",
    "tfidf = {}\n",
    "tfidf[genre] = {}\n",
    "for word in tf[genre]:\n",
    "    total += tf[genre][word]\n",
    "for word in tf[genre]:\n",
    "    tfidf[genre][word] = (tf[genre][word] / total) * idf[word]"
   ]
  },
  {
   "cell_type": "code",
   "execution_count": 15,
   "metadata": {},
   "outputs": [
    {
     "data": {
      "image/png": "[encoded data removed]",
      "text/plain": [
       "<Figure size 720x504 with 1 Axes>"
      ]
     },
     "metadata": {
      "needs_background": "light"
     },
     "output_type": "display_data"
    }
   ],
   "source": [
    "plt.title('Term Frequency - Inverse Document Frequency for Black Metal')\n",
    "plt.ylabel('TF-IDF')\n",
    "plt.xlabel('Words')\n",
    "plt.plot(sorted(list(tfidf[genre].values())))\n",
    "plt.savefig('TF-IDF of Black Metal.png')"
   ]
  },
  {
   "cell_type": "code",
   "execution_count": 26,
   "metadata": {},
   "outputs": [
    {
     "name": "stdout",
     "output_type": "stream",
     "text": [
      "['heavy', 'melodic', 'excellent', 'great', 'early', 'unique', 'black', 'overall', 'atmospheric', 'musical', 'different', 'extreme', 'ambient', 'entire', 'strong', 'clear', 'harsh', 'simple', 'clean', 'original', 'vocal', 'second', 'similar', 'little', 'previous', 'short', 'powerful', 'acoustic', 'interesting', 'beautiful', 'album', 'norwegian', 'perfect', 'symphonic', 'depressive']\n"
     ]
    }
   ],
   "source": [
    "print([key for key in tfidf[genre] if tfidf[genre][key] > 0.01])"
   ]
  },
  {
   "cell_type": "raw",
   "metadata": {},
   "source": [
    "df = pd.read_csv('reviewsv7.csv')\n",
    "mp = {}\n",
    "for index, row in df.iterrows():\n",
    "    mp[(row['User'], row['Release'])] = (row['Text'],row['Sentiment'])\n",
    "\n",
    "df = pd.read_csv('reviews_full_v3.csv')\n",
    "text = []\n",
    "senti = []\n",
    "for index, row in df.iterrows():\n",
    "    if (row['User'], row['Release']) in mp:\n",
    "        text.append(mp[(row['User'], row['Release'])][0])\n",
    "        senti.append(mp[(row['User'], row['Release'])][1])\n",
    "    else:\n",
    "        text.append(np.nan)\n",
    "        senti.append(np.nan)\n",
    "df['Text'] = text\n",
    "df['Sentiment'] = senti\n",
    "df.to_csv('reviews_full_v4.csv', index = False)"
   ]
  }
 ],
 "metadata": {
  "kernelspec": {
   "display_name": "Python 3",
   "language": "python",
   "name": "python3"
  },
  "language_info": {
   "codemirror_mode": {
    "name": "ipython",
    "version": 3
   },
   "file_extension": ".py",
   "mimetype": "text/x-python",
   "name": "python",
   "nbconvert_exporter": "python",
   "pygments_lexer": "ipython3",
   "version": "3.8.3"
  }
 },
 "nbformat": 4,
 "nbformat_minor": 4
}

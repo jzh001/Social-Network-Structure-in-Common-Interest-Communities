{
 "cells": [
  {
   "cell_type": "code",
   "execution_count": 1,
   "metadata": {},
   "outputs": [],
   "source": [
    "from nltk.sentiment.vader import SentimentIntensityAnalyzer\n",
    "from nltk import word_tokenize,sent_tokenize,Text,PorterStemmer,WordNetLemmatizer,pos_tag\n",
    "from nltk.corpus import stopwords\n",
    "import pandas as pd\n",
    "import numpy as np\n",
    "import networkx as nx\n",
    "import math\n",
    "import matplotlib.pyplot as plt\n",
    "import spacy\n",
    "from spellchecker import SpellChecker\n",
    "import collections as clt\n",
    "import time"
   ]
  },
  {
   "cell_type": "code",
   "execution_count": 2,
   "metadata": {},
   "outputs": [],
   "source": [
    "df = pd.read_csv('reviewsv7.csv')\n",
    "plt.rcParams[\"figure.figsize\"] = (10,7) #defining size of plots\n",
    "sp = spacy.load('en_core_web_sm')"
   ]
  },
  {
   "cell_type": "code",
   "execution_count": 3,
   "metadata": {},
   "outputs": [
    {
     "name": "stdout",
     "output_type": "stream",
     "text": [
      "0    i originally bought chaosphere in late 2000 an...\n",
      "1    a midpoint between carcass early grind albums ...\n",
      "2    im not hardcore into metal at all really but i...\n",
      "3    this is not a new album but in fact five album...\n",
      "4    ive been trying for months to come up with an ...\n",
      "5    andromeda extension of the wish clearly one of...\n",
      "6    to start off i must say that i did not always ...\n",
      "7    psycroptic  the isle of disenchantment self re...\n",
      "8    absolute steel  the fair bitch project edgerun...\n",
      "9    purgation  realm of the dead mcdself released ...\n",
      "Name: Text, dtype: object\n"
     ]
    }
   ],
   "source": [
    "df['Text'] = df['Text'].str.lower().str.replace(\"'s\",'').str.replace(\"'\",'').str.replace('-','').str.replace('(',')').str.replace(')','').str.replace(',','').str.replace('.','')\n",
    "print(df['Text'].head(10))"
   ]
  },
  {
   "cell_type": "code",
   "execution_count": 4,
   "metadata": {},
   "outputs": [
    {
     "name": "stdout",
     "output_type": "stream",
     "text": [
      "6262 114.54868006706238\n"
     ]
    }
   ],
   "source": [
    "words = {}#dictionary of sets\n",
    "albums = {}\n",
    "#stemmer = PorterStemmer() #faster\n",
    "#stemmer = WordNetLemmatizer() #slower but more accurate\n",
    "a = time.time()\n",
    "spell = SpellChecker()\n",
    "N_albums = len(set(df.Release))\n",
    "all_stopwords = sp.Defaults.stop_words\n",
    "for i in range(5000):\n",
    "    text = set(pos_tag(word_tokenize(df.Text[i])))\n",
    "    album = df.Release[i]\n",
    "    if album not in albums:\n",
    "        albums[album] = set()\n",
    "    for word,tag in text:\n",
    "        word = word.lower()\n",
    "        if word.isalpha() and len(word) > 4 and tag == 'JJ' and word not in all_stopwords and len(spell.unknown([word])) == 0:\n",
    "            if word not in words:\n",
    "                words[word] = set()\n",
    "            words[word].add(album)\n",
    "            albums[album].add(word) \n",
    "print(len(words),time.time()-a)"
   ]
  },
  {
   "cell_type": "code",
   "execution_count": 5,
   "metadata": {},
   "outputs": [],
   "source": [
    "idf_list = [math.log10(N_albums/len(words[word])) for word in words]"
   ]
  },
  {
   "cell_type": "code",
   "execution_count": 6,
   "metadata": {},
   "outputs": [],
   "source": [
    "prop = [N_albums/len(words[word]) for word in words]"
   ]
  },
  {
   "cell_type": "code",
   "execution_count": 27,
   "metadata": {},
   "outputs": [],
   "source": [
    "temp = sorted(idf_list)"
   ]
  },
  {
   "cell_type": "code",
   "execution_count": 31,
   "metadata": {},
   "outputs": [
    {
     "data": {
      "image/png": "[encoded data removed]",
      "text/plain": [
       "<Figure size 720x504 with 1 Axes>"
      ]
     },
     "metadata": {
      "needs_background": "light"
     },
     "output_type": "display_data"
    }
   ],
   "source": [
    "plt.title('Plot of Inverse Document Frequency of Words')\n",
    "plt.ylabel('Inverse Document Frequency')\n",
    "plt.xlabel('Words')\n",
    "plt.plot(temp)\n",
    "plt.savefig('/images/Plot of Inverse Document Frequency of Words.png')"
   ]
  },
  {
   "cell_type": "code",
   "execution_count": 25,
   "metadata": {},
   "outputs": [],
   "source": [
    "temp1 = sorted([((N_albums/len(words[word])),word) for word in words])"
   ]
  },
  {
   "cell_type": "code",
   "execution_count": 26,
   "metadata": {},
   "outputs": [
    {
     "data": {
      "text/plain": [
       "[(39624.0, 'vibrato'),\n",
       " (39624.0, 'vicarious'),\n",
       " (39624.0, 'viciousness'),\n",
       " (39624.0, 'victimless'),\n",
       " (39624.0, 'victoria'),\n",
       " (39624.0, 'videos'),\n",
       " (39624.0, 'vigilante'),\n",
       " (39624.0, 'ville'),\n",
       " (39624.0, 'vinci'),\n",
       " (39624.0, 'vindictive'),\n",
       " (39624.0, 'vinny'),\n",
       " (39624.0, 'violently'),\n",
       " (39624.0, 'virulent'),\n",
       " (39624.0, 'vision'),\n",
       " (39624.0, 'vocabulary'),\n",
       " (39624.0, 'vodka'),\n",
       " (39624.0, 'voice'),\n",
       " (39624.0, 'voiced'),\n",
       " (39624.0, 'volcanic'),\n",
       " (39624.0, 'voluntary'),\n",
       " (39624.0, 'vomit'),\n",
       " (39624.0, 'vomited'),\n",
       " (39624.0, 'waffen'),\n",
       " (39624.0, 'wakeman'),\n",
       " (39624.0, 'waldemar'),\n",
       " (39624.0, 'wallis'),\n",
       " (39624.0, 'wallow'),\n",
       " (39624.0, 'wallowing'),\n",
       " (39624.0, 'wandering'),\n",
       " (39624.0, 'wanderlust'),\n",
       " (39624.0, 'wanted'),\n",
       " (39624.0, 'warbling'),\n",
       " (39624.0, 'warlock'),\n",
       " (39624.0, 'warman'),\n",
       " (39624.0, 'warmly'),\n",
       " (39624.0, 'warning'),\n",
       " (39624.0, 'warped'),\n",
       " (39624.0, 'warrant'),\n",
       " (39624.0, 'warren'),\n",
       " (39624.0, 'wartime'),\n",
       " (39624.0, 'warwick'),\n",
       " (39624.0, 'washy'),\n",
       " (39624.0, 'waster'),\n",
       " (39624.0, 'watch'),\n",
       " (39624.0, 'watery'),\n",
       " (39624.0, 'weakened'),\n",
       " (39624.0, 'weapon'),\n",
       " (39624.0, 'weave'),\n",
       " (39624.0, 'wedding'),\n",
       " (39624.0, 'weekly'),\n",
       " (39624.0, 'weeping'),\n",
       " (39624.0, 'wehrmacht'),\n",
       " (39624.0, 'weight'),\n",
       " (39624.0, 'weirdos'),\n",
       " (39624.0, 'welded'),\n",
       " (39624.0, 'wesley'),\n",
       " (39624.0, 'wether'),\n",
       " (39624.0, 'whack'),\n",
       " (39624.0, 'whats'),\n",
       " (39624.0, 'whimper'),\n",
       " (39624.0, 'whisky'),\n",
       " (39624.0, 'whispering'),\n",
       " (39624.0, 'wholehearted'),\n",
       " (39624.0, 'whoopee'),\n",
       " (39624.0, 'whopper'),\n",
       " (39624.0, 'wichita'),\n",
       " (39624.0, 'widow'),\n",
       " (39624.0, 'wildest'),\n",
       " (39624.0, 'wildly'),\n",
       " (39624.0, 'willetts'),\n",
       " (39624.0, 'willie'),\n",
       " (39624.0, 'willowy'),\n",
       " (39624.0, 'windblown'),\n",
       " (39624.0, 'windswept'),\n",
       " (39624.0, 'winnipeg'),\n",
       " (39624.0, 'winsome'),\n",
       " (39624.0, 'wintry'),\n",
       " (39624.0, 'wisdom'),\n",
       " (39624.0, 'witch'),\n",
       " (39624.0, 'witchery'),\n",
       " (39624.0, 'withered'),\n",
       " (39624.0, 'witless'),\n",
       " (39624.0, 'wobbly'),\n",
       " (39624.0, 'woeful'),\n",
       " (39624.0, 'wonderfully'),\n",
       " (39624.0, 'woodwind'),\n",
       " (39624.0, 'worked'),\n",
       " (39624.0, 'worldly'),\n",
       " (39624.0, 'wormed'),\n",
       " (39624.0, 'worshipper'),\n",
       " (39624.0, 'wrathful'),\n",
       " (39624.0, 'writhe'),\n",
       " (39624.0, 'writing'),\n",
       " (39624.0, 'wrought'),\n",
       " (39624.0, 'wuthering'),\n",
       " (39624.0, 'wyvern'),\n",
       " (39624.0, 'yearly'),\n",
       " (39624.0, 'yggdrasil'),\n",
       " (39624.0, 'zachary'),\n",
       " (39624.0, 'zealous')]"
      ]
     },
     "execution_count": 26,
     "metadata": {},
     "output_type": "execute_result"
    }
   ],
   "source": [
    "temp1[-100:]"
   ]
  },
  {
   "cell_type": "code",
   "execution_count": 11,
   "metadata": {},
   "outputs": [
    {
     "name": "stdout",
     "output_type": "stream",
     "text": [
      "6262\n"
     ]
    }
   ],
   "source": [
    "G = nx.Graph() #network of words\n",
    "B = nx.Graph() #bipartite\n",
    "\n",
    "for word in words:\n",
    "    for album in words[word]:\n",
    "        B.add_edge(word,album + 'A')\n",
    "edges = {}\n",
    "albummp = {}\n",
    "for word in words:\n",
    "    for album in B.adj[word]:\n",
    "        for word1 in B.adj[album]:\n",
    "            if word != word1:\n",
    "                if (word,word1) in edges:\n",
    "                    edges[(word,word1)] += 1\n",
    "                    albummp[(word,word1)].add(album)\n",
    "                elif (word1,word) in edges:\n",
    "                    edges[(word1,word)] += 1\n",
    "                    albummp[(word1,word)].add(album)\n",
    "                else:\n",
    "                    edges[(word,word1)] = 1\n",
    "                    albummp[(word,word1)] = set()\n",
    "                    albummp[(word,word1)].add(album)\n",
    "for edge in edges:\n",
    "    G.add_edge(edge[0], edge[1], weight = edges[edge]/2, album = albummp[edge])#because double counted\n",
    "\n",
    "print(len(G.nodes()))\n",
    "                    "
   ]
  },
  {
   "cell_type": "code",
   "execution_count": 12,
   "metadata": {},
   "outputs": [],
   "source": [
    "#calculating similarity between two nodes which share an edge (else default is zero).\n",
    "#By using each edge, this method cuts down time complexity from O(N^2) to O(E)\n",
    "def calc_sim(Graph):\n",
    "    for u,v in Graph.edges():\n",
    "        #similarity = 2*overlap/sum of degrees of u and v\n",
    "        sum_of_degrees = Graph.degree(u,weight = 'weight')+Graph.degree(v,weight = 'weight')\n",
    "        common_edges = Graph[u][v]['weight']\n",
    "        Graph[u][v]['similarity'] = (2*common_edges)/sum_of_degrees #is this the best way?\n",
    "        #G[u][v]['similarity'] = common_edges/(sum_of_degrees - common_edges)\n",
    "    return Graph"
   ]
  },
  {
   "cell_type": "code",
   "execution_count": 13,
   "metadata": {},
   "outputs": [],
   "source": [
    "G = calc_sim(G)"
   ]
  },
  {
   "cell_type": "code",
   "execution_count": 14,
   "metadata": {},
   "outputs": [
    {
     "data": {
      "image/png": "[encoded data removed]",
      "text/plain": [
       "<Figure size 720x504 with 1 Axes>"
      ]
     },
     "metadata": {
      "needs_background": "light"
     },
     "output_type": "display_data"
    }
   ],
   "source": [
    "sim_score = [G[u][v]['similarity'] for u,v in G.edges()]\n",
    "#print(weights)\n",
    "plt.title('Distribution of Similarity - Network of Words')\n",
    "plt.xlabel('Similarity (0-1)')\n",
    "plt.ylabel('Log of Frequency')\n",
    "#print(min(sim_score))\n",
    "plt.hist(sim_score, log = True)#specify the number of bins -> \n",
    "plt.savefig(\"Distribution of Similarity - Network of Words.png\")\n",
    "plt.show()"
   ]
  },
  {
   "cell_type": "code",
   "execution_count": 15,
   "metadata": {},
   "outputs": [
    {
     "data": {
      "image/png": "[encoded data removed]",
      "text/plain": [
       "<Figure size 720x504 with 1 Axes>"
      ]
     },
     "metadata": {
      "needs_background": "light"
     },
     "output_type": "display_data"
    }
   ],
   "source": [
    "#Assigning weights based on frequency\n",
    "weights = [G[u][v]['weight'] for u,v in G.edges()]\n",
    "plt.title('Distribution of Weights - Network of Words')\n",
    "plt.xlabel('Weights')\n",
    "plt.ylabel('Log of Frequency')\n",
    "plt.hist(weights, log = True)\n",
    "plt.savefig(\"Distribution of Weights - Network of Words.png\")\n",
    "plt.show()"
   ]
  },
  {
   "cell_type": "code",
   "execution_count": 16,
   "metadata": {},
   "outputs": [
    {
     "data": {
      "text/plain": [
       "1"
      ]
     },
     "execution_count": 16,
     "metadata": {},
     "output_type": "execute_result"
    }
   ],
   "source": [
    "nx.number_connected_components(G)"
   ]
  },
  {
   "cell_type": "code",
   "execution_count": 17,
   "metadata": {},
   "outputs": [],
   "source": [
    "GC = G "
   ]
  },
  {
   "cell_type": "code",
   "execution_count": 18,
   "metadata": {},
   "outputs": [],
   "source": [
    "def cluster(sim):\n",
    "    #this function generates a graph which is a collection of subgraphs from the original graph\n",
    "    #after removing all edges with similarity < sim, where sim is to be determined\n",
    "    #to generate full graph, used for point query\n",
    "    GC_split = nx.Graph()\n",
    "    GC_split.add_nodes_from(GC.nodes())\n",
    "    for u,v in GC.edges():\n",
    "        if GC[u][v]['similarity'] >= sim:\n",
    "            GC_split.add_edge(u,v)\n",
    "            GC_split[u][v]['weight'] = GC[u][v]['weight']\n",
    "            GC_split[u][v]['similarity'] = GC[u][v]['similarity']\n",
    "            GC_split[u][v]['album'] = GC[u][v]['album']\n",
    "    return GC_split\n",
    "\n",
    "def cluster_fast(sim):\n",
    "    #a faster version of cluster function, but without edge attributes, for computational purposes only\n",
    "    GC_split = nx.Graph()\n",
    "    GC_split.add_nodes_from(GC.nodes())\n",
    "    for u,v in GC.edges():\n",
    "        if GC[u][v]['similarity'] >= sim:\n",
    "            GC_split.add_edge(u,v)\n",
    "    return GC_split\n",
    "\n",
    "def components(Graph):\n",
    "    #returns a list connected components of a graph (a list of lists of nodes in each connected component)\n",
    "    return list(nx.connected_components(Graph))\n",
    "\n",
    "def getSize(Graph):\n",
    "    #returns a list of the size of disconnected subgraphs in a graph\n",
    "    return [len(x) for x in list(nx.connected_components(Graph))]\n",
    "\n",
    "def entropy(sim, Graph = nx.Graph()):\n",
    "    #can be used both for range and point query\n",
    "    #calculates the Shannon Entropy of a graph\n",
    "    #if input is a graph instead of similarity value, set sim = -1\n",
    "    sum = 0\n",
    "    if sim == -1:#used by range function entropy_range\n",
    "        clusters = components(Graph)\n",
    "    else:#used individually\n",
    "        clusters = components(cluster_fast(sim))\n",
    "    N = len(GC.nodes())\n",
    "    for comp in clusters:\n",
    "        P = len(comp)/N #P is the probability of a node being in a particular component/cluster\n",
    "        sum += -1*P*math.log10(P)\n",
    "    return sum\n",
    "\n",
    "def entropy_range(sim_x, isShannon = False):\n",
    "    #runs in linear time, but needs to be initialised from largest to smallest similarity\n",
    "    #takes in a range of values and adds edges individually from greatest to smallest similarity\n",
    "    #used for range query\n",
    "    #isShannon is a boolean which is True when finding Shannon Entropy and False when finding Cluster Entropy\n",
    "    #can be used for both types of entropy by specifying boolean\n",
    "    #range query reduces run time as graph is only constructed once\n",
    "    #returns list of entropy values\n",
    "    pos = 0\n",
    "    GC_split = nx.Graph()\n",
    "    GC_split.add_nodes_from(GC.nodes())\n",
    "    edges = []\n",
    "    for u,v in GC.edges():\n",
    "        edges.append((GC[u][v]['similarity'],u,v))\n",
    "    edges.sort(reverse = True)\n",
    "    ret = []\n",
    "    for sim in sim_x:\n",
    "        for i in range(pos,len(edges)):\n",
    "            edgesim, u, v = edges[i]\n",
    "            if edgesim >= sim:\n",
    "                GC_split.add_edge(u,v)\n",
    "            else:\n",
    "                break\n",
    "        pos = i\n",
    "        if isShannon:\n",
    "            ret.append(entropy(-1,GC_split))\n",
    "        else:\n",
    "            ret.append(clusterentropy(-1,GC_split))\n",
    "    ret.reverse()\n",
    "    return ret\n",
    "\n",
    "def clusterentropy(sim, Graph = nx.Graph()):\n",
    "    #can be used both for range and point query\n",
    "    #set sim = -1 if input is a graph\n",
    "    if sim == -1:#used by range function entropy_range\n",
    "        freq = clt.Counter(getSize(Graph))\n",
    "    else:#used individually\n",
    "        freq = clt.Counter(getSize(cluster_fast(sim)))\n",
    "    sum = 0\n",
    "    N = len(GC.nodes())\n",
    "    for item in freq:\n",
    "        P = item*freq[item]/N\n",
    "        sum += -1*P*math.log10(P) # P is the probability of a cluster having a particular size X (X = item in this case)\n",
    "    return sum\n",
    "\n",
    "def entropy_rangemax(sim_x):\n",
    "    #runs in linear time, but needs to be initialised from largest to smallest similarity\n",
    "    #takes in a range of values and adds edges individually from greatest to smallest similarity\n",
    "    #used for range query\n",
    "    #Different from entropy_range\n",
    "    #This returns the maximum entropy and the similarity value at which cluster entropy is maximum\n",
    "    pos = 0\n",
    "    GC_split = nx.Graph()\n",
    "    GC_split.add_nodes_from(GC.nodes())\n",
    "    edges = []\n",
    "    for u,v in GC.edges():\n",
    "        edges.append((GC[u][v]['similarity'],u,v))\n",
    "    edges.sort(reverse = True)\n",
    "    bestsim = -1\n",
    "    maxi = -1\n",
    "    for i1, sim in enumerate(sim_x):\n",
    "        for i in range(pos,len(edges)):\n",
    "            edgesim, u, v = edges[i]\n",
    "            if edgesim >= sim:\n",
    "                GC_split.add_edge(u,v)\n",
    "            else:\n",
    "                break\n",
    "        pos = i\n",
    "        x = clusterentropy(-1,GC_split)\n",
    "        if x > maxi:\n",
    "            maxi = x\n",
    "            bestsim = sim\n",
    "    return maxi,bestsim"
   ]
  },
  {
   "cell_type": "code",
   "execution_count": 19,
   "metadata": {},
   "outputs": [
    {
     "data": {
      "image/png": "[encoded data removed]",
      "text/plain": [
       "<Figure size 720x504 with 1 Axes>"
      ]
     },
     "metadata": {
      "needs_background": "light"
     },
     "output_type": "display_data"
    }
   ],
   "source": [
    "sim_x = [0.01*x for x in range(101)] \n",
    "sim_y = entropy_range(reversed(sim_x), True)\n",
    "max_y = max(sim_y)\n",
    "sim_y = [item/max_y for item in sim_y]\n",
    "sim_y1 = entropy_range(reversed(sim_x))\n",
    "max_y1 = max(sim_y1)\n",
    "sim_y1 = [item/max_y1 for item in sim_y1]\n",
    "#print(sim_y)\n",
    "#sim_x = 0.04*np.array(range(0,26))\n",
    "plt.title('Graph of Entropy of Network of Words against Threshold Similarity')\n",
    "plt.xlabel('Threshold Similarity')\n",
    "plt.ylabel('Entropy (Normalised)')\n",
    "plt.plot(sim_x,sim_y1, label = 'Cluster Entropy')\n",
    "plt.plot(sim_x,sim_y, label = 'Shannon Entropy')\n",
    "plt.legend()\n",
    "plt.savefig('Graph of Entropy of Network of Words against Threshold Similarity')\n",
    "plt.show()"
   ]
  },
  {
   "cell_type": "code",
   "execution_count": 20,
   "metadata": {},
   "outputs": [
    {
     "name": "stdout",
     "output_type": "stream",
     "text": [
      "Maximum Cluster Entropy: 0.654150694611884  when Similarity = 0.01\n",
      "Maximum Cluster Entropy: 0.9103653032342353  when Similarity = 0.012\n",
      "Maximum Cluster Entropy: 0.9134769110849205  when Similarity = 0.0118\n",
      "Maximum Cluster Entropy: 0.9134769110849205  when Similarity = 0.01183\n",
      "0.01183 0.9134769110849205\n"
     ]
    }
   ],
   "source": [
    "#Based on graph, calculate similarity that gives maximum certainty\n",
    "\n",
    "#Searches with precision of 0.01 in entire range of similarity from 0-1\n",
    "sim_x = [0.01*x for x in range(101)]#reversed\n",
    "maxi, sim = entropy_rangemax(reversed(sim_x))\n",
    "print(\"Maximum Cluster Entropy:\",maxi,\" when Similarity =\",sim)\n",
    "\n",
    "#Searches with precision of 0.001 within new range based on previous search\n",
    "sim_x = [0.001*x + sim for x in range(-10,10)]\n",
    "maxi, sim = entropy_rangemax(reversed(sim_x))\n",
    "print(\"Maximum Cluster Entropy:\",maxi,\" when Similarity =\",sim)\n",
    "\n",
    "#Searches with precision of 0.0001 within new range based on previous search (if needed)\n",
    "sim_x = [0.0001*x + sim for x in range(-10,10)]\n",
    "maxi, sim = entropy_rangemax(reversed(sim_x))\n",
    "print(\"Maximum Cluster Entropy:\",maxi,\" when Similarity =\",sim)\n",
    "\n",
    "#Searches with precision of 0.00001 within new range based on previous search (if needed)\n",
    "sim_x = [0.00001*x + sim for x in range(-10,10)]\n",
    "maxi, sim = entropy_rangemax(reversed(sim_x))\n",
    "print(\"Maximum Cluster Entropy:\",maxi,\" when Similarity =\",sim)\n",
    "#Therefore, optimal similarity value is determined to be 0.0593\n",
    "optsim = sim #this value is determined for when posScore = 75\n",
    "#when posScore = 83 at 50th percentile, optsim = 0.67\n",
    "print(optsim,maxi)"
   ]
  },
  {
   "cell_type": "code",
   "execution_count": 21,
   "metadata": {},
   "outputs": [],
   "source": [
    "DG = cluster(optsim)#disjointed graph (i.e. after removing edges with similarity < optsim )\n",
    "comp = components(DG)\n",
    "comp = [item for _,item in sorted([(len(x),x) for x in comp],reverse = True)]"
   ]
  },
  {
   "cell_type": "code",
   "execution_count": 22,
   "metadata": {},
   "outputs": [
    {
     "name": "stdout",
     "output_type": "stream",
     "text": [
      "[(327, 1), (119, 1), (83, 1), (50, 1), (44, 2), (41, 1), (40, 1), (39, 1), (30, 1), (28, 1), (26, 2), (24, 2), (23, 1), (22, 2), (21, 1), (18, 3), (17, 1), (16, 1), (15, 6), (14, 3), (13, 3), (12, 8), (11, 1), (10, 3), (9, 8), (8, 9), (7, 12), (6, 22), (5, 34), (4, 53), (3, 93), (2, 232), (1, 3349)]\n"
     ]
    }
   ],
   "source": [
    "tmp = clt.Counter(getSize(DG))\n",
    "print(sorted([(x,tmp[x]) for x in tmp], reverse = True))"
   ]
  },
  {
   "cell_type": "code",
   "execution_count": 23,
   "metadata": {},
   "outputs": [
    {
     "name": "stdout",
     "output_type": "stream",
     "text": [
      "41\n"
     ]
    }
   ],
   "source": [
    "print(len(comp[6]))"
   ]
  }
 ],
 "metadata": {
  "kernelspec": {
   "display_name": "Python 3",
   "language": "python",
   "name": "python3"
  },
  "language_info": {
   "codemirror_mode": {
    "name": "ipython",
    "version": 3
   },
   "file_extension": ".py",
   "mimetype": "text/x-python",
   "name": "python",
   "nbconvert_exporter": "python",
   "pygments_lexer": "ipython3",
   "version": "3.8.3"
  }
 },
 "nbformat": 4,
 "nbformat_minor": 4
}

{
 "cells": [
  {
   "cell_type": "markdown",
   "metadata": {},
   "source": [
    "# Network of Words"
   ]
  },
  {
   "cell_type": "code",
   "execution_count": 31,
   "metadata": {},
   "outputs": [],
   "source": [
    "from nltk.sentiment.vader import SentimentIntensityAnalyzer\n",
    "from nltk import word_tokenize,sent_tokenize,Text,PorterStemmer,WordNetLemmatizer,pos_tag\n",
    "from nltk.corpus import stopwords\n",
    "import pandas as pd\n",
    "import numpy as np\n",
    "import networkx as nx\n",
    "import math\n",
    "import matplotlib.pyplot as plt\n",
    "import spacy\n",
    "from spellchecker import SpellChecker\n",
    "import collections as clt\n",
    "import time\n",
    "from community import best_partition\n",
    "import pickle\n",
    "import math\n",
    "import re\n",
    "from sklearn.feature_extraction.text import CountVectorizer, TfidfTransformer"
   ]
  },
  {
   "cell_type": "code",
   "execution_count": 1,
   "metadata": {},
   "outputs": [],
   "source": [
    "def preprocess_text(text):\n",
    "    text = text.lower()\n",
    "    text = re.sub('&lt;/?.*?&gt;',' &lt;&gt; ', text)\n",
    "    text = re.sub('(\\\\d|\\\\W)+',' ',text)\n",
    "    return text"
   ]
  },
  {
   "cell_type": "code",
   "execution_count": 60,
   "metadata": {},
   "outputs": [
    {
     "data": {
      "text/html": [
       "<div>\n",
       "<style scoped>\n",
       "    .dataframe tbody tr th:only-of-type {\n",
       "        vertical-align: middle;\n",
       "    }\n",
       "\n",
       "    .dataframe tbody tr th {\n",
       "        vertical-align: top;\n",
       "    }\n",
       "\n",
       "    .dataframe thead th {\n",
       "        text-align: right;\n",
       "    }\n",
       "</style>\n",
       "<table border=\"1\" class=\"dataframe\">\n",
       "  <thead>\n",
       "    <tr style=\"text-align: right;\">\n",
       "      <th></th>\n",
       "      <th>User</th>\n",
       "      <th>Date</th>\n",
       "      <th>Year</th>\n",
       "      <th>Month</th>\n",
       "      <th>Release</th>\n",
       "      <th>Band</th>\n",
       "      <th>Score</th>\n",
       "      <th>Link</th>\n",
       "      <th>Album_link</th>\n",
       "      <th>Review_title</th>\n",
       "      <th>Genre</th>\n",
       "      <th>Text</th>\n",
       "      <th>Sentiment</th>\n",
       "    </tr>\n",
       "  </thead>\n",
       "  <tbody>\n",
       "    <tr>\n",
       "      <th>0</th>\n",
       "      <td>SpookyApparition</td>\n",
       "      <td>July 11 2002</td>\n",
       "      <td>2002</td>\n",
       "      <td>7</td>\n",
       "      <td>Chaosphere</td>\n",
       "      <td>Meshuggah</td>\n",
       "      <td>82</td>\n",
       "      <td>https://www.metal-archives.com/reviews/Meshugg...</td>\n",
       "      <td>https://www.metal-archives.com/albums/Meshugga...</td>\n",
       "      <td>Technical metal at it's finest.</td>\n",
       "      <td>technical thrash metal|math metal|progressive ...</td>\n",
       "      <td>I originally bought Chaosphere in late 2000......</td>\n",
       "      <td>0.9728</td>\n",
       "    </tr>\n",
       "    <tr>\n",
       "      <th>1</th>\n",
       "      <td>SpookyApparition</td>\n",
       "      <td>July 14 2002</td>\n",
       "      <td>2002</td>\n",
       "      <td>7</td>\n",
       "      <td>Necroticism_-_Descanting_the_Insalubrious</td>\n",
       "      <td>Carcass</td>\n",
       "      <td>88</td>\n",
       "      <td>https://www.metal-archives.com/reviews/Carcass...</td>\n",
       "      <td>https://www.metal-archives.com/albums/Carcass/...</td>\n",
       "      <td>Carcass at their finest.</td>\n",
       "      <td>grindcore|melodic death metal</td>\n",
       "      <td>A midpoint between Carcass' early grind albums...</td>\n",
       "      <td>0.8479</td>\n",
       "    </tr>\n",
       "    <tr>\n",
       "      <th>2</th>\n",
       "      <td>MarkRyan</td>\n",
       "      <td>July 15 2002</td>\n",
       "      <td>2002</td>\n",
       "      <td>7</td>\n",
       "      <td>Angels_Fall_First</td>\n",
       "      <td>Nightwish</td>\n",
       "      <td>90</td>\n",
       "      <td>https://www.metal-archives.com/reviews/Nightwi...</td>\n",
       "      <td>https://www.metal-archives.com/albums/Nightwis...</td>\n",
       "      <td>On par with their other stuff...</td>\n",
       "      <td>symphonic power metal</td>\n",
       "      <td>I'm not hard-core into metal at all, really, b...</td>\n",
       "      <td>0.9951</td>\n",
       "    </tr>\n",
       "    <tr>\n",
       "      <th>3</th>\n",
       "      <td>Fear</td>\n",
       "      <td>July 16 2002</td>\n",
       "      <td>2002</td>\n",
       "      <td>7</td>\n",
       "      <td>Dark_Genesis</td>\n",
       "      <td>Iced_Earth</td>\n",
       "      <td>87</td>\n",
       "      <td>https://www.metal-archives.com/reviews/Iced_Ea...</td>\n",
       "      <td>https://www.metal-archives.com/albums/Iced_Ear...</td>\n",
       "      <td>Brilliance in Repackaging</td>\n",
       "      <td>heavy metal|us power metal</td>\n",
       "      <td>This is not a new album, but in fact, five alb...</td>\n",
       "      <td>0.9976</td>\n",
       "    </tr>\n",
       "    <tr>\n",
       "      <th>4</th>\n",
       "      <td>Demented666</td>\n",
       "      <td>July 18 2002</td>\n",
       "      <td>2002</td>\n",
       "      <td>7</td>\n",
       "      <td>Extension_of_the_Wish</td>\n",
       "      <td>Andromeda</td>\n",
       "      <td>100</td>\n",
       "      <td>https://www.metal-archives.com/reviews/Androme...</td>\n",
       "      <td>https://www.metal-archives.com/albums/Andromed...</td>\n",
       "      <td>A smashing debut.</td>\n",
       "      <td>progressive metal</td>\n",
       "      <td>Andromeda's Extension of the Wish- clearly one...</td>\n",
       "      <td>0.8619</td>\n",
       "    </tr>\n",
       "    <tr>\n",
       "      <th>...</th>\n",
       "      <td>...</td>\n",
       "      <td>...</td>\n",
       "      <td>...</td>\n",
       "      <td>...</td>\n",
       "      <td>...</td>\n",
       "      <td>...</td>\n",
       "      <td>...</td>\n",
       "      <td>...</td>\n",
       "      <td>...</td>\n",
       "      <td>...</td>\n",
       "      <td>...</td>\n",
       "      <td>...</td>\n",
       "      <td>...</td>\n",
       "    </tr>\n",
       "    <tr>\n",
       "      <th>64636</th>\n",
       "      <td>TheStormIRide</td>\n",
       "      <td>June 30 2017</td>\n",
       "      <td>2017</td>\n",
       "      <td>6</td>\n",
       "      <td>Flying_Above_Ancient_Ruins</td>\n",
       "      <td>Krolok</td>\n",
       "      <td>85</td>\n",
       "      <td>https://www.metal-archives.com/reviews/Krolok/...</td>\n",
       "      <td>https://www.metal-archives.com/albums/Krolok/F...</td>\n",
       "      <td>Feverish Nightmares of Yore</td>\n",
       "      <td>atmospheric black metal</td>\n",
       "      <td>Formed in 2011 by HV, Krolok is an atmospheric...</td>\n",
       "      <td>0.5875</td>\n",
       "    </tr>\n",
       "    <tr>\n",
       "      <th>64637</th>\n",
       "      <td>6CORPSE6GRINDER6</td>\n",
       "      <td>June 30 2017</td>\n",
       "      <td>2017</td>\n",
       "      <td>6</td>\n",
       "      <td>Chemical_Assault</td>\n",
       "      <td>Violator</td>\n",
       "      <td>85</td>\n",
       "      <td>https://www.metal-archives.com/reviews/Violato...</td>\n",
       "      <td>https://www.metal-archives.com/albums/Violator...</td>\n",
       "      <td>Take your life back, in the pit!</td>\n",
       "      <td>thrash metal</td>\n",
       "      <td>I don't have any issues with the retro-thrash ...</td>\n",
       "      <td>0.9976</td>\n",
       "    </tr>\n",
       "    <tr>\n",
       "      <th>64638</th>\n",
       "      <td>6CORPSE6GRINDER6</td>\n",
       "      <td>June 30 2017</td>\n",
       "      <td>2017</td>\n",
       "      <td>6</td>\n",
       "      <td>Violent_Mosh</td>\n",
       "      <td>Violator</td>\n",
       "      <td>80</td>\n",
       "      <td>https://www.metal-archives.com/reviews/Violato...</td>\n",
       "      <td>https://www.metal-archives.com/albums/Violator...</td>\n",
       "      <td>Officers are dirtier than the criminals they c...</td>\n",
       "      <td>thrash metal</td>\n",
       "      <td>This band was so important for the thrash meta...</td>\n",
       "      <td>0.9911</td>\n",
       "    </tr>\n",
       "    <tr>\n",
       "      <th>64639</th>\n",
       "      <td>Wacke</td>\n",
       "      <td>June 30 2017</td>\n",
       "      <td>2017</td>\n",
       "      <td>6</td>\n",
       "      <td>Resurrection</td>\n",
       "      <td>Chimaira</td>\n",
       "      <td>89</td>\n",
       "      <td>https://www.metal-archives.com/reviews/Chimair...</td>\n",
       "      <td>https://www.metal-archives.com/albums/Chimaira...</td>\n",
       "      <td>What doesn't kill us makes us stronger.</td>\n",
       "      <td>hard rock</td>\n",
       "      <td>Chimaira is arguably the most overlooked and/o...</td>\n",
       "      <td>0.9947</td>\n",
       "    </tr>\n",
       "    <tr>\n",
       "      <th>64640</th>\n",
       "      <td>TheKilla</td>\n",
       "      <td>June 30 2017</td>\n",
       "      <td>2017</td>\n",
       "      <td>6</td>\n",
       "      <td>Born_Again</td>\n",
       "      <td>Black_Sabbath</td>\n",
       "      <td>98</td>\n",
       "      <td>https://www.metal-archives.com/reviews/Black_S...</td>\n",
       "      <td>https://www.metal-archives.com/albums/Black_Sa...</td>\n",
       "      <td>The Final Classic Album From A Born Again Band</td>\n",
       "      <td>hard rock</td>\n",
       "      <td>Recently I purchased (or actually re-re-re-pur...</td>\n",
       "      <td>0.9961</td>\n",
       "    </tr>\n",
       "  </tbody>\n",
       "</table>\n",
       "<p>64641 rows × 13 columns</p>\n",
       "</div>"
      ],
      "text/plain": [
       "                   User          Date  Year  Month  \\\n",
       "0      SpookyApparition  July 11 2002  2002      7   \n",
       "1      SpookyApparition  July 14 2002  2002      7   \n",
       "2              MarkRyan  July 15 2002  2002      7   \n",
       "3                  Fear  July 16 2002  2002      7   \n",
       "4           Demented666  July 18 2002  2002      7   \n",
       "...                 ...           ...   ...    ...   \n",
       "64636     TheStormIRide  June 30 2017  2017      6   \n",
       "64637  6CORPSE6GRINDER6  June 30 2017  2017      6   \n",
       "64638  6CORPSE6GRINDER6  June 30 2017  2017      6   \n",
       "64639             Wacke  June 30 2017  2017      6   \n",
       "64640          TheKilla  June 30 2017  2017      6   \n",
       "\n",
       "                                         Release           Band  Score  \\\n",
       "0                                     Chaosphere      Meshuggah     82   \n",
       "1      Necroticism_-_Descanting_the_Insalubrious        Carcass     88   \n",
       "2                              Angels_Fall_First      Nightwish     90   \n",
       "3                                   Dark_Genesis     Iced_Earth     87   \n",
       "4                          Extension_of_the_Wish      Andromeda    100   \n",
       "...                                          ...            ...    ...   \n",
       "64636                 Flying_Above_Ancient_Ruins         Krolok     85   \n",
       "64637                           Chemical_Assault       Violator     85   \n",
       "64638                               Violent_Mosh       Violator     80   \n",
       "64639                               Resurrection       Chimaira     89   \n",
       "64640                                 Born_Again  Black_Sabbath     98   \n",
       "\n",
       "                                                    Link  \\\n",
       "0      https://www.metal-archives.com/reviews/Meshugg...   \n",
       "1      https://www.metal-archives.com/reviews/Carcass...   \n",
       "2      https://www.metal-archives.com/reviews/Nightwi...   \n",
       "3      https://www.metal-archives.com/reviews/Iced_Ea...   \n",
       "4      https://www.metal-archives.com/reviews/Androme...   \n",
       "...                                                  ...   \n",
       "64636  https://www.metal-archives.com/reviews/Krolok/...   \n",
       "64637  https://www.metal-archives.com/reviews/Violato...   \n",
       "64638  https://www.metal-archives.com/reviews/Violato...   \n",
       "64639  https://www.metal-archives.com/reviews/Chimair...   \n",
       "64640  https://www.metal-archives.com/reviews/Black_S...   \n",
       "\n",
       "                                              Album_link  \\\n",
       "0      https://www.metal-archives.com/albums/Meshugga...   \n",
       "1      https://www.metal-archives.com/albums/Carcass/...   \n",
       "2      https://www.metal-archives.com/albums/Nightwis...   \n",
       "3      https://www.metal-archives.com/albums/Iced_Ear...   \n",
       "4      https://www.metal-archives.com/albums/Andromed...   \n",
       "...                                                  ...   \n",
       "64636  https://www.metal-archives.com/albums/Krolok/F...   \n",
       "64637  https://www.metal-archives.com/albums/Violator...   \n",
       "64638  https://www.metal-archives.com/albums/Violator...   \n",
       "64639  https://www.metal-archives.com/albums/Chimaira...   \n",
       "64640  https://www.metal-archives.com/albums/Black_Sa...   \n",
       "\n",
       "                                            Review_title  \\\n",
       "0                        Technical metal at it's finest.   \n",
       "1                               Carcass at their finest.   \n",
       "2                       On par with their other stuff...   \n",
       "3                              Brilliance in Repackaging   \n",
       "4                                      A smashing debut.   \n",
       "...                                                  ...   \n",
       "64636                        Feverish Nightmares of Yore   \n",
       "64637                   Take your life back, in the pit!   \n",
       "64638  Officers are dirtier than the criminals they c...   \n",
       "64639            What doesn't kill us makes us stronger.   \n",
       "64640     The Final Classic Album From A Born Again Band   \n",
       "\n",
       "                                                   Genre  \\\n",
       "0      technical thrash metal|math metal|progressive ...   \n",
       "1                          grindcore|melodic death metal   \n",
       "2                                  symphonic power metal   \n",
       "3                             heavy metal|us power metal   \n",
       "4                                      progressive metal   \n",
       "...                                                  ...   \n",
       "64636                            atmospheric black metal   \n",
       "64637                                       thrash metal   \n",
       "64638                                       thrash metal   \n",
       "64639                                          hard rock   \n",
       "64640                                          hard rock   \n",
       "\n",
       "                                                    Text  Sentiment  \n",
       "0      I originally bought Chaosphere in late 2000......     0.9728  \n",
       "1      A midpoint between Carcass' early grind albums...     0.8479  \n",
       "2      I'm not hard-core into metal at all, really, b...     0.9951  \n",
       "3      This is not a new album, but in fact, five alb...     0.9976  \n",
       "4      Andromeda's Extension of the Wish- clearly one...     0.8619  \n",
       "...                                                  ...        ...  \n",
       "64636  Formed in 2011 by HV, Krolok is an atmospheric...     0.5875  \n",
       "64637  I don't have any issues with the retro-thrash ...     0.9976  \n",
       "64638  This band was so important for the thrash meta...     0.9911  \n",
       "64639  Chimaira is arguably the most overlooked and/o...     0.9947  \n",
       "64640  Recently I purchased (or actually re-re-re-pur...     0.9961  \n",
       "\n",
       "[64641 rows x 13 columns]"
      ]
     },
     "execution_count": 60,
     "metadata": {},
     "output_type": "execute_result"
    }
   ],
   "source": [
    "df = pd.read_csv('reviews_full_v5.csv')\n",
    "df = df[df['Score'] >= 75]\n",
    "plt.rcParams[\"figure.figsize\"] = (10,7) #defining size of plots\n",
    "sp = spacy.load('en_core_web_sm')\n",
    "df.reset_index(drop=True, inplace=True)\n",
    "df"
   ]
  },
  {
   "cell_type": "code",
   "execution_count": 61,
   "metadata": {},
   "outputs": [
    {
     "data": {
      "text/plain": [
       "'i originally bought chaosphere in late and hated it i could rarely sit through the entire album and regretted paying for it all of the songs sounded the same without any variation but as time has passed i ve grown to appreciate it more and more the technicality is truly astounding outshining by and large the entire metal genre thordendahl and haake are among the top performers at their respective instruments guitars drums and the remaining members are more than competent the bass playing is more evident than on most metal albums and along with the guitars it creates one huge crunching rhythm while haake often blasts away in a different time signature on his kit kidman s vocal lines tie in with the music better than just about any album i can think of although i can t describe it as well as i would like he stresses syllables on words on certain drum hits and lots of small things like that which make for a very technical vocal performance something not often seen in extreme metal and last but not least perhaps the most impressive part of the album are thordendahl s absolutely impossibe out of this world fusion esque leads they create a climax for each song and don t feel out of place or tacky if you play guitar or have knowledge of how it is played listening to these leads is reason enough to buy the album '"
      ]
     },
     "execution_count": 61,
     "metadata": {},
     "output_type": "execute_result"
    }
   ],
   "source": [
    "preprocess_text(df['Text'][0])"
   ]
  },
  {
   "cell_type": "code",
   "execution_count": 69,
   "metadata": {},
   "outputs": [],
   "source": [
    "def isNaN(x):\n",
    "    return x != x"
   ]
  },
  {
   "cell_type": "code",
   "execution_count": 7,
   "metadata": {},
   "outputs": [],
   "source": [
    "genre_group = pickle.load(open('genre_group.p','rb'))"
   ]
  },
  {
   "cell_type": "code",
   "execution_count": null,
   "metadata": {},
   "outputs": [],
   "source": [
    "B = nx.Graph()\n",
    "#stemmer = PorterStemmer() #faster\n",
    "#stemmer = WordNetLemmatizer() #slower but more accurate\n",
    "vocab = set()\n",
    "a = time.time()\n",
    "spell = SpellChecker()\n",
    "N_albums = len(set(df.Release))\n",
    "all_stopwords = sp.Defaults.stop_words\n",
    "tf = {}\n",
    "for index, row in df.iterrows():\n",
    "    if index%5000 == 0:\n",
    "        print(index, time.time()-a)\n",
    "    text = pos_tag(word_tokenize(row['Review_title'] + ' ' + row['Text']))#both title and text\n",
    "    album = row['Release'] + 'A'\n",
    "    if isNaN(row['Genre']):\n",
    "        genres = []\n",
    "    else:\n",
    "        genres = list({genre_group[item] for item in row['Genre'].split('|')})\n",
    "    #print(text)\n",
    "    #print(genres)\n",
    "    for word,tag in text:\n",
    "        #print(word)\n",
    "        word = word.lower()\n",
    "        if word.isalpha() and len(word) > 4 and len(word) < 15 and tag == 'JJ' and word not in all_stopwords and len(spell.unknown([word])) == 0:\n",
    "            if not B.has_edge(album, word):\n",
    "                B.add_edge(album, word, weight = 1)\n",
    "            else:\n",
    "                B[album][word]['weight'] += 1\n",
    "            vocab.add(word)\n",
    "            for genre in genres:\n",
    "                if genre not in tf:\n",
    "                    tf[genre] = {}\n",
    "                if word not in tf[genre]:\n",
    "                    tf[genre][word] = 1\n",
    "                else:\n",
    "                    tf[genre][word] += 1\n",
    "print(B.number_of_nodes(), B.number_of_edges(),time.time()-a)"
   ]
  },
  {
   "cell_type": "code",
   "execution_count": null,
   "metadata": {},
   "outputs": [],
   "source": [
    "G = nx.Graph() #eliminates lone words\n",
    "for word in vocab:\n",
    "    for album in B.adj[word]:\n",
    "        for word1 in B.adj[album]:\n",
    "            if word < word1: #order is important to avoid repeats\n",
    "                if not G.has_edge(word,word1):\n",
    "                    G.add_edge(word, word1, weight = 0)\n",
    "                G[word][word1]['weight'] += 1"
   ]
  },
  {
   "cell_type": "raw",
   "metadata": {},
   "source": [
    "for i,row in df.iterrows():\n",
    "    words = word_tokenize"
   ]
  },
  {
   "cell_type": "raw",
   "metadata": {},
   "source": [
    "words = set()\n",
    "vocab_words = set()\n",
    "for word in word_tokenize(df['Text'][0]):\n",
    "    if word.isalpha():\n",
    "        words.add(word)\n",
    "    if word in vocab:\n",
    "        vocab_words.add(word)\n",
    "len(word_tokenize(df['Text'][0])), len(words), len(vocab_words)\n",
    "'''for word in words:\n",
    "    if word not in vocab_words:\n",
    "        print(word)'''\n",
    "for word in vocab_words:\n",
    "    print(word)"
   ]
  },
  {
   "cell_type": "code",
   "execution_count": 5,
   "metadata": {},
   "outputs": [],
   "source": [
    "#nx.write_gpickle(B,'bipartite_wordsv3.p')\n",
    "#nx.write_gpickle(G,'network_wordsv3.p')"
   ]
  },
  {
   "cell_type": "raw",
   "metadata": {},
   "source": [
    "f = open('vocab_list.txt', 'w')\n",
    "for word in vocab:\n",
    "    f.write(word)\n",
    "    f.write('\\n')\n",
    "f.close()"
   ]
  },
  {
   "cell_type": "code",
   "execution_count": 7,
   "metadata": {},
   "outputs": [],
   "source": [
    "vocab = set(open('vocab_list.txt', 'r').read().split('\\n'))"
   ]
  },
  {
   "cell_type": "code",
   "execution_count": 8,
   "metadata": {},
   "outputs": [],
   "source": [
    "G = nx.read_gpickle('network_wordsv2.p')\n",
    "B = nx.read_gpickle('bipartite_wordsv2.p')"
   ]
  },
  {
   "cell_type": "code",
   "execution_count": 9,
   "metadata": {},
   "outputs": [
    {
     "data": {
      "text/plain": [
       "(16033, 45464, 16034)"
      ]
     },
     "execution_count": 9,
     "metadata": {},
     "output_type": "execute_result"
    }
   ],
   "source": [
    "G.number_of_nodes(), B.number_of_nodes(), len(vocab)"
   ]
  },
  {
   "cell_type": "code",
   "execution_count": 10,
   "metadata": {},
   "outputs": [
    {
     "data": {
      "text/plain": [
       "29430"
      ]
     },
     "execution_count": 10,
     "metadata": {},
     "output_type": "execute_result"
    }
   ],
   "source": [
    "N_albums = B.number_of_nodes() - len(vocab)\n",
    "N_albums"
   ]
  },
  {
   "cell_type": "code",
   "execution_count": 11,
   "metadata": {},
   "outputs": [
    {
     "data": {
      "text/plain": [
       "40241"
      ]
     },
     "execution_count": 11,
     "metadata": {},
     "output_type": "execute_result"
    }
   ],
   "source": [
    "len(set(df.Release))"
   ]
  },
  {
   "cell_type": "raw",
   "metadata": {},
   "source": [
    "idf = {word:math.log2(N_albums/B.degree[word]) for word in G.nodes()} # for each album"
   ]
  },
  {
   "cell_type": "code",
   "execution_count": 75,
   "metadata": {},
   "outputs": [],
   "source": [
    "idf = pickle.load(open('IDF.p','rb'))\n",
    "tf = pickle.load(open('TF.p','rb'))"
   ]
  },
  {
   "cell_type": "code",
   "execution_count": 35,
   "metadata": {},
   "outputs": [],
   "source": [
    "'''idf = {} # for genre\n",
    "for item in tf:\n",
    "    for word in tf[item]:\n",
    "        if word not in idf:\n",
    "            idf[word] = 1\n",
    "        else:\n",
    "            idf[word] += 1\n",
    "for word in idf:\n",
    "    idf[word] = math.log(len(genre_group)/idf[word])'''"
   ]
  },
  {
   "cell_type": "raw",
   "metadata": {},
   "source": [
    "pickle.dump(idf, open('IDF.p','wb'))\n",
    "pickle.dump(tf, open('TF.p','wb'))"
   ]
  },
  {
   "cell_type": "code",
   "execution_count": 76,
   "metadata": {},
   "outputs": [],
   "source": [
    "tfidf = {}\n",
    "genres = set(genre_group.values())\n",
    "for genre in genres:\n",
    "    total = 0\n",
    "    tfidf[genre] = {}\n",
    "    for word in tf[genre]:\n",
    "        total += tf[genre][word]\n",
    "    for word in tf[genre]:\n",
    "        tfidf[genre][word] = (tf[genre][word] / total) * idf[word]"
   ]
  },
  {
   "cell_type": "code",
   "execution_count": 71,
   "metadata": {},
   "outputs": [
    {
     "data": {
      "image/png": "[encoded data removed]",
      "text/plain": [
       "<Figure size 720x504 with 1 Axes>"
      ]
     },
     "metadata": {
      "needs_background": "light"
     },
     "output_type": "display_data"
    }
   ],
   "source": [
    "plt.title('Term Frequency - Inverse Document Frequency for Black Metal')\n",
    "plt.ylabel('TF-IDF')\n",
    "plt.xlabel('Words')\n",
    "plt.plot(sorted(list(tfidf['Black metal'].values())))\n",
    "plt.savefig('TF-IDF of Black Metal.png')"
   ]
  },
  {
   "cell_type": "code",
   "execution_count": 52,
   "metadata": {},
   "outputs": [],
   "source": [
    "tmp = sorted(list(tfidf['Black metal'].values()))"
   ]
  },
  {
   "cell_type": "code",
   "execution_count": 42,
   "metadata": {},
   "outputs": [],
   "source": [
    "def fragment(inp):\n",
    "    inp = sorted(inp)\n",
    "    total = sum(inp)\n",
    "    return -1*sum([(x/total)*math.log(x/total) for x in inp])"
   ]
  },
  {
   "cell_type": "code",
   "execution_count": 49,
   "metadata": {},
   "outputs": [
    {
     "data": {
      "text/plain": [
       "1.666332585328325"
      ]
     },
     "execution_count": 49,
     "metadata": {},
     "output_type": "execute_result"
    }
   ],
   "source": [
    "fragment([1,1,1,1,1,1,5])"
   ]
  },
  {
   "cell_type": "code",
   "execution_count": 73,
   "metadata": {},
   "outputs": [
    {
     "data": {
      "image/png": "[encoded data removed]",
      "text/plain": [
       "<Figure size 720x504 with 1 Axes>"
      ]
     },
     "metadata": {
      "needs_background": "light"
     },
     "output_type": "display_data"
    }
   ],
   "source": [
    "plt.title('Fragmentation of Term Frequency - Inverse Document Frequency for Black Metal')\n",
    "plt.ylabel('Entropy')\n",
    "plt.xlabel('Words')\n",
    "plt.plot([fragment(tmp[:x+1]) for x in range(len(tmp))])\n",
    "plt.show()\n",
    "#find maximum"
   ]
  },
  {
   "cell_type": "code",
   "execution_count": 77,
   "metadata": {},
   "outputs": [
    {
     "name": "stdout",
     "output_type": "stream",
     "text": [
      "['heavy', 'melodic', 'excellent', 'great', 'early', 'unique', 'black', 'overall', 'atmospheric', 'musical', 'different', 'extreme', 'ambient', 'entire', 'strong', 'clear', 'harsh', 'simple', 'clean', 'original', 'vocal', 'second', 'similar', 'little', 'previous', 'short', 'powerful', 'acoustic', 'interesting', 'beautiful', 'album', 'norwegian', 'perfect', 'symphonic', 'depressive']\n"
     ]
    }
   ],
   "source": [
    "genre = 'Black metal'\n",
    "print([key for key in tfidf[genre] if tfidf[genre][key] > 0.01])"
   ]
  },
  {
   "cell_type": "code",
   "execution_count": 62,
   "metadata": {},
   "outputs": [
    {
     "data": {
      "text/plain": [
       "(0.8403579413442236, 2.1461568355093625, 7431, 1207)"
      ]
     },
     "execution_count": 62,
     "metadata": {},
     "output_type": "execute_result"
    }
   ],
   "source": [
    "idf['great'], idf['technical'], tf['Black metal']['great'], tf['Black metal']['technical']"
   ]
  },
  {
   "cell_type": "code",
   "execution_count": 39,
   "metadata": {},
   "outputs": [
    {
     "name": "stdout",
     "output_type": "stream",
     "text": [
      "['entire', 'different', 'vocal', 'technical', 'extreme', 'impressive', 'thrash', 'great', 'melodic', 'pretty', 'catchy', 'short', 'acoustic', 'classic', 'early', 'heavy', 'perfect', 'similar', 'little', 'awesome', 'previous', 'right', 'metal', 'original', 'brutal', 'intense', 'excellent', 'second', 'aggressive', 'instrumental', 'german', 'overall', 'unique', 'progressive', 'modern', 'clean', 'black', 'album', 'single', 'interesting', 'amazing', 'memorable', 'musical', 'strong', 'solid', 'simple', 'clear', 'powerful', 'favorite']\n"
     ]
    }
   ],
   "source": [
    "genre = 'Thrash metal'\n",
    "print([key for key in tfidf[genre] if tfidf[genre][key] > 0.01])"
   ]
  },
  {
   "cell_type": "code",
   "execution_count": 32,
   "metadata": {},
   "outputs": [
    {
     "name": "stdout",
     "output_type": "stream",
     "text": [
      "['entire', 'different', 'vocal', 'technical', 'impressive', 'progressive', 'excellent', 'brilliant', 'melodic', 'unique', 'short', 'overall', 'strong', 'second', 'incredible', 'great', 'beautiful', 'fantastic', 'catchy', 'previous', 'metal', 'simple', 'instrumental', 'perfect', 'awesome', 'clean', 'powerful', 'little', 'single', 'heavy', 'amazing', 'emotional', 'acoustic', 'favorite', 'interesting', 'solid', 'similar', 'album', 'original', 'complex', 'memorable', 'classic', 'musical', 'atmospheric', 'modern']\n"
     ]
    }
   ],
   "source": [
    "genre = 'Progressive metal'\n",
    "print([key for key in tfidf[genre] if tfidf[genre][key] > 0.01])"
   ]
  },
  {
   "cell_type": "code",
   "execution_count": 17,
   "metadata": {},
   "outputs": [
    {
     "name": "stdout",
     "output_type": "stream",
     "text": [
      "['unique', 'favorite', 'different', 'metal', 'catchy', 'short', 'early', 'great', 'vocal', 'single', 'amazing', 'heavy', 'clean', 'emotional', 'acoustic', 'interesting', 'finnish', 'powerful', 'traditional', 'perfect', 'entire', 'folky', 'strong', 'progressive', 'symphonic', 'female', 'original', 'atmospheric', 'black', 'instrumental', 'beautiful', 'musical', 'excellent', 'melodic', 'previous', 'similar', 'album', 'overall', 'second', 'irish', 'little', 'pagan', 'harsh', 'electric', 'simple']\n"
     ]
    }
   ],
   "source": [
    "genre = 'Folk metal'\n",
    "print([key for key in tfidf[genre] if tfidf[genre][key] > 0.01])"
   ]
  },
  {
   "cell_type": "code",
   "execution_count": 33,
   "metadata": {},
   "outputs": [
    {
     "name": "stdout",
     "output_type": "stream",
     "text": [
      "['second', 'original', 'heavy', 'melodic', 'vocal', 'single', 'unique', 'little', 'great', 'favorite', 'previous', 'powerful', 'industrial', 'strong', 'clean', 'amazing', 'early', 'electronic', 'excellent', 'memorable', 'perfect', 'short', 'different', 'symphonic', 'overall', 'interesting', 'gothic', 'beautiful', 'progressive', 'album', 'catchy', 'harsh', 'draconian', 'female', 'emotional', 'atmospheric', 'operatic', 'acoustic', 'instrumental', 'similar', 'clear', 'black', 'simple', 'entire', 'musical', 'special', 'melancholic']\n"
     ]
    }
   ],
   "source": [
    "genre = 'Gothic metal'\n",
    "print([key for key in tfidf[genre] if tfidf[genre][key] > 0.01])"
   ]
  },
  {
   "cell_type": "code",
   "execution_count": 34,
   "metadata": {},
   "outputs": [
    {
     "name": "stdout",
     "output_type": "stream",
     "text": [
      "['little', 'black', 'similar', 'atmospheric', 'original', 'musical', 'heavy', 'psychedelic', 'short', 'early', 'vocal', 'melodic', 'perfect', 'unique', 'great', 'second', 'classic', 'single', 'clean', 'powerful', 'strong', 'overall', 'different', 'instrumental', 'interesting', 'excellent', 'previous', 'entire', 'beautiful', 'melancholic', 'traditional', 'album', 'emotional', 'acoustic', 'depressive', 'massive', 'simple', 'clear', 'female', 'gothic', 'funeral']\n"
     ]
    }
   ],
   "source": [
    "genre = 'Doom metal'\n",
    "print([key for key in tfidf[genre] if tfidf[genre][key] > 0.01])"
   ]
  },
  {
   "cell_type": "raw",
   "metadata": {},
   "source": [
    "df = pd.read_csv('reviewsv7.csv')\n",
    "mp = {}\n",
    "for index, row in df.iterrows():\n",
    "    mp[(row['User'], row['Release'])] = (row['Text'],row['Sentiment'])\n",
    "\n",
    "df = pd.read_csv('reviews_full_v3.csv')\n",
    "text = []\n",
    "senti = []\n",
    "for index, row in df.iterrows():\n",
    "    if (row['User'], row['Release']) in mp:\n",
    "        text.append(mp[(row['User'], row['Release'])][0])\n",
    "        senti.append(mp[(row['User'], row['Release'])][1])\n",
    "    else:\n",
    "        text.append(np.nan)\n",
    "        senti.append(np.nan)\n",
    "df['Text'] = text\n",
    "df['Sentiment'] = senti\n",
    "df.to_csv('reviews_full_v4.csv', index = False)"
   ]
  },
  {
   "cell_type": "markdown",
   "metadata": {},
   "source": [
    "network of words based on same album/genre/review\n",
    "network of words based on same sentence \n",
    "network of bigrams/trigrams "
   ]
  }
 ],
 "metadata": {
  "kernelspec": {
   "display_name": "Python 3",
   "language": "python",
   "name": "python3"
  },
  "language_info": {
   "codemirror_mode": {
    "name": "ipython",
    "version": 3
   },
   "file_extension": ".py",
   "mimetype": "text/x-python",
   "name": "python",
   "nbconvert_exporter": "python",
   "pygments_lexer": "ipython3",
   "version": "3.8.3"
  }
 },
 "nbformat": 4,
 "nbformat_minor": 4
}

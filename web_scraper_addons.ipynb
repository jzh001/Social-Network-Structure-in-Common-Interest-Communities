{
 "cells": [
  {
   "cell_type": "code",
   "execution_count": 1,
   "metadata": {
    "colab": {},
    "colab_type": "code",
    "id": "Cv_9BXfXdJqG"
   },
   "outputs": [],
   "source": [
    "import requests\n",
    "import pandas as pd\n",
    "from bs4 import BeautifulSoup\n",
    "import numpy as np"
   ]
  },
  {
   "cell_type": "code",
   "execution_count": 12,
   "metadata": {
    "colab": {},
    "colab_type": "code",
    "id": "NmjjvMeWdJqK"
   },
   "outputs": [],
   "source": [
    "df = pd.read_csv('reviews_full_v4.csv')"
   ]
  },
  {
   "cell_type": "code",
   "execution_count": 17,
   "metadata": {},
   "outputs": [
    {
     "data": {
      "text/plain": [
       "3772"
      ]
     },
     "execution_count": 17,
     "metadata": {},
     "output_type": "execute_result"
    }
   ],
   "source": [
    "list(df['Text']).count(np.nan)"
   ]
  },
  {
   "cell_type": "code",
   "execution_count": 4,
   "metadata": {
    "colab": {},
    "colab_type": "code",
    "id": "hj_C5n7-dJqQ"
   },
   "outputs": [],
   "source": [
    "url = 'https://www.metal-archives.com/reviews/Iced_Earth/Dark_Genesis/2/Fear/21'"
   ]
  },
  {
   "cell_type": "code",
   "execution_count": 5,
   "metadata": {
    "colab": {},
    "colab_type": "code",
    "id": "Eio8RpMbdJqW"
   },
   "outputs": [],
   "source": [
    "r = requests.get(url)\n",
    "html_doc = r.content\n",
    "soup = BeautifulSoup(html_doc, 'html.parser')"
   ]
  },
  {
   "cell_type": "code",
   "execution_count": 6,
   "metadata": {
    "colab": {},
    "colab_type": "code",
    "id": "uDOeISd7dJqZ"
   },
   "outputs": [],
   "source": [
    "#print(soup.prettify())"
   ]
  },
  {
   "cell_type": "code",
   "execution_count": 7,
   "metadata": {
    "colab": {},
    "colab_type": "code",
    "id": "CIwXOXAtdJqb"
   },
   "outputs": [],
   "source": [
    "text = soup.find_all('p')[3].text.replace('\\n','')"
   ]
  },
  {
   "cell_type": "code",
   "execution_count": 8,
   "metadata": {
    "colab": {
     "base_uri": "https://localhost:8080/",
     "height": 54
    },
    "colab_type": "code",
    "id": "vUW2I3TAdJqe",
    "outputId": "454212a1-d988-4626-a54e-e90ce0d88342"
   },
   "outputs": [
    {
     "data": {
      "text/plain": [
       "'This is not a new album, but in fact, five albums, four of which are old material, remastered and repackaged. I bought it because I\\'m a big fan of Iced Earth, and wanted to get my hands on the cover album and the original demo. The demo itself contains different versions of songs we all know and love, while the other three re-released albums are wonderfully remastered. I bought this thinking that it would have Matt Barlow replacing the original vocals. It doesn\\'t. I was slightly saddened by this, but at the same time, glad they didn\\'t just throw away their past.For your information, the three remastered albums WILL be released individually, replacing the original versions. So, if you don\\'t own the first three Iced Earth albums, get them now before they\\'re gone. I\\'m not aware of the demo nor the cover album being sold individually, so if you want them, it would likely be best to go and buy this set.The covers album ranges from okay to awesome. It has a couple bands repeated in it, so there isn\\'t as much variety of bands covered as one would hope, but what is covered is done quite well. Songs like Kiss\\' \"God of Thunder\", Alice Cooper\\'s \"Dead Babies\" and Black Sabbath\\'s \"Black Sabbath\" have a difinitively new sound to them (though I still think the best version of Black Sabbath I\\'ve ever heard was Solstice of Suffering\\'s). Other songs hold true to the original sound. The most suprising band I heard on the album was probably AC/DC. I was also hoping for a cover of a Metallica song, but to no avail. All in all, a good boxed set, but a bit too much to pay for if you\\'re not a big fan of Iced Earth.'"
      ]
     },
     "execution_count": 8,
     "metadata": {},
     "output_type": "execute_result"
    }
   ],
   "source": [
    "text"
   ]
  },
  {
   "cell_type": "code",
   "execution_count": 19,
   "metadata": {},
   "outputs": [
    {
     "name": "stdout",
     "output_type": "stream",
     "text": [
      "100 6256\n",
      "200 9947\n",
      "300 12381\n",
      "400 15184\n",
      "500 18420\n",
      "600 21583\n",
      "700 24116\n",
      "800 26830\n",
      "900 30665\n",
      "1000 33566\n",
      "1100 35978\n",
      "1200 39333\n",
      "1300 42906\n",
      "1400 45672\n",
      "1500 49000\n",
      "1600 52058\n",
      "1700 54005\n",
      "1800 57522\n",
      "1900 61455\n",
      "2000 63193\n",
      "2100 65822\n",
      "2200 67993\n",
      "2300 69091\n",
      "2400 71512\n",
      "2500 73314\n",
      "2600 75281\n",
      "2700 76968\n",
      "2800 80008\n",
      "2900 82420\n",
      "3000 84555\n",
      "3100 86362\n",
      "3200 87918\n",
      "3300 89245\n",
      "3400 90406\n",
      "3500 91781\n",
      "3600 92282\n",
      "3700 93230\n"
     ]
    },
    {
     "data": {
      "text/plain": [
       "93434"
      ]
     },
     "execution_count": 19,
     "metadata": {},
     "output_type": "execute_result"
    }
   ],
   "source": [
    "texts = []\n",
    "cnt = 0\n",
    "for index, row in df.iterrows():\n",
    "    if row['Text'] == row['Text']:#check if not nan\n",
    "        texts.append(row['Text'])\n",
    "        continue\n",
    "    url = row['Link']\n",
    "    r = requests.get(url)\n",
    "    html_doc = r.content\n",
    "    soup = BeautifulSoup(html_doc, 'html.parser')\n",
    "    text = soup.find_all('p')[3].text.replace('\\n','')\n",
    "    texts.append(text)\n",
    "    cnt += 1\n",
    "    if cnt%100 == 0:\n",
    "        print(cnt,index)\n",
    "    \n",
    "len(texts)"
   ]
  },
  {
   "cell_type": "code",
   "execution_count": 26,
   "metadata": {},
   "outputs": [],
   "source": [
    "df['Text'] = texts"
   ]
  },
  {
   "cell_type": "code",
   "execution_count": 27,
   "metadata": {},
   "outputs": [],
   "source": [
    "df.to_csv('reviews_full_v6.csv')"
   ]
  },
  {
   "cell_type": "code",
   "execution_count": 29,
   "metadata": {},
   "outputs": [],
   "source": [
    "from nltk.sentiment.vader import SentimentIntensityAnalyzer"
   ]
  },
  {
   "cell_type": "code",
   "execution_count": 39,
   "metadata": {},
   "outputs": [],
   "source": [
    "analyzer = SentimentIntensityAnalyzer()\n",
    "sents = []\n",
    "for index,row in df.iterrows():\n",
    "    text = row['Text']\n",
    "    sents.append(analyzer.polarity_scores(text)['compound'])\n",
    "df['Sentiment'] = sents"
   ]
  },
  {
   "cell_type": "code",
   "execution_count": 42,
   "metadata": {},
   "outputs": [],
   "source": [
    "df.to_csv('reviews_full_v6.csv')"
   ]
  }
 ],
 "metadata": {
  "colab": {
   "name": "web_scraper_new.ipynb",
   "provenance": []
  },
  "kernelspec": {
   "display_name": "Python 3",
   "language": "python",
   "name": "python3"
  },
  "language_info": {
   "codemirror_mode": {
    "name": "ipython",
    "version": 3
   },
   "file_extension": ".py",
   "mimetype": "text/x-python",
   "name": "python",
   "nbconvert_exporter": "python",
   "pygments_lexer": "ipython3",
   "version": "3.8.3"
  }
 },
 "nbformat": 4,
 "nbformat_minor": 4
}

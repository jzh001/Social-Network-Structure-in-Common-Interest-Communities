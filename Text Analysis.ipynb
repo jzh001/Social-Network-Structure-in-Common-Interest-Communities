{
 "cells": [
  {
   "cell_type": "code",
   "execution_count": 1,
   "metadata": {},
   "outputs": [],
   "source": [
    "import nltk\n",
    "from nltk import word_tokenize, sent_tokenize, pos_tag\n",
    "from nltk.corpus import stopwords \n",
    "import pandas as pd\n",
    "import numpy as np\n",
    "import time\n",
    "import matplotlib.pyplot as plt"
   ]
  },
  {
   "cell_type": "code",
   "execution_count": 2,
   "metadata": {},
   "outputs": [
    {
     "data": {
      "text/html": [
       "<div>\n",
       "<style scoped>\n",
       "    .dataframe tbody tr th:only-of-type {\n",
       "        vertical-align: middle;\n",
       "    }\n",
       "\n",
       "    .dataframe tbody tr th {\n",
       "        vertical-align: top;\n",
       "    }\n",
       "\n",
       "    .dataframe thead th {\n",
       "        text-align: right;\n",
       "    }\n",
       "</style>\n",
       "<table border=\"1\" class=\"dataframe\">\n",
       "  <thead>\n",
       "    <tr style=\"text-align: right;\">\n",
       "      <th></th>\n",
       "      <th>User</th>\n",
       "      <th>Date</th>\n",
       "      <th>Year</th>\n",
       "      <th>Month</th>\n",
       "      <th>Release</th>\n",
       "      <th>Band</th>\n",
       "      <th>Score</th>\n",
       "      <th>Link</th>\n",
       "      <th>Album_link</th>\n",
       "      <th>Review_title</th>\n",
       "      <th>Genre</th>\n",
       "      <th>Text</th>\n",
       "      <th>Sentiment</th>\n",
       "      <th>Band_Genre</th>\n",
       "      <th>Combined_Genre</th>\n",
       "    </tr>\n",
       "  </thead>\n",
       "  <tbody>\n",
       "    <tr>\n",
       "      <th>0</th>\n",
       "      <td>SpookyApparition</td>\n",
       "      <td>July 11 2002</td>\n",
       "      <td>2002</td>\n",
       "      <td>7</td>\n",
       "      <td>Chaosphere</td>\n",
       "      <td>Meshuggah</td>\n",
       "      <td>82</td>\n",
       "      <td>https://www.metal-archives.com/reviews/Meshugg...</td>\n",
       "      <td>https://www.metal-archives.com/albums/Meshugga...</td>\n",
       "      <td>Technical metal at it's finest.</td>\n",
       "      <td>technical thrash metal|math metal|progressive ...</td>\n",
       "      <td>I originally bought Chaosphere in late 2000......</td>\n",
       "      <td>0.9728</td>\n",
       "      <td>groove metal|thrash metal</td>\n",
       "      <td>technical thrash metal|math metal|progressive ...</td>\n",
       "    </tr>\n",
       "    <tr>\n",
       "      <th>1</th>\n",
       "      <td>SpookyApparition</td>\n",
       "      <td>July 14 2002</td>\n",
       "      <td>2002</td>\n",
       "      <td>7</td>\n",
       "      <td>Necroticism_-_Descanting_the_Insalubrious</td>\n",
       "      <td>Carcass</td>\n",
       "      <td>88</td>\n",
       "      <td>https://www.metal-archives.com/reviews/Carcass...</td>\n",
       "      <td>https://www.metal-archives.com/albums/Carcass/...</td>\n",
       "      <td>Carcass at their finest.</td>\n",
       "      <td>grindcore|melodic death metal</td>\n",
       "      <td>A midpoint between Carcass' early grind albums...</td>\n",
       "      <td>0.8479</td>\n",
       "      <td>grindcore|death metal</td>\n",
       "      <td>grindcore|melodic death metal</td>\n",
       "    </tr>\n",
       "    <tr>\n",
       "      <th>2</th>\n",
       "      <td>MarkRyan</td>\n",
       "      <td>July 15 2002</td>\n",
       "      <td>2002</td>\n",
       "      <td>7</td>\n",
       "      <td>Angels_Fall_First</td>\n",
       "      <td>Nightwish</td>\n",
       "      <td>90</td>\n",
       "      <td>https://www.metal-archives.com/reviews/Nightwi...</td>\n",
       "      <td>https://www.metal-archives.com/albums/Nightwis...</td>\n",
       "      <td>On par with their other stuff...</td>\n",
       "      <td>symphonic power metal</td>\n",
       "      <td>I'm not hard-core into metal at all, really, b...</td>\n",
       "      <td>0.9951</td>\n",
       "      <td>symphonic metal|power metal</td>\n",
       "      <td>symphonic power metal</td>\n",
       "    </tr>\n",
       "    <tr>\n",
       "      <th>3</th>\n",
       "      <td>Fear</td>\n",
       "      <td>July 16 2002</td>\n",
       "      <td>2002</td>\n",
       "      <td>7</td>\n",
       "      <td>Dark_Genesis</td>\n",
       "      <td>Iced_Earth</td>\n",
       "      <td>87</td>\n",
       "      <td>https://www.metal-archives.com/reviews/Iced_Ea...</td>\n",
       "      <td>https://www.metal-archives.com/albums/Iced_Ear...</td>\n",
       "      <td>Brilliance in Repackaging</td>\n",
       "      <td>heavy metal|us power metal</td>\n",
       "      <td>This is not a new album, but in fact, five alb...</td>\n",
       "      <td>0.9976</td>\n",
       "      <td>thrash metal|power metal</td>\n",
       "      <td>heavy metal|us power metal</td>\n",
       "    </tr>\n",
       "    <tr>\n",
       "      <th>4</th>\n",
       "      <td>Esoteric</td>\n",
       "      <td>July 16 2002</td>\n",
       "      <td>2002</td>\n",
       "      <td>7</td>\n",
       "      <td>A_Night_at_the_Opera</td>\n",
       "      <td>Blind_Guardian</td>\n",
       "      <td>70</td>\n",
       "      <td>https://www.metal-archives.com/reviews/Blind_G...</td>\n",
       "      <td>https://www.metal-archives.com/albums/Blind_Gu...</td>\n",
       "      <td>Somewhat Disappointing</td>\n",
       "      <td>power metal</td>\n",
       "      <td>I've been trying for months to come up with an...</td>\n",
       "      <td>0.5494</td>\n",
       "      <td>speed metal|power metal</td>\n",
       "      <td>power metal</td>\n",
       "    </tr>\n",
       "  </tbody>\n",
       "</table>\n",
       "</div>"
      ],
      "text/plain": [
       "               User          Date  Year  Month  \\\n",
       "0  SpookyApparition  July 11 2002  2002      7   \n",
       "1  SpookyApparition  July 14 2002  2002      7   \n",
       "2          MarkRyan  July 15 2002  2002      7   \n",
       "3              Fear  July 16 2002  2002      7   \n",
       "4          Esoteric  July 16 2002  2002      7   \n",
       "\n",
       "                                     Release            Band  Score  \\\n",
       "0                                 Chaosphere       Meshuggah     82   \n",
       "1  Necroticism_-_Descanting_the_Insalubrious         Carcass     88   \n",
       "2                          Angels_Fall_First       Nightwish     90   \n",
       "3                               Dark_Genesis      Iced_Earth     87   \n",
       "4                       A_Night_at_the_Opera  Blind_Guardian     70   \n",
       "\n",
       "                                                Link  \\\n",
       "0  https://www.metal-archives.com/reviews/Meshugg...   \n",
       "1  https://www.metal-archives.com/reviews/Carcass...   \n",
       "2  https://www.metal-archives.com/reviews/Nightwi...   \n",
       "3  https://www.metal-archives.com/reviews/Iced_Ea...   \n",
       "4  https://www.metal-archives.com/reviews/Blind_G...   \n",
       "\n",
       "                                          Album_link  \\\n",
       "0  https://www.metal-archives.com/albums/Meshugga...   \n",
       "1  https://www.metal-archives.com/albums/Carcass/...   \n",
       "2  https://www.metal-archives.com/albums/Nightwis...   \n",
       "3  https://www.metal-archives.com/albums/Iced_Ear...   \n",
       "4  https://www.metal-archives.com/albums/Blind_Gu...   \n",
       "\n",
       "                       Review_title  \\\n",
       "0   Technical metal at it's finest.   \n",
       "1          Carcass at their finest.   \n",
       "2  On par with their other stuff...   \n",
       "3         Brilliance in Repackaging   \n",
       "4            Somewhat Disappointing   \n",
       "\n",
       "                                               Genre  \\\n",
       "0  technical thrash metal|math metal|progressive ...   \n",
       "1                      grindcore|melodic death metal   \n",
       "2                              symphonic power metal   \n",
       "3                         heavy metal|us power metal   \n",
       "4                                        power metal   \n",
       "\n",
       "                                                Text  Sentiment  \\\n",
       "0  I originally bought Chaosphere in late 2000......     0.9728   \n",
       "1  A midpoint between Carcass' early grind albums...     0.8479   \n",
       "2  I'm not hard-core into metal at all, really, b...     0.9951   \n",
       "3  This is not a new album, but in fact, five alb...     0.9976   \n",
       "4  I've been trying for months to come up with an...     0.5494   \n",
       "\n",
       "                    Band_Genre  \\\n",
       "0    groove metal|thrash metal   \n",
       "1        grindcore|death metal   \n",
       "2  symphonic metal|power metal   \n",
       "3     thrash metal|power metal   \n",
       "4      speed metal|power metal   \n",
       "\n",
       "                                      Combined_Genre  \n",
       "0  technical thrash metal|math metal|progressive ...  \n",
       "1                      grindcore|melodic death metal  \n",
       "2                              symphonic power metal  \n",
       "3                         heavy metal|us power metal  \n",
       "4                                        power metal  "
      ]
     },
     "execution_count": 2,
     "metadata": {},
     "output_type": "execute_result"
    }
   ],
   "source": [
    "df = pd.read_csv('reviews_full_v7.csv')\n",
    "df.head()"
   ]
  },
  {
   "cell_type": "code",
   "execution_count": 3,
   "metadata": {},
   "outputs": [],
   "source": [
    "plt.rcParams[\"figure.figsize\"] = (10,7) #defining size of plots"
   ]
  },
  {
   "cell_type": "code",
   "execution_count": 4,
   "metadata": {},
   "outputs": [],
   "source": [
    "tokenizer = nltk.RegexpTokenizer(r\"\\w+\") # removes punctuation and special characters"
   ]
  },
  {
   "attachments": {
    "f06ba7d4-394d-496e-aa7e-fa4cb9484bb8.png": {
     "image/png": "[encoded data removed]"
    }
   },
   "cell_type": "markdown",
   "metadata": {},
   "source": [
    "### Based on https://doi.org/10.1155/2013/394758\n",
    "![image.png](attachment:f06ba7d4-394d-496e-aa7e-fa4cb9484bb8.png)"
   ]
  },
  {
   "cell_type": "code",
   "execution_count": 5,
   "metadata": {},
   "outputs": [],
   "source": [
    "def isNoun(tag):\n",
    "    return tag == 'NN' or tag == 'NNS'\n",
    "    #return tag[:2] == 'NN'\n",
    "\n",
    "def isAdverb(tag):\n",
    "    return tag == 'RB' or tag == 'RBR' or tag == 'RBS'\n",
    "    #return tag[:2] == 'RB'\n",
    "\n",
    "\n",
    "def isVerb(tag):\n",
    "    return tag == 'VBN' or tag == 'VBD'\n",
    "    #return tag[:2] == 'VB'\n",
    "\n",
    "\n",
    "def extract_features(sent):\n",
    "    sent = list(sent)\n",
    "    sent += [('NULL','NULL'), ('NULL','NULL')]\n",
    "    all_features = []\n",
    "    for i in range(len(sent)-2):\n",
    "        word1, tag1 = sent[i]\n",
    "        word2, tag2 = sent[i+1]\n",
    "        word3, tag3 = sent[i+2]\n",
    "        word1 = word1.lower()\n",
    "        word2 = word2.lower()\n",
    "        word3 = word3.lower()\n",
    "        if tag1 == 'JJ':\n",
    "            if isNoun(tag2):\n",
    "                if isNoun(tag3):\n",
    "                    all_features.append((word1, word2, word3)) #pattern 2\n",
    "                else:\n",
    "                    all_features.append((word1, word2)) #pattern 1\n",
    "                    \n",
    "        elif isAdverb(tag1):\n",
    "            if tag2 == 'JJ':\n",
    "                if isNoun(tag3):\n",
    "                    all_features.append((word1, word2, word3)) #pattern 4\n",
    "                else:\n",
    "                    all_features.append((word1, word2)) #pattern 3\n",
    "            elif isAdverb(tag2):\n",
    "                if isNoun(tag3):\n",
    "                    all_features.append((word1, word2, word3)) #pattern 4\n",
    "                elif tag3 == 'JJ':\n",
    "                    all_features.append((word1, word2, word3)) #pattern 6\n",
    "            elif isVerb(tag2):\n",
    "                all_features.append((word1, word2)) #pattern 5\n",
    "        \n",
    "        elif isVerb(tag1):\n",
    "            if isNoun(tag2):\n",
    "                all_features.append((word1, word2)) #pattern 7\n",
    "            elif isAdverb(tag2):\n",
    "                all_features.append((word1, word2)) #pattern 8\n",
    "                \n",
    "                \n",
    "                \n",
    "    return all_features"
   ]
  },
  {
   "cell_type": "code",
   "execution_count": 6,
   "metadata": {},
   "outputs": [
    {
     "name": "stdout",
     "output_type": "stream",
     "text": [
      "0 5.661379337310791\n",
      "5000 134.20748353004456\n",
      "10000 266.545428276062\n",
      "15000 412.7469766139984\n",
      "20000 562.3275752067566\n",
      "25000 717.8983035087585\n",
      "30000 872.6892094612122\n",
      "35000 1041.268667459488\n",
      "40000 1221.7046661376953\n",
      "45000 1431.0526504516602\n",
      "50000 1635.9727458953857\n",
      "55000 1854.4959907531738\n",
      "60000 2067.7858159542084\n",
      "65000 2301.2776448726654\n",
      "70000 2523.268689393997\n",
      "75000 2720.920462369919\n",
      "80000 2905.80553483963\n",
      "85000 3087.7009592056274\n",
      "90000 3254.9663848876953\n"
     ]
    }
   ],
   "source": [
    "t1 = time.time()\n",
    "all_features = {}\n",
    "\n",
    "stop_words = set(stopwords.words('english')) \n",
    "\n",
    "for i,row in list(df.iterrows()):\n",
    "    if i%5000 == 0:\n",
    "        print(i,time.time()-t1)\n",
    "    text = row['Text']\n",
    "    sents = sent_tokenize(text)\n",
    "    for sent in sents:\n",
    "        tagged_sent = pos_tag([word for word in word_tokenize(sent) if word.isalnum() and len(word) > 1 and word not in stop_words])\n",
    "        #print(tagged_sent)\n",
    "        for phrase in extract_features(tagged_sent):\n",
    "            feature = ' '.join(phrase)\n",
    "            if feature in all_features:\n",
    "                all_features[feature] += 1\n",
    "            else:\n",
    "                all_features[feature] = 1\n"
   ]
  },
  {
   "cell_type": "code",
   "execution_count": 7,
   "metadata": {},
   "outputs": [
    {
     "data": {
      "image/png": "[encoded data removed]",
      "text/plain": [
       "<Figure size 720x504 with 1 Axes>"
      ]
     },
     "metadata": {
      "needs_background": "light"
     },
     "output_type": "display_data"
    }
   ],
   "source": [
    "plt.title('Log of Frequency against Log of Word Count')\n",
    "plt.ylabel('Log of Frequency')\n",
    "plt.xlabel('Log of Words')\n",
    "plt.loglog(sorted([all_features[key] for key in all_features],reverse = True))\n",
    "plt.show()"
   ]
  },
  {
   "cell_type": "code",
   "execution_count": 8,
   "metadata": {},
   "outputs": [
    {
     "name": "stdout",
     "output_type": "stream",
     "text": [
      "2341710\n"
     ]
    }
   ],
   "source": [
    "mp = {k: v for k, v in sorted(all_features.items(), key=lambda item: item[1], reverse = True)}\n",
    "print(len(mp))"
   ]
  },
  {
   "cell_type": "code",
   "execution_count": 9,
   "metadata": {},
   "outputs": [],
   "source": [
    "phrases = pd.DataFrame()\n",
    "phrases['Phrase'] = mp.keys()\n",
    "phrases['Frequency'] = mp.values()\n",
    "phrases.to_csv('opinions.csv', index = False)"
   ]
  },
  {
   "cell_type": "code",
   "execution_count": 10,
   "metadata": {},
   "outputs": [],
   "source": [
    "import pickle\n",
    "\n",
    "pickle.dump(mp,open('opinions.p','wb'))"
   ]
  }
 ],
 "metadata": {
  "kernelspec": {
   "display_name": "Python 3",
   "language": "python",
   "name": "python3"
  },
  "language_info": {
   "codemirror_mode": {
    "name": "ipython",
    "version": 3
   },
   "file_extension": ".py",
   "mimetype": "text/x-python",
   "name": "python",
   "nbconvert_exporter": "python",
   "pygments_lexer": "ipython3",
   "version": "3.8.3"
  }
 },
 "nbformat": 4,
 "nbformat_minor": 4
}

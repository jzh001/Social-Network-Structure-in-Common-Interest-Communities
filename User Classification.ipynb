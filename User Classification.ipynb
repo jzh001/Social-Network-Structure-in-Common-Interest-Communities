{
 "cells": [
  {
   "cell_type": "code",
   "execution_count": 1,
   "metadata": {},
   "outputs": [],
   "source": [
    "import pandas as pd\n",
    "import numpy as np\n",
    "import collections as clt\n",
    "import networkx as nx\n",
    "import matplotlib.pyplot as plt"
   ]
  },
  {
   "cell_type": "code",
   "execution_count": 2,
   "metadata": {},
   "outputs": [],
   "source": [
    "plt.rcParams[\"figure.figsize\"] = (10,7) #defining size of plots"
   ]
  },
  {
   "cell_type": "code",
   "execution_count": 3,
   "metadata": {},
   "outputs": [
    {
     "data": {
      "text/html": [
       "<div>\n",
       "<style scoped>\n",
       "    .dataframe tbody tr th:only-of-type {\n",
       "        vertical-align: middle;\n",
       "    }\n",
       "\n",
       "    .dataframe tbody tr th {\n",
       "        vertical-align: top;\n",
       "    }\n",
       "\n",
       "    .dataframe thead th {\n",
       "        text-align: right;\n",
       "    }\n",
       "</style>\n",
       "<table border=\"1\" class=\"dataframe\">\n",
       "  <thead>\n",
       "    <tr style=\"text-align: right;\">\n",
       "      <th></th>\n",
       "      <th>User</th>\n",
       "      <th>Date</th>\n",
       "      <th>Year</th>\n",
       "      <th>Month</th>\n",
       "      <th>Release</th>\n",
       "      <th>Band</th>\n",
       "      <th>Score</th>\n",
       "      <th>Link</th>\n",
       "      <th>Album_link</th>\n",
       "      <th>Review_title</th>\n",
       "      <th>...</th>\n",
       "      <th>Band_Genre</th>\n",
       "      <th>Combined_Genre</th>\n",
       "      <th>Key Features</th>\n",
       "      <th>Cleansed Features</th>\n",
       "      <th>Cleansed Text</th>\n",
       "      <th>Product Features</th>\n",
       "      <th>Product Features_dep</th>\n",
       "      <th>neg</th>\n",
       "      <th>neu</th>\n",
       "      <th>pos</th>\n",
       "    </tr>\n",
       "  </thead>\n",
       "  <tbody>\n",
       "    <tr>\n",
       "      <th>0</th>\n",
       "      <td>SpookyApparition</td>\n",
       "      <td>July 11 2002</td>\n",
       "      <td>2002</td>\n",
       "      <td>7</td>\n",
       "      <td>Chaosphere</td>\n",
       "      <td>Meshuggah</td>\n",
       "      <td>82</td>\n",
       "      <td>https://www.metal-archives.com/reviews/Meshugg...</td>\n",
       "      <td>https://www.metal-archives.com/albums/Meshugga...</td>\n",
       "      <td>Technical metal at it's finest.</td>\n",
       "      <td>...</td>\n",
       "      <td>groove metal|thrash metal</td>\n",
       "      <td>technical thrash metal|math metal|progressive ...</td>\n",
       "      <td>originally bought|entire album|sounded variati...</td>\n",
       "      <td>originally bought|entire album|sounded variati...</td>\n",
       "      <td>I originally bought Chaosphere in late 2000......</td>\n",
       "      <td>entire album|sounded variation|grown appreciat...</td>\n",
       "      <td>tacky place|respective instruments|vocal perfo...</td>\n",
       "      <td>0.025</td>\n",
       "      <td>0.826</td>\n",
       "      <td>0.149</td>\n",
       "    </tr>\n",
       "    <tr>\n",
       "      <th>1</th>\n",
       "      <td>SpookyApparition</td>\n",
       "      <td>July 14 2002</td>\n",
       "      <td>2002</td>\n",
       "      <td>7</td>\n",
       "      <td>Necroticism_-_Descanting_the_Insalubrious</td>\n",
       "      <td>Carcass</td>\n",
       "      <td>88</td>\n",
       "      <td>https://www.metal-archives.com/reviews/Carcass...</td>\n",
       "      <td>https://www.metal-archives.com/albums/Carcass/...</td>\n",
       "      <td>Carcass at their finest.</td>\n",
       "      <td>...</td>\n",
       "      <td>grindcore|death metal</td>\n",
       "      <td>grindcore|melodic death metal</td>\n",
       "      <td>somewhat song structures|song structures|injec...</td>\n",
       "      <td>somewhat song structures|song structures|injec...</td>\n",
       "      <td>A midpoint between Carcass' early grind albums...</td>\n",
       "      <td>somewhat song structures|song structures|injec...</td>\n",
       "      <td>melodic variety|vocal performances|enjoyable a...</td>\n",
       "      <td>0.038</td>\n",
       "      <td>0.850</td>\n",
       "      <td>0.111</td>\n",
       "    </tr>\n",
       "    <tr>\n",
       "      <th>2</th>\n",
       "      <td>MarkRyan</td>\n",
       "      <td>July 15 2002</td>\n",
       "      <td>2002</td>\n",
       "      <td>7</td>\n",
       "      <td>Angels_Fall_First</td>\n",
       "      <td>Nightwish</td>\n",
       "      <td>90</td>\n",
       "      <td>https://www.metal-archives.com/reviews/Nightwi...</td>\n",
       "      <td>https://www.metal-archives.com/albums/Nightwis...</td>\n",
       "      <td>On par with their other stuff...</td>\n",
       "      <td>...</td>\n",
       "      <td>symphonic metal|power metal</td>\n",
       "      <td>symphonic power metal</td>\n",
       "      <td>general consensus|lose credibility|sung poet|b...</td>\n",
       "      <td>general consensus|lose credibility|sung poet|b...</td>\n",
       "      <td>I'm not hard-core into metal at all, really, b...</td>\n",
       "      <td>general consensus|lose credibility|sung poet|b...</td>\n",
       "      <td>beautiful melody|beautiful example|general con...</td>\n",
       "      <td>0.026</td>\n",
       "      <td>0.771</td>\n",
       "      <td>0.202</td>\n",
       "    </tr>\n",
       "    <tr>\n",
       "      <th>3</th>\n",
       "      <td>Fear</td>\n",
       "      <td>July 16 2002</td>\n",
       "      <td>2002</td>\n",
       "      <td>7</td>\n",
       "      <td>Dark_Genesis</td>\n",
       "      <td>Iced_Earth</td>\n",
       "      <td>87</td>\n",
       "      <td>https://www.metal-archives.com/reviews/Iced_Ea...</td>\n",
       "      <td>https://www.metal-archives.com/albums/Iced_Ear...</td>\n",
       "      <td>Brilliance in Repackaging</td>\n",
       "      <td>...</td>\n",
       "      <td>thrash metal|power metal</td>\n",
       "      <td>heavy metal|us power metal</td>\n",
       "      <td>new album fact|old material|bought big fan|big...</td>\n",
       "      <td>new album fact|old material|bought big fan|big...</td>\n",
       "      <td>This is not a new album, but in fact, five alb...</td>\n",
       "      <td>new album fact|old material|bought big fan|big...</td>\n",
       "      <td>different versions|original vocals|old materia...</td>\n",
       "      <td>0.031</td>\n",
       "      <td>0.723</td>\n",
       "      <td>0.246</td>\n",
       "    </tr>\n",
       "    <tr>\n",
       "      <th>4</th>\n",
       "      <td>Esoteric</td>\n",
       "      <td>July 16 2002</td>\n",
       "      <td>2002</td>\n",
       "      <td>7</td>\n",
       "      <td>A_Night_at_the_Opera</td>\n",
       "      <td>Blind_Guardian</td>\n",
       "      <td>70</td>\n",
       "      <td>https://www.metal-archives.com/reviews/Blind_G...</td>\n",
       "      <td>https://www.metal-archives.com/albums/Blind_Gu...</td>\n",
       "      <td>Somewhat Disappointing</td>\n",
       "      <td>...</td>\n",
       "      <td>speed metal|power metal</td>\n",
       "      <td>power metal</td>\n",
       "      <td>accurate description album|vocal lines|meaty a...</td>\n",
       "      <td>accurate description album|vocal lines|meaty a...</td>\n",
       "      <td>I've been trying for months to come up with an...</td>\n",
       "      <td>accurate description album|vocal lines|meaty a...</td>\n",
       "      <td>catchy songs|bad album|vocal lines|little line...</td>\n",
       "      <td>0.130</td>\n",
       "      <td>0.747</td>\n",
       "      <td>0.123</td>\n",
       "    </tr>\n",
       "  </tbody>\n",
       "</table>\n",
       "<p>5 rows × 23 columns</p>\n",
       "</div>"
      ],
      "text/plain": [
       "               User          Date  Year  Month  \\\n",
       "0  SpookyApparition  July 11 2002  2002      7   \n",
       "1  SpookyApparition  July 14 2002  2002      7   \n",
       "2          MarkRyan  July 15 2002  2002      7   \n",
       "3              Fear  July 16 2002  2002      7   \n",
       "4          Esoteric  July 16 2002  2002      7   \n",
       "\n",
       "                                     Release            Band  Score  \\\n",
       "0                                 Chaosphere       Meshuggah     82   \n",
       "1  Necroticism_-_Descanting_the_Insalubrious         Carcass     88   \n",
       "2                          Angels_Fall_First       Nightwish     90   \n",
       "3                               Dark_Genesis      Iced_Earth     87   \n",
       "4                       A_Night_at_the_Opera  Blind_Guardian     70   \n",
       "\n",
       "                                                Link  \\\n",
       "0  https://www.metal-archives.com/reviews/Meshugg...   \n",
       "1  https://www.metal-archives.com/reviews/Carcass...   \n",
       "2  https://www.metal-archives.com/reviews/Nightwi...   \n",
       "3  https://www.metal-archives.com/reviews/Iced_Ea...   \n",
       "4  https://www.metal-archives.com/reviews/Blind_G...   \n",
       "\n",
       "                                          Album_link  \\\n",
       "0  https://www.metal-archives.com/albums/Meshugga...   \n",
       "1  https://www.metal-archives.com/albums/Carcass/...   \n",
       "2  https://www.metal-archives.com/albums/Nightwis...   \n",
       "3  https://www.metal-archives.com/albums/Iced_Ear...   \n",
       "4  https://www.metal-archives.com/albums/Blind_Gu...   \n",
       "\n",
       "                       Review_title  ...                   Band_Genre  \\\n",
       "0   Technical metal at it's finest.  ...    groove metal|thrash metal   \n",
       "1          Carcass at their finest.  ...        grindcore|death metal   \n",
       "2  On par with their other stuff...  ...  symphonic metal|power metal   \n",
       "3         Brilliance in Repackaging  ...     thrash metal|power metal   \n",
       "4            Somewhat Disappointing  ...      speed metal|power metal   \n",
       "\n",
       "                                      Combined_Genre  \\\n",
       "0  technical thrash metal|math metal|progressive ...   \n",
       "1                      grindcore|melodic death metal   \n",
       "2                              symphonic power metal   \n",
       "3                         heavy metal|us power metal   \n",
       "4                                        power metal   \n",
       "\n",
       "                                        Key Features  \\\n",
       "0  originally bought|entire album|sounded variati...   \n",
       "1  somewhat song structures|song structures|injec...   \n",
       "2  general consensus|lose credibility|sung poet|b...   \n",
       "3  new album fact|old material|bought big fan|big...   \n",
       "4  accurate description album|vocal lines|meaty a...   \n",
       "\n",
       "                                   Cleansed Features  \\\n",
       "0  originally bought|entire album|sounded variati...   \n",
       "1  somewhat song structures|song structures|injec...   \n",
       "2  general consensus|lose credibility|sung poet|b...   \n",
       "3  new album fact|old material|bought big fan|big...   \n",
       "4  accurate description album|vocal lines|meaty a...   \n",
       "\n",
       "                                       Cleansed Text  \\\n",
       "0  I originally bought Chaosphere in late 2000......   \n",
       "1  A midpoint between Carcass' early grind albums...   \n",
       "2  I'm not hard-core into metal at all, really, b...   \n",
       "3  This is not a new album, but in fact, five alb...   \n",
       "4  I've been trying for months to come up with an...   \n",
       "\n",
       "                                    Product Features  \\\n",
       "0  entire album|sounded variation|grown appreciat...   \n",
       "1  somewhat song structures|song structures|injec...   \n",
       "2  general consensus|lose credibility|sung poet|b...   \n",
       "3  new album fact|old material|bought big fan|big...   \n",
       "4  accurate description album|vocal lines|meaty a...   \n",
       "\n",
       "                                Product Features_dep    neg    neu    pos  \n",
       "0  tacky place|respective instruments|vocal perfo...  0.025  0.826  0.149  \n",
       "1  melodic variety|vocal performances|enjoyable a...  0.038  0.850  0.111  \n",
       "2  beautiful melody|beautiful example|general con...  0.026  0.771  0.202  \n",
       "3  different versions|original vocals|old materia...  0.031  0.723  0.246  \n",
       "4  catchy songs|bad album|vocal lines|little line...  0.130  0.747  0.123  \n",
       "\n",
       "[5 rows x 23 columns]"
      ]
     },
     "execution_count": 3,
     "metadata": {},
     "output_type": "execute_result"
    }
   ],
   "source": [
    "df = pd.read_csv('reviews_full_v9-2.csv')\n",
    "df.head()"
   ]
  },
  {
   "cell_type": "code",
   "execution_count": 4,
   "metadata": {},
   "outputs": [],
   "source": [
    "B = nx.Graph()\n",
    "userset = set()\n",
    "\n",
    "for i,row in df.iterrows():\n",
    "    if row.Score < 75:\n",
    "        continue\n",
    "    B.add_edge(row.User, row.Release + 'R')\n",
    "    userset.add(row.User)"
   ]
  },
  {
   "cell_type": "code",
   "execution_count": 5,
   "metadata": {},
   "outputs": [],
   "source": [
    "D = nx.DiGraph()\n",
    "\n",
    "for user in userset:\n",
    "    users = set()\n",
    "    for album in B.adj[user]:\n",
    "        users = users.union(set(B.adj[album]))\n",
    "    for root in users:\n",
    "        if not D.has_edge(user, root) and not D.has_edge(root, user) and root != user: #just in case two users have same set of albums\n",
    "            D.add_edge(root, user)    "
   ]
  },
  {
   "cell_type": "code",
   "execution_count": 6,
   "metadata": {},
   "outputs": [
    {
     "data": {
      "image/png": "[encoded data removed]",
      "text/plain": [
       "<Figure size 720x504 with 1 Axes>"
      ]
     },
     "metadata": {
      "needs_background": "light"
     },
     "output_type": "display_data"
    },
    {
     "data": {
      "text/plain": [
       "(8639, 1086)"
      ]
     },
     "execution_count": 6,
     "metadata": {},
     "output_type": "execute_result"
    }
   ],
   "source": [
    "roots = sorted([node for node in D.nodes() if D.in_degree(node) == 0], key = lambda x: D.out_degree(x), reverse = True)\n",
    "plt.plot([D.out_degree(root) for root in roots])\n",
    "plt.show()\n",
    "len(userset), len(roots)"
   ]
  },
  {
   "cell_type": "code",
   "execution_count": 7,
   "metadata": {},
   "outputs": [],
   "source": [
    "mp = {}\n",
    "\n",
    "for root in roots:\n",
    "    mp[root] = root\n",
    "    for user in D.adj[root]:\n",
    "        mp[user] = root"
   ]
  },
  {
   "cell_type": "code",
   "execution_count": 8,
   "metadata": {},
   "outputs": [],
   "source": [
    "import pickle\n",
    "pickle.dump(roots, open('roots.p','wb'))"
   ]
  },
  {
   "cell_type": "code",
   "execution_count": 9,
   "metadata": {},
   "outputs": [
    {
     "data": {
      "text/plain": [
       "(36993, 62283)"
      ]
     },
     "execution_count": 9,
     "metadata": {},
     "output_type": "execute_result"
    }
   ],
   "source": [
    "B1 = nx.Graph()\n",
    "for i,row in df.iterrows():\n",
    "    if row.Score < 75:\n",
    "        continue\n",
    "        \n",
    "    if row.User not in roots:\n",
    "        B1.add_edge(row.User, row.Release + 'R')\n",
    "\n",
    "B1.number_of_nodes(), B1.number_of_edges()"
   ]
  },
  {
   "cell_type": "code",
   "execution_count": 10,
   "metadata": {},
   "outputs": [
    {
     "data": {
      "text/plain": [
       "(1961, 2251, 180)"
      ]
     },
     "execution_count": 10,
     "metadata": {},
     "output_type": "execute_result"
    }
   ],
   "source": [
    "G = nx.Graph()\n",
    "for user in roots:\n",
    "    for release in B.adj[user]:\n",
    "        for node in B.adj[release]:\n",
    "            if node < user: #to ensure the order, with no repeats\n",
    "                if not G.has_edge(user,node):\n",
    "                    G.add_edge(user, node, weight = 1, albums = {release})\n",
    "                else:\n",
    "                    G[user][node]['weight'] += 1\n",
    "                    G[user][node]['albums'].add(release)\n",
    "G.number_of_nodes(), G.number_of_edges(), nx.number_connected_components(G)"
   ]
  },
  {
   "cell_type": "code",
   "execution_count": 11,
   "metadata": {},
   "outputs": [
    {
     "data": {
      "image/png": "[encoded data removed]",
      "text/plain": [
       "<Figure size 720x504 with 1 Axes>"
      ]
     },
     "metadata": {
      "needs_background": "light"
     },
     "output_type": "display_data"
    }
   ],
   "source": [
    "plt.semilogy(sorted(list(nx.get_edge_attributes(G,'weight').values())))\n",
    "plt.show()"
   ]
  },
  {
   "cell_type": "code",
   "execution_count": 12,
   "metadata": {},
   "outputs": [
    {
     "name": "stdout",
     "output_type": "stream",
     "text": [
      "[1538, 3, 3, 2, 2, 2, 3, 2, 2, 3, 3, 6, 4, 2, 2, 3, 3, 4, 4, 2, 3, 2, 2, 2, 6, 3, 5, 2, 3, 2, 2, 2, 2, 3, 4, 3, 5, 2, 6, 4, 2, 3, 2, 2, 2, 2, 2, 3, 2, 3, 2, 2, 2, 2, 2, 3, 2, 2, 2, 3, 5, 2, 2, 2, 4, 3, 3, 3, 2, 2, 3, 2, 2, 4, 3, 3, 2, 2, 4, 3, 3, 2, 2, 2, 3, 2, 2, 2, 2, 2, 2, 2, 2, 2, 2, 2, 2, 2, 2, 2, 2, 2, 2, 2, 2, 2, 2, 2, 2, 2, 2, 2, 2, 2, 3, 2, 2, 2, 2, 2, 2, 2, 2, 2, 2, 2, 2, 2, 2, 2, 2, 2, 2, 3, 2, 2, 2, 2, 2, 2, 2, 2, 2, 2, 2, 2, 2, 2, 2, 2, 2, 2, 2, 2, 2, 2, 2, 2, 2, 2, 2, 2, 2, 2, 2, 2, 2, 2, 2, 2, 2, 2, 2, 2, 2, 2, 2, 2, 2, 2]\n"
     ]
    }
   ],
   "source": [
    "tmp = clt.Counter([sum([D.out_degree(node)+1 for node in comp]) for comp in nx.connected_components(G)])\n",
    "{k: v for k, v in sorted(tmp.items(), key=lambda item: item[0], reverse = True)}\n",
    "\n",
    "print([len(comp) for comp in nx.connected_components(G)])"
   ]
  }
 ],
 "metadata": {
  "kernelspec": {
   "display_name": "Python 3",
   "language": "python",
   "name": "python3"
  },
  "language_info": {
   "codemirror_mode": {
    "name": "ipython",
    "version": 3
   },
   "file_extension": ".py",
   "mimetype": "text/x-python",
   "name": "python",
   "nbconvert_exporter": "python",
   "pygments_lexer": "ipython3",
   "version": "3.8.3"
  }
 },
 "nbformat": 4,
 "nbformat_minor": 4
}

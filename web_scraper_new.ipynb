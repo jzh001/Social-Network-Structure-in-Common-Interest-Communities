{
 "cells": [
  {
   "cell_type": "code",
   "execution_count": 1,
   "metadata": {
    "colab": {},
    "colab_type": "code",
    "id": "Cv_9BXfXdJqG"
   },
   "outputs": [],
   "source": [
    "import requests\n",
    "import pandas as pd\n",
    "from bs4 import BeautifulSoup\n",
    "import numpy as np"
   ]
  },
  {
   "cell_type": "code",
   "execution_count": 2,
   "metadata": {
    "colab": {},
    "colab_type": "code",
    "id": "NmjjvMeWdJqK"
   },
   "outputs": [],
   "source": [
    "df = pd.read_csv('reviewsv5-1.csv')"
   ]
  },
  {
   "cell_type": "code",
   "execution_count": 3,
   "metadata": {
    "colab": {
     "base_uri": "https://localhost:8080/",
     "height": 606
    },
    "colab_type": "code",
    "id": "0av5b8ahdJqM",
    "outputId": "06083979-fc48-43dc-e6c0-a3e825b9b605"
   },
   "outputs": [
    {
     "data": {
      "text/html": [
       "<div>\n",
       "<style scoped>\n",
       "    .dataframe tbody tr th:only-of-type {\n",
       "        vertical-align: middle;\n",
       "    }\n",
       "\n",
       "    .dataframe tbody tr th {\n",
       "        vertical-align: top;\n",
       "    }\n",
       "\n",
       "    .dataframe thead th {\n",
       "        text-align: right;\n",
       "    }\n",
       "</style>\n",
       "<table border=\"1\" class=\"dataframe\">\n",
       "  <thead>\n",
       "    <tr style=\"text-align: right;\">\n",
       "      <th></th>\n",
       "      <th>Unnamed: 0</th>\n",
       "      <th>Band</th>\n",
       "      <th>Album</th>\n",
       "      <th>Author</th>\n",
       "      <th>Score</th>\n",
       "      <th>Date</th>\n",
       "      <th>Year</th>\n",
       "      <th>Review</th>\n",
       "      <th>Sentiment</th>\n",
       "      <th>Length</th>\n",
       "      <th>Link</th>\n",
       "    </tr>\n",
       "  </thead>\n",
       "  <tbody>\n",
       "    <tr>\n",
       "      <th>0</th>\n",
       "      <td>0</td>\n",
       "      <td>Meshuggah</td>\n",
       "      <td>Chaosphere</td>\n",
       "      <td>SpookyApparition</td>\n",
       "      <td>82</td>\n",
       "      <td>July 11 2002</td>\n",
       "      <td>2002</td>\n",
       "      <td>Technical metal at it's finest.</td>\n",
       "      <td>0.0000</td>\n",
       "      <td>31</td>\n",
       "      <td>https://www.metal-archives.com/reviews/Meshugg...</td>\n",
       "    </tr>\n",
       "    <tr>\n",
       "      <th>1</th>\n",
       "      <td>1</td>\n",
       "      <td>Carcass</td>\n",
       "      <td>Necroticism_-_Descanting_the_Insalubrious</td>\n",
       "      <td>SpookyApparition</td>\n",
       "      <td>88</td>\n",
       "      <td>July 14 2002</td>\n",
       "      <td>2002</td>\n",
       "      <td>Carcass at their finest.</td>\n",
       "      <td>0.0000</td>\n",
       "      <td>24</td>\n",
       "      <td>https://www.metal-archives.com/reviews/Carcass...</td>\n",
       "    </tr>\n",
       "    <tr>\n",
       "      <th>2</th>\n",
       "      <td>2</td>\n",
       "      <td>Nightwish</td>\n",
       "      <td>Angels_Fall_First</td>\n",
       "      <td>MarkRyan</td>\n",
       "      <td>90</td>\n",
       "      <td>July 15 2002</td>\n",
       "      <td>2002</td>\n",
       "      <td>On par with their other stuff...</td>\n",
       "      <td>0.0000</td>\n",
       "      <td>32</td>\n",
       "      <td>https://www.metal-archives.com/reviews/Nightwi...</td>\n",
       "    </tr>\n",
       "    <tr>\n",
       "      <th>3</th>\n",
       "      <td>3</td>\n",
       "      <td>Iced_Earth</td>\n",
       "      <td>Dark_Genesis</td>\n",
       "      <td>Fear</td>\n",
       "      <td>87</td>\n",
       "      <td>July 16 2002</td>\n",
       "      <td>2002</td>\n",
       "      <td>Brilliance in Repackaging</td>\n",
       "      <td>0.5994</td>\n",
       "      <td>25</td>\n",
       "      <td>https://www.metal-archives.com/reviews/Iced_Ea...</td>\n",
       "    </tr>\n",
       "    <tr>\n",
       "      <th>4</th>\n",
       "      <td>4</td>\n",
       "      <td>Blind_Guardian</td>\n",
       "      <td>A_Night_at_the_Opera</td>\n",
       "      <td>Esoteric</td>\n",
       "      <td>70</td>\n",
       "      <td>July 16 2002</td>\n",
       "      <td>2002</td>\n",
       "      <td>Somewhat Disappointing</td>\n",
       "      <td>-0.4417</td>\n",
       "      <td>22</td>\n",
       "      <td>https://www.metal-archives.com/reviews/Blind_G...</td>\n",
       "    </tr>\n",
       "    <tr>\n",
       "      <th>...</th>\n",
       "      <td>...</td>\n",
       "      <td>...</td>\n",
       "      <td>...</td>\n",
       "      <td>...</td>\n",
       "      <td>...</td>\n",
       "      <td>...</td>\n",
       "      <td>...</td>\n",
       "      <td>...</td>\n",
       "      <td>...</td>\n",
       "      <td>...</td>\n",
       "      <td>...</td>\n",
       "    </tr>\n",
       "    <tr>\n",
       "      <th>41125</th>\n",
       "      <td>41125</td>\n",
       "      <td>Flamen</td>\n",
       "      <td>Furor_Lunae</td>\n",
       "      <td>RapeTheDead</td>\n",
       "      <td>66</td>\n",
       "      <td>December  3 2019</td>\n",
       "      <td>2019</td>\n",
       "      <td>please tell me this guy's not a nazi</td>\n",
       "      <td>0.3182</td>\n",
       "      <td>36</td>\n",
       "      <td>https://www.metal-archives.com/reviews/Flamen/...</td>\n",
       "    </tr>\n",
       "    <tr>\n",
       "      <th>41126</th>\n",
       "      <td>41126</td>\n",
       "      <td>Rising_Moon</td>\n",
       "      <td>Hate_from_Heaven</td>\n",
       "      <td>RapeTheDead</td>\n",
       "      <td>36</td>\n",
       "      <td>December  3 2019</td>\n",
       "      <td>2019</td>\n",
       "      <td>sounds like shit</td>\n",
       "      <td>-0.2732</td>\n",
       "      <td>16</td>\n",
       "      <td>https://www.metal-archives.com/reviews/Rising_...</td>\n",
       "    </tr>\n",
       "    <tr>\n",
       "      <th>41127</th>\n",
       "      <td>41127</td>\n",
       "      <td>Slavehouse</td>\n",
       "      <td>Taste_in_Pain</td>\n",
       "      <td>Thumbman</td>\n",
       "      <td>90</td>\n",
       "      <td>December  3 2019</td>\n",
       "      <td>2019</td>\n",
       "      <td>Scorpion Whip</td>\n",
       "      <td>0.0000</td>\n",
       "      <td>13</td>\n",
       "      <td>https://www.metal-archives.com/reviews/Slaveho...</td>\n",
       "    </tr>\n",
       "    <tr>\n",
       "      <th>41128</th>\n",
       "      <td>41128</td>\n",
       "      <td>Warcrab</td>\n",
       "      <td>Warcrab</td>\n",
       "      <td>gasmask_colostomy</td>\n",
       "      <td>74</td>\n",
       "      <td>December  3 2019</td>\n",
       "      <td>2019</td>\n",
       "      <td>Crabby by nature</td>\n",
       "      <td>0.0000</td>\n",
       "      <td>16</td>\n",
       "      <td>https://www.metal-archives.com/reviews/Warcrab...</td>\n",
       "    </tr>\n",
       "    <tr>\n",
       "      <th>41129</th>\n",
       "      <td>41129</td>\n",
       "      <td>Illusion_Force</td>\n",
       "      <td>The_World_Soul</td>\n",
       "      <td>hells_unicorn</td>\n",
       "      <td>90</td>\n",
       "      <td>December  3 2019</td>\n",
       "      <td>2019</td>\n",
       "      <td>Wisdom arising from the east.</td>\n",
       "      <td>0.5267</td>\n",
       "      <td>29</td>\n",
       "      <td>https://www.metal-archives.com/reviews/Illusio...</td>\n",
       "    </tr>\n",
       "  </tbody>\n",
       "</table>\n",
       "<p>41130 rows × 11 columns</p>\n",
       "</div>"
      ],
      "text/plain": [
       "       Unnamed: 0            Band                                      Album  \\\n",
       "0               0       Meshuggah                                 Chaosphere   \n",
       "1               1         Carcass  Necroticism_-_Descanting_the_Insalubrious   \n",
       "2               2       Nightwish                          Angels_Fall_First   \n",
       "3               3      Iced_Earth                               Dark_Genesis   \n",
       "4               4  Blind_Guardian                       A_Night_at_the_Opera   \n",
       "...           ...             ...                                        ...   \n",
       "41125       41125          Flamen                                Furor_Lunae   \n",
       "41126       41126     Rising_Moon                           Hate_from_Heaven   \n",
       "41127       41127      Slavehouse                              Taste_in_Pain   \n",
       "41128       41128         Warcrab                                    Warcrab   \n",
       "41129       41129  Illusion_Force                             The_World_Soul   \n",
       "\n",
       "                  Author  Score              Date  Year  \\\n",
       "0       SpookyApparition     82      July 11 2002  2002   \n",
       "1       SpookyApparition     88      July 14 2002  2002   \n",
       "2               MarkRyan     90      July 15 2002  2002   \n",
       "3                   Fear     87      July 16 2002  2002   \n",
       "4               Esoteric     70      July 16 2002  2002   \n",
       "...                  ...    ...               ...   ...   \n",
       "41125        RapeTheDead     66  December  3 2019  2019   \n",
       "41126        RapeTheDead     36  December  3 2019  2019   \n",
       "41127           Thumbman     90  December  3 2019  2019   \n",
       "41128  gasmask_colostomy     74  December  3 2019  2019   \n",
       "41129      hells_unicorn     90  December  3 2019  2019   \n",
       "\n",
       "                                     Review  Sentiment  Length  \\\n",
       "0           Technical metal at it's finest.     0.0000      31   \n",
       "1                  Carcass at their finest.     0.0000      24   \n",
       "2          On par with their other stuff...     0.0000      32   \n",
       "3                 Brilliance in Repackaging     0.5994      25   \n",
       "4                    Somewhat Disappointing    -0.4417      22   \n",
       "...                                     ...        ...     ...   \n",
       "41125  please tell me this guy's not a nazi     0.3182      36   \n",
       "41126                      sounds like shit    -0.2732      16   \n",
       "41127                         Scorpion Whip     0.0000      13   \n",
       "41128                      Crabby by nature     0.0000      16   \n",
       "41129         Wisdom arising from the east.     0.5267      29   \n",
       "\n",
       "                                                    Link  \n",
       "0      https://www.metal-archives.com/reviews/Meshugg...  \n",
       "1      https://www.metal-archives.com/reviews/Carcass...  \n",
       "2      https://www.metal-archives.com/reviews/Nightwi...  \n",
       "3      https://www.metal-archives.com/reviews/Iced_Ea...  \n",
       "4      https://www.metal-archives.com/reviews/Blind_G...  \n",
       "...                                                  ...  \n",
       "41125  https://www.metal-archives.com/reviews/Flamen/...  \n",
       "41126  https://www.metal-archives.com/reviews/Rising_...  \n",
       "41127  https://www.metal-archives.com/reviews/Slaveho...  \n",
       "41128  https://www.metal-archives.com/reviews/Warcrab...  \n",
       "41129  https://www.metal-archives.com/reviews/Illusio...  \n",
       "\n",
       "[41130 rows x 11 columns]"
      ]
     },
     "execution_count": 3,
     "metadata": {},
     "output_type": "execute_result"
    }
   ],
   "source": [
    "df"
   ]
  },
  {
   "cell_type": "code",
   "execution_count": 4,
   "metadata": {
    "colab": {},
    "colab_type": "code",
    "id": "hj_C5n7-dJqQ"
   },
   "outputs": [],
   "source": [
    "url = 'https://www.metal-archives.com/reviews/Iced_Earth/Dark_Genesis/2/Fear/21'"
   ]
  },
  {
   "cell_type": "code",
   "execution_count": 5,
   "metadata": {
    "colab": {},
    "colab_type": "code",
    "id": "Eio8RpMbdJqW"
   },
   "outputs": [],
   "source": [
    "r = requests.get(url)\n",
    "html_doc = r.content\n",
    "soup = BeautifulSoup(html_doc, 'html.parser')"
   ]
  },
  {
   "cell_type": "code",
   "execution_count": 6,
   "metadata": {
    "colab": {},
    "colab_type": "code",
    "id": "uDOeISd7dJqZ"
   },
   "outputs": [],
   "source": [
    "#print(soup.prettify())"
   ]
  },
  {
   "cell_type": "code",
   "execution_count": 7,
   "metadata": {
    "colab": {},
    "colab_type": "code",
    "id": "CIwXOXAtdJqb"
   },
   "outputs": [],
   "source": [
    "text = soup.find_all('p')[3].text.replace('\\n','')"
   ]
  },
  {
   "cell_type": "code",
   "execution_count": 8,
   "metadata": {
    "colab": {
     "base_uri": "https://localhost:8080/",
     "height": 54
    },
    "colab_type": "code",
    "id": "vUW2I3TAdJqe",
    "outputId": "454212a1-d988-4626-a54e-e90ce0d88342"
   },
   "outputs": [
    {
     "data": {
      "text/plain": [
       "'This is not a new album, but in fact, five albums, four of which are old material, remastered and repackaged. I bought it because I\\'m a big fan of Iced Earth, and wanted to get my hands on the cover album and the original demo. The demo itself contains different versions of songs we all know and love, while the other three re-released albums are wonderfully remastered. I bought this thinking that it would have Matt Barlow replacing the original vocals. It doesn\\'t. I was slightly saddened by this, but at the same time, glad they didn\\'t just throw away their past.For your information, the three remastered albums WILL be released individually, replacing the original versions. So, if you don\\'t own the first three Iced Earth albums, get them now before they\\'re gone. I\\'m not aware of the demo nor the cover album being sold individually, so if you want them, it would likely be best to go and buy this set.The covers album ranges from okay to awesome. It has a couple bands repeated in it, so there isn\\'t as much variety of bands covered as one would hope, but what is covered is done quite well. Songs like Kiss\\' \"God of Thunder\", Alice Cooper\\'s \"Dead Babies\" and Black Sabbath\\'s \"Black Sabbath\" have a difinitively new sound to them (though I still think the best version of Black Sabbath I\\'ve ever heard was Solstice of Suffering\\'s). Other songs hold true to the original sound. The most suprising band I heard on the album was probably AC/DC. I was also hoping for a cover of a Metallica song, but to no avail. All in all, a good boxed set, but a bit too much to pay for if you\\'re not a big fan of Iced Earth.'"
      ]
     },
     "execution_count": 8,
     "metadata": {},
     "output_type": "execute_result"
    }
   ],
   "source": [
    "text"
   ]
  },
  {
   "cell_type": "code",
   "execution_count": 9,
   "metadata": {
    "colab": {},
    "colab_type": "code",
    "id": "njsH0hz6dJqk"
   },
   "outputs": [],
   "source": [
    "genres_list = ['Black',\n",
    " 'Death',\n",
    " 'Doom/Stoner/Sludge',\n",
    " 'Electronic/Industrial',\n",
    " 'Experimental/Avant-garde',\n",
    " 'Folk/Viking/Pagan',\n",
    " 'Gothic',\n",
    " 'Grindcore',\n",
    " 'Groove',\n",
    " 'Heavy',\n",
    " 'Metalcore/Deathcore',\n",
    " 'Power',\n",
    " 'Progressive',\n",
    " 'Speed',\n",
    " 'Symphonic',\n",
    " 'Thrash']\n",
    "genres = {genre:[item for item in genre.split('/')] for genre in genres_list}#different types of words for each genre"
   ]
  },
  {
   "cell_type": "code",
   "execution_count": null,
   "metadata": {
    "colab": {
     "base_uri": "https://localhost:8080/",
     "height": 34
    },
    "colab_type": "code",
    "id": "js6c338ZdJqn",
    "outputId": "81bc76bb-bbc4-45a2-be76-c080214b9572"
   },
   "outputs": [
    {
     "name": "stdout",
     "output_type": "stream",
     "text": [
      "18250\n",
      "18260\n",
      "18270\n",
      "18280\n",
      "18290\n"
     ]
    }
   ],
   "source": [
    "df1 = pd.DataFrame()\n",
    "path = 'https://www.metal-archives.com/bands/'\n",
    "status = []\n",
    "country = []\n",
    "genre = []\n",
    "themes = []\n",
    "formed = []\n",
    "texts = []\n",
    "location = []\n",
    "for i in range(18249,18429):#one third\n",
    "    if i%10 == 0:\n",
    "        print(i)\n",
    "    band = df['Band'][i]\n",
    "    url = path + str(band)\n",
    "    r = requests.get(url)\n",
    "    html_doc = r.content\n",
    "    soup = BeautifulSoup(html_doc, 'html.parser')\n",
    "    urllink = df['Link'][i]\n",
    "    r = requests.get(urllink)\n",
    "    html_doc = r.content\n",
    "    soup_text = BeautifulSoup(html_doc, 'html.parser')\n",
    "    if soup.find(string = 'Formed in:') == None:\n",
    "        url = [x['href'] for x in soup_text.find_all('a', href=True) if path in x['href']]\n",
    "        if len(url) == 0:\n",
    "            formed.append(np.NaN)\n",
    "            country.append(np.NaN)\n",
    "            themes.append(np.NaN)\n",
    "            status.append(np.NaN)\n",
    "            genre.append(np.NaN)\n",
    "            location.append(np.NaN)\n",
    "            texts.append(np.NaN)\n",
    "            continue\n",
    "        else:\n",
    "            url = url[0]\n",
    "        r = requests.get(url)\n",
    "        html_doc = r.content\n",
    "        soup = BeautifulSoup(html_doc, 'html.parser')\n",
    "        #print(url)\n",
    "    formed.append(soup.find(string = 'Formed in:').find_next(\"dd\").contents[0])\n",
    "    country.append(soup.find(string = 'Country of origin:').find_next(\"dd\").contents[0].contents[0])\n",
    "    themes.append(soup.find(string = 'Lyrical themes:').find_next(\"dd\").contents[0])\n",
    "    status.append(soup.find(string = 'Status:').find_next(\"dd\").contents[0])\n",
    "    genre.append(soup.find(string = 'Genre:').find_next(\"dd\").contents[0])\n",
    "    location.append(soup.find(string = 'Location:').find_next(\"dd\").contents[0])\n",
    "    texts.append(soup_text.find_all('p')[3].text.replace('\\n',''))\n",
    "df1['Formed'] = formed\n",
    "df1['Country'] = country\n",
    "df1['Themes'] = themes\n",
    "df1['Status'] = status\n",
    "df1['Genre'] = genre\n",
    "df1['Texts'] = texts\n",
    "df1['Location'] = location"
   ]
  },
  {
   "cell_type": "code",
   "execution_count": null,
   "metadata": {
    "colab": {},
    "colab_type": "code",
    "id": "ADINE1GZdJqp"
   },
   "outputs": [],
   "source": [
    "df1.to_csv('reviewsv5-2_18249-18428.csv')"
   ]
  }
 ],
 "metadata": {
  "colab": {
   "name": "web_scraper_new.ipynb",
   "provenance": []
  },
  "kernelspec": {
   "display_name": "Python 3",
   "language": "python",
   "name": "python3"
  },
  "language_info": {
   "codemirror_mode": {
    "name": "ipython",
    "version": 3
   },
   "file_extension": ".py",
   "mimetype": "text/x-python",
   "name": "python",
   "nbconvert_exporter": "python",
   "pygments_lexer": "ipython3",
   "version": "3.8.3"
  }
 },
 "nbformat": 4,
 "nbformat_minor": 4
}

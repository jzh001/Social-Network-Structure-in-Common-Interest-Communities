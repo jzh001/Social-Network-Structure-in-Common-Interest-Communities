{
 "cells": [
  {
   "cell_type": "code",
   "execution_count": 2,
   "metadata": {},
   "outputs": [],
   "source": [
    "from urllib.request import urlopen,Request\n",
    "from urllib.parse import unquote,quote\n",
    "import requests\n",
    "from bs4 import BeautifulSoup\n",
    "import pandas as pd\n",
    "import numpy as np\n",
    "import urllib\n",
    "import collections as clt\n",
    "import time"
   ]
  },
  {
   "cell_type": "code",
   "execution_count": 3,
   "metadata": {},
   "outputs": [],
   "source": [
    "df = pd.read_csv('reviews_full_v1.csv')"
   ]
  },
  {
   "cell_type": "code",
   "execution_count": null,
   "metadata": {},
   "outputs": [],
   "source": [
    "df"
   ]
  },
  {
   "cell_type": "code",
   "execution_count": 4,
   "metadata": {},
   "outputs": [
    {
     "data": {
      "text/plain": [
       "['Symphonic power metal']"
      ]
     },
     "execution_count": 4,
     "metadata": {},
     "output_type": "execute_result"
    }
   ],
   "source": [
    "def searchAlbum(album, url = \"\"):\n",
    "    if url == \"\":\n",
    "        url = 'http://www.metalstorm.net/home/search.php?search_what='+ album.replace('_','%2B') +'&search_where=album'\n",
    "    #print(url)\n",
    "    req = Request(url=url, headers = {'User-Agent': 'Mozilla/5.0'}) \n",
    "    try:\n",
    "        html_doc = urlopen(req).read()\n",
    "    except:\n",
    "        return []\n",
    "    #print(url)\n",
    "    soup = BeautifulSoup(html_doc, 'html.parser')\n",
    "    #print(soup.prettify())\n",
    "    '''<td valign=\"top\">\n",
    "  <a href=\"index.php?b_where=s.style&amp;b_what=Grindcore&amp;prefix=\">\n",
    "   Grindcore\n",
    "  </a>'''\n",
    "    prefix = \"index.php?b_where=s.style\"\n",
    "    ret = [a.text for a in soup(\"a\", href=lambda x: x and x.startswith(prefix))]\n",
    "    if len(ret) != 0:\n",
    "        return ret\n",
    "    prefix = 'album.php?album_id='\n",
    "    album1 = unquote(album.replace('_',' ').lower())\n",
    "    #print(album1)\n",
    "    for a in soup(\"a\", href=lambda x: x and x.startswith(prefix)):\n",
    "        if a.text.lower() == album1:\n",
    "            return searchAlbum(album,'http://www.metalstorm.net/bands/'+a['href'])\n",
    "    return []\n",
    "    #print(soup.td.a)\n",
    "    #print(list(soup.select(\"a[href^=index.php?b_where=s.style&amp;b_what=]\")))\n",
    "    #print(table.find_all('a',))\n",
    "    #print(list(enumerate(soup.find_all('a'))))\n",
    "    #print(soup.find_all('a')[250].text)\n",
    "searchAlbum(df['Release'][20])"
   ]
  },
  {
   "cell_type": "code",
   "execution_count": 6,
   "metadata": {},
   "outputs": [
    {
     "name": "stdout",
     "output_type": "stream",
     "text": [
      "['Technical thrash metal', ' Math metal', ' Progressive metal']\n",
      "[' Grindcore', 'Melodic death metal']\n",
      "['Symphonic power metal']\n",
      "[' Heavy metal', 'US power metal']\n",
      "[' Power metal']\n",
      "[' Progressive metal']\n",
      "['Extreme progressive metal']\n",
      "['Technical death metal']\n",
      "[]\n",
      "[]\n",
      "[' Heavy metal', 'US power metal']\n",
      "[' Black metal']\n",
      "[' Death metal', ' Thrash metal']\n",
      "['Melodic death metal']\n",
      "[' Heavy metal', ' Progressive metal', ' Thrash metal']\n",
      "['Technical death metal']\n",
      "['Technical death metal']\n",
      "[' Heavy metal', 'US power metal']\n",
      "[' Heavy metal', 'US power metal']\n",
      "[]\n",
      "['Symphonic power metal']\n",
      "[' Heavy metal']\n",
      "[' Power metal']\n",
      "[' Progressive metal', 'Djent ']\n",
      "[' Gothenburg metal']\n",
      "[' Heavy metal', ' Power metal']\n",
      "[' Speed metal']\n",
      "[' Progressive metal']\n",
      "[' Black metal']\n",
      "[' Heavy metal']\n",
      "[' Thrash metal']\n",
      "[' Heavy metal']\n",
      "[' Thrash metal', ' Speed metal']\n",
      "[' Death metal']\n",
      "['Symphonic black metal', ' Power metal']\n",
      "[' Heavy metal']\n",
      "[' Heavy metal', ' Power metal']\n",
      "[' Black metal']\n",
      "[]\n",
      "[]\n",
      "[' Black metal']\n",
      "[' Black metal']\n",
      "[' Black metal']\n",
      "[]\n",
      "[' Thrash metal']\n",
      "[' Thrash metal']\n",
      "[' Folk metal', ' Power metal']\n",
      "[' Power metal']\n",
      "[]\n",
      "[]\n",
      "[' Thrash metal']\n",
      "[]\n",
      "[]\n",
      "[]\n",
      "[' Heavy metal', ' Hard rock']\n",
      "[' Black metal']\n",
      "[' Heavy metal']\n",
      "[' Heavy metal']\n",
      "[' Thrash metal']\n",
      "['New wave of British heavy metal']\n",
      "[' Death metal', ' Thrash metal']\n",
      "[]\n",
      "['US heavy metal', ' Power metal']\n",
      "[' Thrash metal']\n",
      "[' Heavy metal', ' Hard rock']\n",
      "[' Death metal']\n",
      "[' Heavy metal']\n",
      "[' Deathcore']\n",
      "['Bay Area thrash metal']\n",
      "[]\n",
      "['New wave of British heavy metal']\n",
      "[' Thrash metal']\n",
      "['US power metal']\n",
      "['US power metal']\n",
      "['Melodic death metal', 'Technical death metal']\n",
      "['Melodic death metal', 'Technical death metal']\n",
      "['Blackened death metal']\n",
      "[' Heavy metal']\n",
      "[' Thrash metal']\n",
      "[]\n",
      "[' Heavy metal', ' Hard rock']\n",
      "[' Death metal', ' Thrash metal']\n",
      "[' Death metal', ' Thrash metal']\n",
      "[' Death metal', ' Thrash metal']\n",
      "[]\n",
      "['Melodic death metal', 'Technical death metal']\n",
      "[' Heavy metal']\n",
      "[]\n",
      "['Atmospheric sludge metal', ' Post-metal']\n",
      "[' Heavy metal']\n",
      "[]\n",
      "['Melodic black metal', 'Pagan black metal']\n",
      "[]\n",
      "[' Hard rock']\n",
      "['Progressive thrash metal']\n",
      "[' Power metal']\n",
      "['Bay Area thrash metal']\n",
      "[' Progressive metal']\n",
      "[' Heavy metal', 'US power metal']\n",
      "[' Black metal']\n",
      "213.05275177955627\n"
     ]
    }
   ],
   "source": [
    "#use set of albums\n",
    "genres = []\n",
    "import time\n",
    "a  = time.time()\n",
    "for item in df['Release'][:100]:\n",
    "    genres.append(searchAlbum(item))\n",
    "    print(genres[-1])\n",
    "print(time.time()-a)"
   ]
  },
  {
   "cell_type": "code",
   "execution_count": 36,
   "metadata": {},
   "outputs": [],
   "source": [
    "'''ds = pd.DataFrame()\n",
    "ds['Album'] = list(set(df['Release']))\n",
    "ds.to_csv('albums.csv',index = False)'''"
   ]
  },
  {
   "cell_type": "code",
   "execution_count": 37,
   "metadata": {},
   "outputs": [],
   "source": [
    "ds = pd.read_csv('albums.csv')"
   ]
  },
  {
   "cell_type": "code",
   "execution_count": 42,
   "metadata": {},
   "outputs": [
    {
     "name": "stdout",
     "output_type": "stream",
     "text": [
      "0\n",
      "1\n",
      "2\n",
      "3\n",
      "4\n",
      "5\n",
      "6\n",
      "7\n",
      "8\n",
      "9\n",
      "15.009608507156372\n"
     ]
    },
    {
     "ename": "ValueError",
     "evalue": "Length of values does not match length of index",
     "output_type": "error",
     "traceback": [
      "\u001b[1;31m---------------------------------------------------------------------------\u001b[0m",
      "\u001b[1;31mValueError\u001b[0m                                Traceback (most recent call last)",
      "\u001b[1;32m<ipython-input-42-6b9ed36d5684>\u001b[0m in \u001b[0;36m<module>\u001b[1;34m\u001b[0m\n\u001b[0;32m      6\u001b[0m     \u001b[0mgenres\u001b[0m\u001b[1;33m.\u001b[0m\u001b[0mappend\u001b[0m\u001b[1;33m(\u001b[0m\u001b[0mstr\u001b[0m\u001b[1;33m(\u001b[0m\u001b[0msearchAlbum\u001b[0m\u001b[1;33m(\u001b[0m\u001b[0malbum\u001b[0m\u001b[1;33m)\u001b[0m\u001b[1;33m)\u001b[0m\u001b[1;33m)\u001b[0m\u001b[1;33m\u001b[0m\u001b[1;33m\u001b[0m\u001b[0m\n\u001b[0;32m      7\u001b[0m \u001b[0mprint\u001b[0m\u001b[1;33m(\u001b[0m\u001b[0mtime\u001b[0m\u001b[1;33m.\u001b[0m\u001b[0mtime\u001b[0m\u001b[1;33m(\u001b[0m\u001b[1;33m)\u001b[0m\u001b[1;33m-\u001b[0m\u001b[0ma\u001b[0m\u001b[1;33m)\u001b[0m\u001b[1;33m\u001b[0m\u001b[1;33m\u001b[0m\u001b[0m\n\u001b[1;32m----> 8\u001b[1;33m \u001b[0mds\u001b[0m\u001b[1;33m[\u001b[0m\u001b[1;34m'Genre'\u001b[0m\u001b[1;33m]\u001b[0m \u001b[1;33m=\u001b[0m \u001b[0mgenres\u001b[0m\u001b[1;33m\u001b[0m\u001b[1;33m\u001b[0m\u001b[0m\n\u001b[0m\u001b[0;32m      9\u001b[0m \u001b[0mds\u001b[0m\u001b[1;33m.\u001b[0m\u001b[0mto_csv\u001b[0m\u001b[1;33m(\u001b[0m\u001b[1;34m'genres.csv'\u001b[0m\u001b[1;33m)\u001b[0m\u001b[1;33m\u001b[0m\u001b[1;33m\u001b[0m\u001b[0m\n",
      "\u001b[1;32mc:\\users\\jzheng\\appdata\\local\\programs\\python\\python38\\lib\\site-packages\\pandas\\core\\frame.py\u001b[0m in \u001b[0;36m__setitem__\u001b[1;34m(self, key, value)\u001b[0m\n\u001b[0;32m   2936\u001b[0m         \u001b[1;32melse\u001b[0m\u001b[1;33m:\u001b[0m\u001b[1;33m\u001b[0m\u001b[1;33m\u001b[0m\u001b[0m\n\u001b[0;32m   2937\u001b[0m             \u001b[1;31m# set column\u001b[0m\u001b[1;33m\u001b[0m\u001b[1;33m\u001b[0m\u001b[1;33m\u001b[0m\u001b[0m\n\u001b[1;32m-> 2938\u001b[1;33m             \u001b[0mself\u001b[0m\u001b[1;33m.\u001b[0m\u001b[0m_set_item\u001b[0m\u001b[1;33m(\u001b[0m\u001b[0mkey\u001b[0m\u001b[1;33m,\u001b[0m \u001b[0mvalue\u001b[0m\u001b[1;33m)\u001b[0m\u001b[1;33m\u001b[0m\u001b[1;33m\u001b[0m\u001b[0m\n\u001b[0m\u001b[0;32m   2939\u001b[0m \u001b[1;33m\u001b[0m\u001b[0m\n\u001b[0;32m   2940\u001b[0m     \u001b[1;32mdef\u001b[0m \u001b[0m_setitem_slice\u001b[0m\u001b[1;33m(\u001b[0m\u001b[0mself\u001b[0m\u001b[1;33m,\u001b[0m \u001b[0mkey\u001b[0m\u001b[1;33m,\u001b[0m \u001b[0mvalue\u001b[0m\u001b[1;33m)\u001b[0m\u001b[1;33m:\u001b[0m\u001b[1;33m\u001b[0m\u001b[1;33m\u001b[0m\u001b[0m\n",
      "\u001b[1;32mc:\\users\\jzheng\\appdata\\local\\programs\\python\\python38\\lib\\site-packages\\pandas\\core\\frame.py\u001b[0m in \u001b[0;36m_set_item\u001b[1;34m(self, key, value)\u001b[0m\n\u001b[0;32m   2998\u001b[0m \u001b[1;33m\u001b[0m\u001b[0m\n\u001b[0;32m   2999\u001b[0m         \u001b[0mself\u001b[0m\u001b[1;33m.\u001b[0m\u001b[0m_ensure_valid_index\u001b[0m\u001b[1;33m(\u001b[0m\u001b[0mvalue\u001b[0m\u001b[1;33m)\u001b[0m\u001b[1;33m\u001b[0m\u001b[1;33m\u001b[0m\u001b[0m\n\u001b[1;32m-> 3000\u001b[1;33m         \u001b[0mvalue\u001b[0m \u001b[1;33m=\u001b[0m \u001b[0mself\u001b[0m\u001b[1;33m.\u001b[0m\u001b[0m_sanitize_column\u001b[0m\u001b[1;33m(\u001b[0m\u001b[0mkey\u001b[0m\u001b[1;33m,\u001b[0m \u001b[0mvalue\u001b[0m\u001b[1;33m)\u001b[0m\u001b[1;33m\u001b[0m\u001b[1;33m\u001b[0m\u001b[0m\n\u001b[0m\u001b[0;32m   3001\u001b[0m         \u001b[0mNDFrame\u001b[0m\u001b[1;33m.\u001b[0m\u001b[0m_set_item\u001b[0m\u001b[1;33m(\u001b[0m\u001b[0mself\u001b[0m\u001b[1;33m,\u001b[0m \u001b[0mkey\u001b[0m\u001b[1;33m,\u001b[0m \u001b[0mvalue\u001b[0m\u001b[1;33m)\u001b[0m\u001b[1;33m\u001b[0m\u001b[1;33m\u001b[0m\u001b[0m\n\u001b[0;32m   3002\u001b[0m \u001b[1;33m\u001b[0m\u001b[0m\n",
      "\u001b[1;32mc:\\users\\jzheng\\appdata\\local\\programs\\python\\python38\\lib\\site-packages\\pandas\\core\\frame.py\u001b[0m in \u001b[0;36m_sanitize_column\u001b[1;34m(self, key, value, broadcast)\u001b[0m\n\u001b[0;32m   3634\u001b[0m \u001b[1;33m\u001b[0m\u001b[0m\n\u001b[0;32m   3635\u001b[0m             \u001b[1;31m# turn me into an ndarray\u001b[0m\u001b[1;33m\u001b[0m\u001b[1;33m\u001b[0m\u001b[1;33m\u001b[0m\u001b[0m\n\u001b[1;32m-> 3636\u001b[1;33m             \u001b[0mvalue\u001b[0m \u001b[1;33m=\u001b[0m \u001b[0msanitize_index\u001b[0m\u001b[1;33m(\u001b[0m\u001b[0mvalue\u001b[0m\u001b[1;33m,\u001b[0m \u001b[0mself\u001b[0m\u001b[1;33m.\u001b[0m\u001b[0mindex\u001b[0m\u001b[1;33m,\u001b[0m \u001b[0mcopy\u001b[0m\u001b[1;33m=\u001b[0m\u001b[1;32mFalse\u001b[0m\u001b[1;33m)\u001b[0m\u001b[1;33m\u001b[0m\u001b[1;33m\u001b[0m\u001b[0m\n\u001b[0m\u001b[0;32m   3637\u001b[0m             \u001b[1;32mif\u001b[0m \u001b[1;32mnot\u001b[0m \u001b[0misinstance\u001b[0m\u001b[1;33m(\u001b[0m\u001b[0mvalue\u001b[0m\u001b[1;33m,\u001b[0m \u001b[1;33m(\u001b[0m\u001b[0mnp\u001b[0m\u001b[1;33m.\u001b[0m\u001b[0mndarray\u001b[0m\u001b[1;33m,\u001b[0m \u001b[0mIndex\u001b[0m\u001b[1;33m)\u001b[0m\u001b[1;33m)\u001b[0m\u001b[1;33m:\u001b[0m\u001b[1;33m\u001b[0m\u001b[1;33m\u001b[0m\u001b[0m\n\u001b[0;32m   3638\u001b[0m                 \u001b[1;32mif\u001b[0m \u001b[0misinstance\u001b[0m\u001b[1;33m(\u001b[0m\u001b[0mvalue\u001b[0m\u001b[1;33m,\u001b[0m \u001b[0mlist\u001b[0m\u001b[1;33m)\u001b[0m \u001b[1;32mand\u001b[0m \u001b[0mlen\u001b[0m\u001b[1;33m(\u001b[0m\u001b[0mvalue\u001b[0m\u001b[1;33m)\u001b[0m \u001b[1;33m>\u001b[0m \u001b[1;36m0\u001b[0m\u001b[1;33m:\u001b[0m\u001b[1;33m\u001b[0m\u001b[1;33m\u001b[0m\u001b[0m\n",
      "\u001b[1;32mc:\\users\\jzheng\\appdata\\local\\programs\\python\\python38\\lib\\site-packages\\pandas\\core\\internals\\construction.py\u001b[0m in \u001b[0;36msanitize_index\u001b[1;34m(data, index, copy)\u001b[0m\n\u001b[0;32m    609\u001b[0m \u001b[1;33m\u001b[0m\u001b[0m\n\u001b[0;32m    610\u001b[0m     \u001b[1;32mif\u001b[0m \u001b[0mlen\u001b[0m\u001b[1;33m(\u001b[0m\u001b[0mdata\u001b[0m\u001b[1;33m)\u001b[0m \u001b[1;33m!=\u001b[0m \u001b[0mlen\u001b[0m\u001b[1;33m(\u001b[0m\u001b[0mindex\u001b[0m\u001b[1;33m)\u001b[0m\u001b[1;33m:\u001b[0m\u001b[1;33m\u001b[0m\u001b[1;33m\u001b[0m\u001b[0m\n\u001b[1;32m--> 611\u001b[1;33m         \u001b[1;32mraise\u001b[0m \u001b[0mValueError\u001b[0m\u001b[1;33m(\u001b[0m\u001b[1;34m\"Length of values does not match length of index\"\u001b[0m\u001b[1;33m)\u001b[0m\u001b[1;33m\u001b[0m\u001b[1;33m\u001b[0m\u001b[0m\n\u001b[0m\u001b[0;32m    612\u001b[0m \u001b[1;33m\u001b[0m\u001b[0m\n\u001b[0;32m    613\u001b[0m     \u001b[1;32mif\u001b[0m \u001b[0misinstance\u001b[0m\u001b[1;33m(\u001b[0m\u001b[0mdata\u001b[0m\u001b[1;33m,\u001b[0m \u001b[0mABCIndexClass\u001b[0m\u001b[1;33m)\u001b[0m \u001b[1;32mand\u001b[0m \u001b[1;32mnot\u001b[0m \u001b[0mcopy\u001b[0m\u001b[1;33m:\u001b[0m\u001b[1;33m\u001b[0m\u001b[1;33m\u001b[0m\u001b[0m\n",
      "\u001b[1;31mValueError\u001b[0m: Length of values does not match length of index"
     ]
    }
   ],
   "source": [
    "a  = time.time()\n",
    "genres = []\n",
    "for i,album in enumerate(ds['Album'][:10]):\n",
    "    if i%1000 == 0:\n",
    "        print(i)\n",
    "    genres.append(str(searchAlbum(album)))\n",
    "print(time.time()-a)\n",
    "ds['Genre'] = genres\n",
    "ds.to_csv('genres.csv')"
   ]
  },
  {
   "cell_type": "code",
   "execution_count": 8,
   "metadata": {},
   "outputs": [],
   "source": [
    "'''ds = pd.read_csv('albums.csv')\n",
    "ds1 = pd.read_csv('genres0.csv')\n",
    "ds2 = pd.read_csv('genres10000.csv')\n",
    "ds3 = pd.read_csv('genres20000.csv')\n",
    "ds4 = pd.read_csv('genres30000.csv')\n",
    "ds['Genre'] = list(ds1['Genre']) + list(ds2['Genre']) + list(ds3['Genre']) + list(ds4['Genre']) \n",
    "ds.to_csv('genres.csv', index = False)'''"
   ]
  },
  {
   "cell_type": "code",
   "execution_count": 10,
   "metadata": {},
   "outputs": [],
   "source": [
    "mp = {}\n",
    "for i,item in enumerate(ds['Album']):\n",
    "    mp[item] = ds['Genre'][i]\n",
    "df = pd.read_csv('reviews_full_v1.csv')\n",
    "\n",
    "genres = []\n",
    "for album in df['Release']:\n",
    "    genres.append(mp[album])\n",
    "\n",
    "df['Genre'] = genres"
   ]
  },
  {
   "cell_type": "code",
   "execution_count": 13,
   "metadata": {},
   "outputs": [
    {
     "data": {
      "text/plain": [
       "0.2903867970974164"
      ]
     },
     "execution_count": 13,
     "metadata": {},
     "output_type": "execute_result"
    }
   ],
   "source": [
    "list(df['Genre']).count('[]')/len(df)"
   ]
  },
  {
   "cell_type": "code",
   "execution_count": 14,
   "metadata": {},
   "outputs": [],
   "source": [
    "df.to_csv('reviews_full_v2.csv')"
   ]
  },
  {
   "cell_type": "code",
   "execution_count": 15,
   "metadata": {},
   "outputs": [
    {
     "data": {
      "text/plain": [
       "0.2679259293637165"
      ]
     },
     "execution_count": 15,
     "metadata": {},
     "output_type": "execute_result"
    }
   ],
   "source": [
    "df1 = df[df.Score >= 75]\n",
    "list(df1['Genre']).count('[]')/len(df1)"
   ]
  }
 ],
 "metadata": {
  "kernelspec": {
   "display_name": "Python 3",
   "language": "python",
   "name": "python3"
  },
  "language_info": {
   "codemirror_mode": {
    "name": "ipython",
    "version": 3
   },
   "file_extension": ".py",
   "mimetype": "text/x-python",
   "name": "python",
   "nbconvert_exporter": "python",
   "pygments_lexer": "ipython3",
   "version": "3.8.3"
  }
 },
 "nbformat": 4,
 "nbformat_minor": 4
}

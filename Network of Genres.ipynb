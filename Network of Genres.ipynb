{
 "cells": [
  {
   "cell_type": "markdown",
   "metadata": {},
   "source": [
    "# Network of Genres"
   ]
  },
  {
   "cell_type": "markdown",
   "metadata": {},
   "source": [
    "Clusters similar genres together."
   ]
  },
  {
   "cell_type": "code",
   "execution_count": 1,
   "metadata": {},
   "outputs": [],
   "source": [
    "from community import best_partition, modularity\n",
    "import numpy as np\n",
    "import pandas as pd\n",
    "import networkx as nx\n",
    "import collections as clt\n",
    "import matplotlib.pyplot as plt\n",
    "import pickle\n",
    "import itertools\n",
    "from joblib import Parallel, delayed\n",
    "import math"
   ]
  },
  {
   "cell_type": "code",
   "execution_count": 2,
   "metadata": {},
   "outputs": [],
   "source": [
    "df = pd.read_csv('reviews_full_v7.csv')"
   ]
  },
  {
   "cell_type": "code",
   "execution_count": 3,
   "metadata": {},
   "outputs": [],
   "source": [
    "plt.rcParams[\"figure.figsize\"] = (10,7) #defining size of plots"
   ]
  },
  {
   "cell_type": "code",
   "execution_count": 4,
   "metadata": {},
   "outputs": [
    {
     "data": {
      "text/plain": [
       "0        technical thrash metal|math metal|progressive ...\n",
       "1                            grindcore|melodic death metal\n",
       "2                                    symphonic power metal\n",
       "3                               heavy metal|us power metal\n",
       "4                                              power metal\n",
       "                               ...                        \n",
       "93429                                         thrash metal\n",
       "93430                                          death metal\n",
       "93431                                         thrash metal\n",
       "93432                                            hard rock\n",
       "93433                                            hard rock\n",
       "Name: Genre, Length: 93434, dtype: object"
      ]
     },
     "execution_count": 4,
     "metadata": {},
     "output_type": "execute_result"
    }
   ],
   "source": [
    "df['Genre']"
   ]
  },
  {
   "cell_type": "code",
   "execution_count": 5,
   "metadata": {},
   "outputs": [],
   "source": [
    "G = nx.Graph()\n",
    "B = nx.Graph()"
   ]
  },
  {
   "cell_type": "code",
   "execution_count": 6,
   "metadata": {},
   "outputs": [
    {
     "data": {
      "text/plain": [
       "297"
      ]
     },
     "execution_count": 6,
     "metadata": {},
     "output_type": "execute_result"
    }
   ],
   "source": [
    "genres = open('genres.txt').read().split('\\n')[:-1] #nodes, lastline is newspace\n",
    "len(genres)"
   ]
  },
  {
   "cell_type": "code",
   "execution_count": 7,
   "metadata": {},
   "outputs": [],
   "source": [
    "#construction of bipartite graph\n",
    "posScore = 75\n",
    "def isNaN(x):\n",
    "    return x != x\n",
    "for index,row in df.iterrows():\n",
    "    if row['Score'] < posScore: #removing reviews with low score \n",
    "        continue\n",
    "    if isNaN(row['Combined_Genre']):\n",
    "        continue\n",
    "    genre_list = row['Combined_Genre'].split('|')\n",
    "    user = row['User']\n",
    "    for genre in genre_list:\n",
    "        if B.has_edge(user,genre):\n",
    "            B[user][genre]['weight'] += 1\n",
    "        else:\n",
    "            B.add_edge(user, genre, weight = 1)"
   ]
  },
  {
   "cell_type": "code",
   "execution_count": 8,
   "metadata": {},
   "outputs": [
    {
     "data": {
      "text/plain": [
       "8344"
      ]
     },
     "execution_count": 8,
     "metadata": {},
     "output_type": "execute_result"
    }
   ],
   "source": [
    "B.number_of_nodes()"
   ]
  },
  {
   "cell_type": "code",
   "execution_count": 9,
   "metadata": {},
   "outputs": [],
   "source": [
    "G = nx.Graph()\n",
    "for genre1 in genres:\n",
    "    if genre1 not in B.nodes():\n",
    "        continue\n",
    "    for user in B.adj[genre1]:\n",
    "        w = B[genre1][user]['weight']\n",
    "        for genre2 in B.adj[user]:\n",
    "            #the weight of the edge is determined as the minimum weights of the two edges in bipartite graph\n",
    "            #weights are double counted\n",
    "            if genre2 >= genre1:\n",
    "                continue\n",
    "            w = min(w,B[genre2][user]['weight'])\n",
    "            if G.has_edge(genre1,genre2):\n",
    "                #G[genre1][genre2]['weight'] += w\n",
    "                G[genre1][genre2]['weight'] += 1\n",
    "            else:\n",
    "                #G.add_edge(genre1, genre2, weight = w)\n",
    "                G.add_edge(genre1, genre2, weight = 1)"
   ]
  },
  {
   "cell_type": "code",
   "execution_count": 10,
   "metadata": {},
   "outputs": [],
   "source": [
    "#calculating similarity between two nodes which share an edge (else default is zero).\n",
    "#By using each edge, this method cuts down time complexity from O(N^2) to O(E)\n",
    "def calc_sim(Graph):\n",
    "    for u,v in Graph.edges():\n",
    "        #similarity = 2*overlap/sum of degrees of u and v\n",
    "        sum_of_degrees = Graph.degree(u,weight = 'weight')+Graph.degree(v,weight = 'weight')\n",
    "        common_edges = Graph[u][v]['weight']\n",
    "        Graph[u][v]['similarity'] = (2*common_edges)/sum_of_degrees #is this the best way?\n",
    "        #G[u][v]['similarity'] = common_edges/(sum_of_degrees - common_edges)\n",
    "    return Graph"
   ]
  },
  {
   "cell_type": "code",
   "execution_count": 11,
   "metadata": {},
   "outputs": [],
   "source": [
    "G = calc_sim(G)"
   ]
  },
  {
   "cell_type": "code",
   "execution_count": 12,
   "metadata": {},
   "outputs": [
    {
     "data": {
      "image/png": "[encoded data removed]",
      "text/plain": [
       "<Figure size 720x504 with 1 Axes>"
      ]
     },
     "metadata": {},
     "output_type": "display_data"
    }
   ],
   "source": [
    "weights = np.array(list(nx.get_edge_attributes(G,'weight').values()))/100\n",
    "nx.draw(G, node_size = 10, width = list(weights))"
   ]
  },
  {
   "cell_type": "code",
   "execution_count": 13,
   "metadata": {},
   "outputs": [
    {
     "data": {
      "text/plain": [
       "[<matplotlib.lines.Line2D at 0x2276c9a2ac0>]"
      ]
     },
     "execution_count": 13,
     "metadata": {},
     "output_type": "execute_result"
    },
    {
     "data": {
      "image/png": "[encoded data removed]",
      "text/plain": [
       "<Figure size 720x504 with 1 Axes>"
      ]
     },
     "metadata": {
      "needs_background": "light"
     },
     "output_type": "display_data"
    }
   ],
   "source": [
    "plt.semilogy(sorted(list(nx.get_edge_attributes(G,'weight').values())))"
   ]
  },
  {
   "cell_type": "code",
   "execution_count": 14,
   "metadata": {},
   "outputs": [],
   "source": [
    "def fragment(inp):\n",
    "    inp = sorted(inp)\n",
    "    total = sum(inp)\n",
    "    return -1*sum([(x/total)*math.log(x/total) for x in inp])"
   ]
  },
  {
   "cell_type": "code",
   "execution_count": 15,
   "metadata": {},
   "outputs": [
    {
     "data": {
      "image/png": "[encoded data removed]",
      "text/plain": [
       "<Figure size 720x504 with 1 Axes>"
      ]
     },
     "metadata": {
      "needs_background": "light"
     },
     "output_type": "display_data"
    }
   ],
   "source": [
    "plt.semilogy(sorted(list(nx.get_edge_attributes(G,'similarity').values())))\n",
    "plt.show()"
   ]
  },
  {
   "cell_type": "code",
   "execution_count": 16,
   "metadata": {},
   "outputs": [
    {
     "data": {
      "text/plain": [
       "\"tmp = sorted(list(nx.get_edge_attributes(G,'similarity').values()))\\nplt.plot([fragment(tmp[:x+1]) for x in range(len(tmp))])\\nplt.show()\""
      ]
     },
     "execution_count": 16,
     "metadata": {},
     "output_type": "execute_result"
    }
   ],
   "source": [
    "'''tmp = sorted(list(nx.get_edge_attributes(G,'similarity').values()))\n",
    "plt.plot([fragment(tmp[:x+1]) for x in range(len(tmp))])\n",
    "plt.show()'''"
   ]
  },
  {
   "cell_type": "code",
   "execution_count": 17,
   "metadata": {},
   "outputs": [
    {
     "name": "stdout",
     "output_type": "stream",
     "text": [
      "288\n",
      "187\n"
     ]
    }
   ],
   "source": [
    "genre_group = pickle.load(open('genre_group.p','rb'))\n",
    "print(G.number_of_nodes())\n",
    "G2 = G.copy()\n",
    "for node in G2.nodes():\n",
    "    #if node not in genre_group:\n",
    "        #print(node)\n",
    "    if node not in genre_group or genre_group[node] == 'Non-metal' or genre_group[node] == 'Others':\n",
    "        G.remove_node(node)\n",
    "print(G.number_of_nodes())"
   ]
  },
  {
   "cell_type": "code",
   "execution_count": 18,
   "metadata": {},
   "outputs": [],
   "source": [
    "G3 = G.copy()"
   ]
  },
  {
   "cell_type": "code",
   "execution_count": 19,
   "metadata": {},
   "outputs": [
    {
     "name": "stdout",
     "output_type": "stream",
     "text": [
      "[]\n",
      "Counter({1: 42, 145: 1})\n",
      "['ambient folk', 'electronic symphonic metal', 'neo-classical power heavy metal', 'epic folk', 'blackened stoner metal', 'neoclassical progressive metal', 'celtic black metal', 'gothic death metal', 'nu thrash metal', 'experimental grindcore', 'acoustic folk', 'experimental progressive metal', 'electronic industrial metal', 'epic black metal', 'atmospheric progressive metal', 'medieval folk metal', 'stoner doom metal', 'celtic doom metal', 'gothic folk metal', 'blackened industrial metal', 'contemporary folk', 'experimental thrash metal', 'avantgarde doom metal', 'crossover folk metal', 'experimental doom metal', 'celtic death metal', 'groove heavy metal', 'blackened grindcore', 'blackened gothic metal', 'acoustic folk metal', 'psychedelic sludge metal', 'experimental avantgarde metal', 'groove death metal', 'medieval folk rock', 'experimental folk metal', 'death thrash metal', 'avantgarde industrial metal', 'industrial gothic metal', 'pagan death metal', 'sludge doom metal', 'instrumental power metal', 'modern gothenburg metal']\n"
     ]
    },
    {
     "data": {
      "text/plain": [
       "187"
      ]
     },
     "execution_count": 19,
     "metadata": {},
     "output_type": "execute_result"
    }
   ],
   "source": [
    "G = G3.copy()\n",
    "G2 = G.copy()\n",
    "print(list(nx.isolates(G)))\n",
    "\n",
    "'''for u,v in G2.edges():\n",
    "    if G2[u][v]['weight'] < 10:\n",
    "        G.remove_edge(u,v)\n",
    "        \n",
    "G.remove_nodes_from(list(nx.isolates(G)))\n",
    "\n",
    "G2 = G.copy()\n",
    "'''\n",
    "for u,v in G2.edges():\n",
    "    if G2[u][v]['weight'] < 5: #10 for double counting\n",
    "        G.remove_edge(u,v)\n",
    "        \n",
    "nx.number_connected_components(G)\n",
    "print(clt.Counter([len(cc) for cc in nx.connected_components(G)]))\n",
    "print(list(nx.isolates(G)))\n",
    "G.number_of_nodes()"
   ]
  },
  {
   "cell_type": "code",
   "execution_count": 38,
   "metadata": {},
   "outputs": [
    {
     "data": {
      "image/png": "[encoded data removed]",
      "text/plain": [
       "<Figure size 720x504 with 1 Axes>"
      ]
     },
     "metadata": {},
     "output_type": "display_data"
    }
   ],
   "source": [
    "nx.draw(G, node_size = 10)"
   ]
  },
  {
   "cell_type": "code",
   "execution_count": 20,
   "metadata": {},
   "outputs": [
    {
     "data": {
      "text/plain": [
       "298"
      ]
     },
     "execution_count": 20,
     "metadata": {},
     "output_type": "execute_result"
    }
   ],
   "source": [
    "genre_group = pickle.load(open('genre_group.p','rb'))\n",
    "len(genre_group)"
   ]
  },
  {
   "cell_type": "code",
   "execution_count": 21,
   "metadata": {},
   "outputs": [
    {
     "data": {
      "text/plain": [
       "\"tmp = [item.split(', ')[:-1] for item in open('genre_group.txt').read().split('\\n\\n')]\\nmp = {}\\nfor genre in tmp:\\n    for item in genre[1:]:\\n        mp[item] = genre[0]\\npickle.dump(mp,open('genre_group.p','wb'))\\nf = open('genres.txt').read().split('\\n')[:-1]\\nfor item in f:\\n    if item not in genre_group:\\n        print(item)\""
      ]
     },
     "execution_count": 21,
     "metadata": {},
     "output_type": "execute_result"
    }
   ],
   "source": [
    "'''tmp = [item.split(', ')[:-1] for item in open('genre_group.txt').read().split('\\n\\n')]\n",
    "mp = {}\n",
    "for genre in tmp:\n",
    "    for item in genre[1:]:\n",
    "        mp[item] = genre[0]\n",
    "pickle.dump(mp,open('genre_group.p','wb'))\n",
    "f = open('genres.txt').read().split('\\n')[:-1]\n",
    "for item in f:\n",
    "    if item not in genre_group:\n",
    "        print(item)'''"
   ]
  },
  {
   "cell_type": "code",
   "execution_count": 22,
   "metadata": {},
   "outputs": [],
   "source": [
    "def freq_network_parr(Graph, n_iter, n_jobs, width = 'weight'):#Graph is new frequency network\n",
    "    partitions = Parallel(n_jobs=n_jobs)(delayed(best_partition)(Graph, randomize = True, weight = width, resolution = 0.8) for i in range(n_iter))\n",
    "    #partitions = [best_partition(Graph, randomize = True, weight = 'weight') for i in range(n_iter)]\n",
    "    N = int(sum([len(cc)*(len(cc)-1)/2 for cc in nx.connected_components(Graph)]))\n",
    "    print(nx.number_connected_components(Graph), N, len(Graph.edges()))\n",
    "    prob = {} #key is (node 1, node 2), value is number of times they are in the same cluster/total number of iterations\n",
    "    total = 0\n",
    "    G = nx.Graph()\n",
    "    for partition in partitions:# for n_iter number of iterations\n",
    "        #partition = best_partition(Graph, randomize = True, weight = 'weight')\n",
    "        mp = {}\n",
    "        for user in partition:\n",
    "            if partition[user] not in mp:\n",
    "                mp[partition[user]]= []\n",
    "            mp[partition[user]].append(user)\n",
    "        for part in mp:\n",
    "            for u,v in itertools.combinations(mp[part],2):\n",
    "                if G.has_edge(u,v):\n",
    "                    G[u][v][width] += 1\n",
    "                else:\n",
    "                    G.add_edge(u,v)\n",
    "                    G[u][v][width] = 1\n",
    "    N = int(sum([len(cc)*(len(cc)-1)/2 for cc in nx.connected_components(G)]))\n",
    "    print(nx.number_connected_components(G), N, G.number_of_edges())\n",
    "    return G\n",
    "\n",
    "def no_crossedges(Graph):\n",
    "    return sum([len(cc)*(len(cc)-1)/2 for cc in nx.connected_components(Graph)]) == Graph.number_of_edges()"
   ]
  },
  {
   "cell_type": "code",
   "execution_count": 23,
   "metadata": {},
   "outputs": [
    {
     "name": "stdout",
     "output_type": "stream",
     "text": [
      "43 10440 4785\n",
      "1 10440 2048\n",
      "1 10440 2048\n",
      "7 1984 1273\n",
      "7 1984 1273\n",
      "9 1240 1240\n"
     ]
    }
   ],
   "source": [
    "H = G.copy()\n",
    "while not no_crossedges(H):\n",
    "    H = freq_network_parr(H, 100, 4)"
   ]
  },
  {
   "cell_type": "code",
   "execution_count": 24,
   "metadata": {},
   "outputs": [],
   "source": [
    "partitions = [cc for cc in nx.connected_components(H)]"
   ]
  },
  {
   "cell_type": "code",
   "execution_count": 25,
   "metadata": {},
   "outputs": [
    {
     "data": {
      "text/plain": [
       "[37.60416666666668,\n",
       " 85.5,\n",
       " 23.085714285714275,\n",
       " 21.50442477876107,\n",
       " 15.842105263157885,\n",
       " 48.243902439024396,\n",
       " 35.85185185185185,\n",
       " 44.43333333333334,\n",
       " 33.53684210526317]"
      ]
     },
     "execution_count": 25,
     "metadata": {},
     "output_type": "execute_result"
    }
   ],
   "source": [
    "def getScore(Graph):#using original graph\n",
    "    comps = list(nx.connected_components(Graph))\n",
    "    subgraphs = [G.subgraph(comp) for comp in comps]\n",
    "    total = [sum([G[u][v]['weight']/sub.number_of_edges() for u,v in sub.edges()]) for sub in subgraphs]\n",
    "    #total = [sum([G[u][v]['weight']/(sub.number_of_nodes()*(sub.number_of_nodes()-1)/2) for u,v in sub.edges()]) for sub in subgraphs]\n",
    "    return total\n",
    "getScore(H)"
   ]
  },
  {
   "cell_type": "code",
   "execution_count": 26,
   "metadata": {},
   "outputs": [
    {
     "data": {
      "text/plain": [
       "[14, 16, 9, 23, 24, 23, 9, 11, 16]"
      ]
     },
     "execution_count": 26,
     "metadata": {},
     "output_type": "execute_result"
    }
   ],
   "source": [
    "[len(cc) for cc in partitions]"
   ]
  },
  {
   "cell_type": "code",
   "execution_count": 27,
   "metadata": {},
   "outputs": [
    {
     "data": {
      "text/html": [
       "<div>\n",
       "<style scoped>\n",
       "    .dataframe tbody tr th:only-of-type {\n",
       "        vertical-align: middle;\n",
       "    }\n",
       "\n",
       "    .dataframe tbody tr th {\n",
       "        vertical-align: top;\n",
       "    }\n",
       "\n",
       "    .dataframe thead th {\n",
       "        text-align: right;\n",
       "    }\n",
       "</style>\n",
       "<table border=\"1\" class=\"dataframe\">\n",
       "  <thead>\n",
       "    <tr style=\"text-align: right;\">\n",
       "      <th></th>\n",
       "      <th>Genres</th>\n",
       "      <th>Sizes</th>\n",
       "      <th>Average_Weight</th>\n",
       "    </tr>\n",
       "  </thead>\n",
       "  <tbody>\n",
       "    <tr>\n",
       "      <th>0</th>\n",
       "      <td>{deathcore, progressive sludge metal, brutal d...</td>\n",
       "      <td>14</td>\n",
       "      <td>37.604167</td>\n",
       "    </tr>\n",
       "    <tr>\n",
       "      <th>1</th>\n",
       "      <td>{avantgarde death metal, progressive gothic me...</td>\n",
       "      <td>16</td>\n",
       "      <td>85.500000</td>\n",
       "    </tr>\n",
       "    <tr>\n",
       "      <th>2</th>\n",
       "      <td>{blackened doom metal, death doom metal, atmos...</td>\n",
       "      <td>9</td>\n",
       "      <td>23.085714</td>\n",
       "    </tr>\n",
       "    <tr>\n",
       "      <th>3</th>\n",
       "      <td>{atmospheric sludge metal, industrial black me...</td>\n",
       "      <td>23</td>\n",
       "      <td>21.504425</td>\n",
       "    </tr>\n",
       "    <tr>\n",
       "      <th>4</th>\n",
       "      <td>{progressive math metal, new wave of british h...</td>\n",
       "      <td>24</td>\n",
       "      <td>15.842105</td>\n",
       "    </tr>\n",
       "    <tr>\n",
       "      <th>5</th>\n",
       "      <td>{oriental folk metal, melodic heavy metal, pro...</td>\n",
       "      <td>23</td>\n",
       "      <td>48.243902</td>\n",
       "    </tr>\n",
       "    <tr>\n",
       "      <th>6</th>\n",
       "      <td>{extreme power metal, extreme industrial metal...</td>\n",
       "      <td>9</td>\n",
       "      <td>35.851852</td>\n",
       "    </tr>\n",
       "    <tr>\n",
       "      <th>7</th>\n",
       "      <td>{stoner rock, drone doom metal, blackened slud...</td>\n",
       "      <td>11</td>\n",
       "      <td>44.433333</td>\n",
       "    </tr>\n",
       "    <tr>\n",
       "      <th>8</th>\n",
       "      <td>{gothic rock, melodic black metal, gothic meta...</td>\n",
       "      <td>16</td>\n",
       "      <td>33.536842</td>\n",
       "    </tr>\n",
       "  </tbody>\n",
       "</table>\n",
       "</div>"
      ],
      "text/plain": [
       "                                              Genres  Sizes  Average_Weight\n",
       "0  {deathcore, progressive sludge metal, brutal d...     14       37.604167\n",
       "1  {avantgarde death metal, progressive gothic me...     16       85.500000\n",
       "2  {blackened doom metal, death doom metal, atmos...      9       23.085714\n",
       "3  {atmospheric sludge metal, industrial black me...     23       21.504425\n",
       "4  {progressive math metal, new wave of british h...     24       15.842105\n",
       "5  {oriental folk metal, melodic heavy metal, pro...     23       48.243902\n",
       "6  {extreme power metal, extreme industrial metal...      9       35.851852\n",
       "7  {stoner rock, drone doom metal, blackened slud...     11       44.433333\n",
       "8  {gothic rock, melodic black metal, gothic meta...     16       33.536842"
      ]
     },
     "execution_count": 27,
     "metadata": {},
     "output_type": "execute_result"
    }
   ],
   "source": [
    "def genData(Graph, ind):\n",
    "    ret = pd.DataFrame()\n",
    "    ret['Genres'] = list(nx.connected_components(Graph))\n",
    "    ret['Sizes'] = [len(cc) for cc in nx.connected_components(Graph)]\n",
    "    ret['Average_Weight'] = getScore(Graph)\n",
    "    ret.to_csv('round'+str(ind)+'_genre.csv', index = False)\n",
    "    return ret\n",
    "genData(H,1)"
   ]
  },
  {
   "cell_type": "code",
   "execution_count": 28,
   "metadata": {},
   "outputs": [
    {
     "name": "stdout",
     "output_type": "stream",
     "text": [
      "1 120 32\n",
      "1 91 82\n",
      "1 91 82\n",
      "5 7 7\n"
     ]
    }
   ],
   "source": [
    "G1 = G.subgraph(list(nx.connected_components(H))[1])\n",
    "while not no_crossedges(G1):\n",
    "    G1 = freq_network_parr(G1, 100, 4)"
   ]
  },
  {
   "cell_type": "code",
   "execution_count": 29,
   "metadata": {},
   "outputs": [
    {
     "data": {
      "text/plain": [
       "[3, 2, 2, 2, 2]"
      ]
     },
     "execution_count": 29,
     "metadata": {},
     "output_type": "execute_result"
    }
   ],
   "source": [
    "tmp1 = list(nx.connected_components(G1))\n",
    "[len(cc) for cc in tmp1]"
   ]
  },
  {
   "cell_type": "code",
   "execution_count": 30,
   "metadata": {},
   "outputs": [
    {
     "name": "stdout",
     "output_type": "stream",
     "text": [
      "[852.6666666666667, 0, 0, 0, 0]\n"
     ]
    }
   ],
   "source": [
    "print(getScore(G1))"
   ]
  },
  {
   "cell_type": "code",
   "execution_count": 31,
   "metadata": {},
   "outputs": [
    {
     "data": {
      "text/html": [
       "<div>\n",
       "<style scoped>\n",
       "    .dataframe tbody tr th:only-of-type {\n",
       "        vertical-align: middle;\n",
       "    }\n",
       "\n",
       "    .dataframe tbody tr th {\n",
       "        vertical-align: top;\n",
       "    }\n",
       "\n",
       "    .dataframe thead th {\n",
       "        text-align: right;\n",
       "    }\n",
       "</style>\n",
       "<table border=\"1\" class=\"dataframe\">\n",
       "  <thead>\n",
       "    <tr style=\"text-align: right;\">\n",
       "      <th></th>\n",
       "      <th>Genres</th>\n",
       "      <th>Sizes</th>\n",
       "      <th>Average_Weight</th>\n",
       "    </tr>\n",
       "  </thead>\n",
       "  <tbody>\n",
       "    <tr>\n",
       "      <th>0</th>\n",
       "      <td>{black metal, thrash metal, death metal}</td>\n",
       "      <td>3</td>\n",
       "      <td>852.666667</td>\n",
       "    </tr>\n",
       "    <tr>\n",
       "      <th>1</th>\n",
       "      <td>{progressive grindcore, blackened speed metal}</td>\n",
       "      <td>2</td>\n",
       "      <td>0.000000</td>\n",
       "    </tr>\n",
       "    <tr>\n",
       "      <th>2</th>\n",
       "      <td>{post-black metal, progressive folk metal}</td>\n",
       "      <td>2</td>\n",
       "      <td>0.000000</td>\n",
       "    </tr>\n",
       "    <tr>\n",
       "      <th>3</th>\n",
       "      <td>{technical metalcore, technical black metal}</td>\n",
       "      <td>2</td>\n",
       "      <td>0.000000</td>\n",
       "    </tr>\n",
       "    <tr>\n",
       "      <th>4</th>\n",
       "      <td>{symphonic deathcore, black doom metal}</td>\n",
       "      <td>2</td>\n",
       "      <td>0.000000</td>\n",
       "    </tr>\n",
       "  </tbody>\n",
       "</table>\n",
       "</div>"
      ],
      "text/plain": [
       "                                           Genres  Sizes  Average_Weight\n",
       "0        {black metal, thrash metal, death metal}      3      852.666667\n",
       "1  {progressive grindcore, blackened speed metal}      2        0.000000\n",
       "2      {post-black metal, progressive folk metal}      2        0.000000\n",
       "3    {technical metalcore, technical black metal}      2        0.000000\n",
       "4         {symphonic deathcore, black doom metal}      2        0.000000"
      ]
     },
     "execution_count": 31,
     "metadata": {},
     "output_type": "execute_result"
    }
   ],
   "source": [
    "genData(G1,'2-1')"
   ]
  },
  {
   "cell_type": "code",
   "execution_count": 32,
   "metadata": {},
   "outputs": [
    {
     "name": "stdout",
     "output_type": "stream",
     "text": [
      "1 36 35\n",
      "3 9 9\n"
     ]
    }
   ],
   "source": [
    "G1 = G.subgraph(list(nx.connected_components(H))[2])\n",
    "while not no_crossedges(G1):\n",
    "    G1 = freq_network_parr(G1, 100, 4)"
   ]
  },
  {
   "cell_type": "code",
   "execution_count": 33,
   "metadata": {},
   "outputs": [
    {
     "data": {
      "text/plain": [
       "[14.0, 18.0, 72.0]"
      ]
     },
     "execution_count": 33,
     "metadata": {},
     "output_type": "execute_result"
    }
   ],
   "source": [
    "getScore(G1)"
   ]
  },
  {
   "cell_type": "code",
   "execution_count": 34,
   "metadata": {},
   "outputs": [
    {
     "data": {
      "text/html": [
       "<div>\n",
       "<style scoped>\n",
       "    .dataframe tbody tr th:only-of-type {\n",
       "        vertical-align: middle;\n",
       "    }\n",
       "\n",
       "    .dataframe tbody tr th {\n",
       "        vertical-align: top;\n",
       "    }\n",
       "\n",
       "    .dataframe thead th {\n",
       "        text-align: right;\n",
       "    }\n",
       "</style>\n",
       "<table border=\"1\" class=\"dataframe\">\n",
       "  <thead>\n",
       "    <tr style=\"text-align: right;\">\n",
       "      <th></th>\n",
       "      <th>Genres</th>\n",
       "      <th>Sizes</th>\n",
       "      <th>Average_Weight</th>\n",
       "    </tr>\n",
       "  </thead>\n",
       "  <tbody>\n",
       "    <tr>\n",
       "      <th>0</th>\n",
       "      <td>{atmospheric gothic metal, atmospheric doom me...</td>\n",
       "      <td>3</td>\n",
       "      <td>14.0</td>\n",
       "    </tr>\n",
       "    <tr>\n",
       "      <th>1</th>\n",
       "      <td>{extreme progressive metal, epic doom metal, m...</td>\n",
       "      <td>3</td>\n",
       "      <td>18.0</td>\n",
       "    </tr>\n",
       "    <tr>\n",
       "      <th>2</th>\n",
       "      <td>{gothic doom metal, folk doom metal, death doo...</td>\n",
       "      <td>3</td>\n",
       "      <td>72.0</td>\n",
       "    </tr>\n",
       "  </tbody>\n",
       "</table>\n",
       "</div>"
      ],
      "text/plain": [
       "                                              Genres  Sizes  Average_Weight\n",
       "0  {atmospheric gothic metal, atmospheric doom me...      3            14.0\n",
       "1  {extreme progressive metal, epic doom metal, m...      3            18.0\n",
       "2  {gothic doom metal, folk doom metal, death doo...      3            72.0"
      ]
     },
     "execution_count": 34,
     "metadata": {},
     "output_type": "execute_result"
    }
   ],
   "source": [
    "genData(G1,'2-2')"
   ]
  }
 ],
 "metadata": {
  "kernelspec": {
   "display_name": "Python 3",
   "language": "python",
   "name": "python3"
  },
  "language_info": {
   "codemirror_mode": {
    "name": "ipython",
    "version": 3
   },
   "file_extension": ".py",
   "mimetype": "text/x-python",
   "name": "python",
   "nbconvert_exporter": "python",
   "pygments_lexer": "ipython3",
   "version": "3.8.3"
  }
 },
 "nbformat": 4,
 "nbformat_minor": 4
}

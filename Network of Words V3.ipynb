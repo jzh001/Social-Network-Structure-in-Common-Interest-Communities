{
 "cells": [
  {
   "cell_type": "markdown",
   "metadata": {},
   "source": [
    "# Network of Words - n-grams"
   ]
  },
  {
   "cell_type": "code",
   "execution_count": 1,
   "metadata": {},
   "outputs": [],
   "source": [
    "import nltk\n",
    "from nltk import bigrams\n",
    "import pandas as pd\n",
    "import numpy as np\n",
    "import math\n",
    "import pickle\n",
    "import spacy\n",
    "import time\n",
    "import collections as clt\n",
    "import matplotlib.pyplot as plt\n",
    "from nltk.tokenize import sent_tokenize\n",
    "from spellchecker import SpellChecker\n",
    "import networkx as nx\n",
    "from community import best_partition"
   ]
  },
  {
   "cell_type": "code",
   "execution_count": 2,
   "metadata": {},
   "outputs": [],
   "source": [
    "sp = spacy.load('en_core_web_sm')\n",
    "plt.rcParams[\"figure.figsize\"] = (10,7) #defining size of plots"
   ]
  },
  {
   "cell_type": "code",
   "execution_count": 3,
   "metadata": {},
   "outputs": [
    {
     "data": {
      "text/html": [
       "<div>\n",
       "<style scoped>\n",
       "    .dataframe tbody tr th:only-of-type {\n",
       "        vertical-align: middle;\n",
       "    }\n",
       "\n",
       "    .dataframe tbody tr th {\n",
       "        vertical-align: top;\n",
       "    }\n",
       "\n",
       "    .dataframe thead th {\n",
       "        text-align: right;\n",
       "    }\n",
       "</style>\n",
       "<table border=\"1\" class=\"dataframe\">\n",
       "  <thead>\n",
       "    <tr style=\"text-align: right;\">\n",
       "      <th></th>\n",
       "      <th>User</th>\n",
       "      <th>Date</th>\n",
       "      <th>Year</th>\n",
       "      <th>Month</th>\n",
       "      <th>Release</th>\n",
       "      <th>Band</th>\n",
       "      <th>Score</th>\n",
       "      <th>Link</th>\n",
       "      <th>Album_link</th>\n",
       "      <th>Review_title</th>\n",
       "      <th>Genre</th>\n",
       "      <th>Text</th>\n",
       "      <th>Sentiment</th>\n",
       "      <th>Band_Genre</th>\n",
       "      <th>Combined_Genre</th>\n",
       "    </tr>\n",
       "  </thead>\n",
       "  <tbody>\n",
       "    <tr>\n",
       "      <th>0</th>\n",
       "      <td>SpookyApparition</td>\n",
       "      <td>July 11 2002</td>\n",
       "      <td>2002</td>\n",
       "      <td>7</td>\n",
       "      <td>Chaosphere</td>\n",
       "      <td>Meshuggah</td>\n",
       "      <td>82</td>\n",
       "      <td>https://www.metal-archives.com/reviews/Meshugg...</td>\n",
       "      <td>https://www.metal-archives.com/albums/Meshugga...</td>\n",
       "      <td>Technical metal at it's finest.</td>\n",
       "      <td>technical thrash metal|math metal|progressive ...</td>\n",
       "      <td>I originally bought Chaosphere in late 2000......</td>\n",
       "      <td>0.9728</td>\n",
       "      <td>groove metal|thrash metal</td>\n",
       "      <td>technical thrash metal|math metal|progressive ...</td>\n",
       "    </tr>\n",
       "    <tr>\n",
       "      <th>1</th>\n",
       "      <td>SpookyApparition</td>\n",
       "      <td>July 14 2002</td>\n",
       "      <td>2002</td>\n",
       "      <td>7</td>\n",
       "      <td>Necroticism_-_Descanting_the_Insalubrious</td>\n",
       "      <td>Carcass</td>\n",
       "      <td>88</td>\n",
       "      <td>https://www.metal-archives.com/reviews/Carcass...</td>\n",
       "      <td>https://www.metal-archives.com/albums/Carcass/...</td>\n",
       "      <td>Carcass at their finest.</td>\n",
       "      <td>grindcore|melodic death metal</td>\n",
       "      <td>A midpoint between Carcass' early grind albums...</td>\n",
       "      <td>0.8479</td>\n",
       "      <td>grindcore|death metal</td>\n",
       "      <td>grindcore|melodic death metal</td>\n",
       "    </tr>\n",
       "    <tr>\n",
       "      <th>2</th>\n",
       "      <td>MarkRyan</td>\n",
       "      <td>July 15 2002</td>\n",
       "      <td>2002</td>\n",
       "      <td>7</td>\n",
       "      <td>Angels_Fall_First</td>\n",
       "      <td>Nightwish</td>\n",
       "      <td>90</td>\n",
       "      <td>https://www.metal-archives.com/reviews/Nightwi...</td>\n",
       "      <td>https://www.metal-archives.com/albums/Nightwis...</td>\n",
       "      <td>On par with their other stuff...</td>\n",
       "      <td>symphonic power metal</td>\n",
       "      <td>I'm not hard-core into metal at all, really, b...</td>\n",
       "      <td>0.9951</td>\n",
       "      <td>symphonic metal|power metal</td>\n",
       "      <td>symphonic power metal</td>\n",
       "    </tr>\n",
       "    <tr>\n",
       "      <th>3</th>\n",
       "      <td>Fear</td>\n",
       "      <td>July 16 2002</td>\n",
       "      <td>2002</td>\n",
       "      <td>7</td>\n",
       "      <td>Dark_Genesis</td>\n",
       "      <td>Iced_Earth</td>\n",
       "      <td>87</td>\n",
       "      <td>https://www.metal-archives.com/reviews/Iced_Ea...</td>\n",
       "      <td>https://www.metal-archives.com/albums/Iced_Ear...</td>\n",
       "      <td>Brilliance in Repackaging</td>\n",
       "      <td>heavy metal|us power metal</td>\n",
       "      <td>This is not a new album, but in fact, five alb...</td>\n",
       "      <td>0.9976</td>\n",
       "      <td>thrash metal|power metal</td>\n",
       "      <td>heavy metal|us power metal</td>\n",
       "    </tr>\n",
       "    <tr>\n",
       "      <th>4</th>\n",
       "      <td>Demented666</td>\n",
       "      <td>July 18 2002</td>\n",
       "      <td>2002</td>\n",
       "      <td>7</td>\n",
       "      <td>Extension_of_the_Wish</td>\n",
       "      <td>Andromeda</td>\n",
       "      <td>100</td>\n",
       "      <td>https://www.metal-archives.com/reviews/Androme...</td>\n",
       "      <td>https://www.metal-archives.com/albums/Andromed...</td>\n",
       "      <td>A smashing debut.</td>\n",
       "      <td>progressive metal</td>\n",
       "      <td>Andromeda's Extension of the Wish- clearly one...</td>\n",
       "      <td>0.8619</td>\n",
       "      <td>progressive metal</td>\n",
       "      <td>progressive metal</td>\n",
       "    </tr>\n",
       "    <tr>\n",
       "      <th>...</th>\n",
       "      <td>...</td>\n",
       "      <td>...</td>\n",
       "      <td>...</td>\n",
       "      <td>...</td>\n",
       "      <td>...</td>\n",
       "      <td>...</td>\n",
       "      <td>...</td>\n",
       "      <td>...</td>\n",
       "      <td>...</td>\n",
       "      <td>...</td>\n",
       "      <td>...</td>\n",
       "      <td>...</td>\n",
       "      <td>...</td>\n",
       "      <td>...</td>\n",
       "      <td>...</td>\n",
       "    </tr>\n",
       "    <tr>\n",
       "      <th>64636</th>\n",
       "      <td>TheStormIRide</td>\n",
       "      <td>June 30 2017</td>\n",
       "      <td>2017</td>\n",
       "      <td>6</td>\n",
       "      <td>Flying_Above_Ancient_Ruins</td>\n",
       "      <td>Krolok</td>\n",
       "      <td>85</td>\n",
       "      <td>https://www.metal-archives.com/reviews/Krolok/...</td>\n",
       "      <td>https://www.metal-archives.com/albums/Krolok/F...</td>\n",
       "      <td>Feverish Nightmares of Yore</td>\n",
       "      <td>atmospheric black metal</td>\n",
       "      <td>Formed in 2011 by HV, Krolok is an atmospheric...</td>\n",
       "      <td>0.5875</td>\n",
       "      <td>black metal</td>\n",
       "      <td>atmospheric black metal</td>\n",
       "    </tr>\n",
       "    <tr>\n",
       "      <th>64637</th>\n",
       "      <td>6CORPSE6GRINDER6</td>\n",
       "      <td>June 30 2017</td>\n",
       "      <td>2017</td>\n",
       "      <td>6</td>\n",
       "      <td>Chemical_Assault</td>\n",
       "      <td>Violator</td>\n",
       "      <td>85</td>\n",
       "      <td>https://www.metal-archives.com/reviews/Violato...</td>\n",
       "      <td>https://www.metal-archives.com/albums/Violator...</td>\n",
       "      <td>Take your life back, in the pit!</td>\n",
       "      <td>thrash metal</td>\n",
       "      <td>I don't have any issues with the retro-thrash ...</td>\n",
       "      <td>0.9976</td>\n",
       "      <td>thrash metal</td>\n",
       "      <td>thrash metal</td>\n",
       "    </tr>\n",
       "    <tr>\n",
       "      <th>64638</th>\n",
       "      <td>6CORPSE6GRINDER6</td>\n",
       "      <td>June 30 2017</td>\n",
       "      <td>2017</td>\n",
       "      <td>6</td>\n",
       "      <td>Violent_Mosh</td>\n",
       "      <td>Violator</td>\n",
       "      <td>80</td>\n",
       "      <td>https://www.metal-archives.com/reviews/Violato...</td>\n",
       "      <td>https://www.metal-archives.com/albums/Violator...</td>\n",
       "      <td>Officers are dirtier than the criminals they c...</td>\n",
       "      <td>thrash metal</td>\n",
       "      <td>This band was so important for the thrash meta...</td>\n",
       "      <td>0.9911</td>\n",
       "      <td>thrash metal</td>\n",
       "      <td>thrash metal</td>\n",
       "    </tr>\n",
       "    <tr>\n",
       "      <th>64639</th>\n",
       "      <td>Wacke</td>\n",
       "      <td>June 30 2017</td>\n",
       "      <td>2017</td>\n",
       "      <td>6</td>\n",
       "      <td>Resurrection</td>\n",
       "      <td>Chimaira</td>\n",
       "      <td>89</td>\n",
       "      <td>https://www.metal-archives.com/reviews/Chimair...</td>\n",
       "      <td>https://www.metal-archives.com/albums/Chimaira...</td>\n",
       "      <td>What doesn't kill us makes us stronger.</td>\n",
       "      <td>hard rock</td>\n",
       "      <td>Chimaira is arguably the most overlooked and/o...</td>\n",
       "      <td>0.9947</td>\n",
       "      <td>metalcore|groove metal</td>\n",
       "      <td>hard rock</td>\n",
       "    </tr>\n",
       "    <tr>\n",
       "      <th>64640</th>\n",
       "      <td>TheKilla</td>\n",
       "      <td>June 30 2017</td>\n",
       "      <td>2017</td>\n",
       "      <td>6</td>\n",
       "      <td>Born_Again</td>\n",
       "      <td>Black_Sabbath</td>\n",
       "      <td>98</td>\n",
       "      <td>https://www.metal-archives.com/reviews/Black_S...</td>\n",
       "      <td>https://www.metal-archives.com/albums/Black_Sa...</td>\n",
       "      <td>The Final Classic Album From A Born Again Band</td>\n",
       "      <td>hard rock</td>\n",
       "      <td>Recently I purchased (or actually re-re-re-pur...</td>\n",
       "      <td>0.9961</td>\n",
       "      <td>doom metal|heavy metal</td>\n",
       "      <td>hard rock</td>\n",
       "    </tr>\n",
       "  </tbody>\n",
       "</table>\n",
       "<p>64641 rows × 15 columns</p>\n",
       "</div>"
      ],
      "text/plain": [
       "                   User          Date  Year  Month  \\\n",
       "0      SpookyApparition  July 11 2002  2002      7   \n",
       "1      SpookyApparition  July 14 2002  2002      7   \n",
       "2              MarkRyan  July 15 2002  2002      7   \n",
       "3                  Fear  July 16 2002  2002      7   \n",
       "4           Demented666  July 18 2002  2002      7   \n",
       "...                 ...           ...   ...    ...   \n",
       "64636     TheStormIRide  June 30 2017  2017      6   \n",
       "64637  6CORPSE6GRINDER6  June 30 2017  2017      6   \n",
       "64638  6CORPSE6GRINDER6  June 30 2017  2017      6   \n",
       "64639             Wacke  June 30 2017  2017      6   \n",
       "64640          TheKilla  June 30 2017  2017      6   \n",
       "\n",
       "                                         Release           Band  Score  \\\n",
       "0                                     Chaosphere      Meshuggah     82   \n",
       "1      Necroticism_-_Descanting_the_Insalubrious        Carcass     88   \n",
       "2                              Angels_Fall_First      Nightwish     90   \n",
       "3                                   Dark_Genesis     Iced_Earth     87   \n",
       "4                          Extension_of_the_Wish      Andromeda    100   \n",
       "...                                          ...            ...    ...   \n",
       "64636                 Flying_Above_Ancient_Ruins         Krolok     85   \n",
       "64637                           Chemical_Assault       Violator     85   \n",
       "64638                               Violent_Mosh       Violator     80   \n",
       "64639                               Resurrection       Chimaira     89   \n",
       "64640                                 Born_Again  Black_Sabbath     98   \n",
       "\n",
       "                                                    Link  \\\n",
       "0      https://www.metal-archives.com/reviews/Meshugg...   \n",
       "1      https://www.metal-archives.com/reviews/Carcass...   \n",
       "2      https://www.metal-archives.com/reviews/Nightwi...   \n",
       "3      https://www.metal-archives.com/reviews/Iced_Ea...   \n",
       "4      https://www.metal-archives.com/reviews/Androme...   \n",
       "...                                                  ...   \n",
       "64636  https://www.metal-archives.com/reviews/Krolok/...   \n",
       "64637  https://www.metal-archives.com/reviews/Violato...   \n",
       "64638  https://www.metal-archives.com/reviews/Violato...   \n",
       "64639  https://www.metal-archives.com/reviews/Chimair...   \n",
       "64640  https://www.metal-archives.com/reviews/Black_S...   \n",
       "\n",
       "                                              Album_link  \\\n",
       "0      https://www.metal-archives.com/albums/Meshugga...   \n",
       "1      https://www.metal-archives.com/albums/Carcass/...   \n",
       "2      https://www.metal-archives.com/albums/Nightwis...   \n",
       "3      https://www.metal-archives.com/albums/Iced_Ear...   \n",
       "4      https://www.metal-archives.com/albums/Andromed...   \n",
       "...                                                  ...   \n",
       "64636  https://www.metal-archives.com/albums/Krolok/F...   \n",
       "64637  https://www.metal-archives.com/albums/Violator...   \n",
       "64638  https://www.metal-archives.com/albums/Violator...   \n",
       "64639  https://www.metal-archives.com/albums/Chimaira...   \n",
       "64640  https://www.metal-archives.com/albums/Black_Sa...   \n",
       "\n",
       "                                            Review_title  \\\n",
       "0                        Technical metal at it's finest.   \n",
       "1                               Carcass at their finest.   \n",
       "2                       On par with their other stuff...   \n",
       "3                              Brilliance in Repackaging   \n",
       "4                                      A smashing debut.   \n",
       "...                                                  ...   \n",
       "64636                        Feverish Nightmares of Yore   \n",
       "64637                   Take your life back, in the pit!   \n",
       "64638  Officers are dirtier than the criminals they c...   \n",
       "64639            What doesn't kill us makes us stronger.   \n",
       "64640     The Final Classic Album From A Born Again Band   \n",
       "\n",
       "                                                   Genre  \\\n",
       "0      technical thrash metal|math metal|progressive ...   \n",
       "1                          grindcore|melodic death metal   \n",
       "2                                  symphonic power metal   \n",
       "3                             heavy metal|us power metal   \n",
       "4                                      progressive metal   \n",
       "...                                                  ...   \n",
       "64636                            atmospheric black metal   \n",
       "64637                                       thrash metal   \n",
       "64638                                       thrash metal   \n",
       "64639                                          hard rock   \n",
       "64640                                          hard rock   \n",
       "\n",
       "                                                    Text  Sentiment  \\\n",
       "0      I originally bought Chaosphere in late 2000......     0.9728   \n",
       "1      A midpoint between Carcass' early grind albums...     0.8479   \n",
       "2      I'm not hard-core into metal at all, really, b...     0.9951   \n",
       "3      This is not a new album, but in fact, five alb...     0.9976   \n",
       "4      Andromeda's Extension of the Wish- clearly one...     0.8619   \n",
       "...                                                  ...        ...   \n",
       "64636  Formed in 2011 by HV, Krolok is an atmospheric...     0.5875   \n",
       "64637  I don't have any issues with the retro-thrash ...     0.9976   \n",
       "64638  This band was so important for the thrash meta...     0.9911   \n",
       "64639  Chimaira is arguably the most overlooked and/o...     0.9947   \n",
       "64640  Recently I purchased (or actually re-re-re-pur...     0.9961   \n",
       "\n",
       "                        Band_Genre  \\\n",
       "0        groove metal|thrash metal   \n",
       "1            grindcore|death metal   \n",
       "2      symphonic metal|power metal   \n",
       "3         thrash metal|power metal   \n",
       "4                progressive metal   \n",
       "...                            ...   \n",
       "64636                  black metal   \n",
       "64637                 thrash metal   \n",
       "64638                 thrash metal   \n",
       "64639       metalcore|groove metal   \n",
       "64640       doom metal|heavy metal   \n",
       "\n",
       "                                          Combined_Genre  \n",
       "0      technical thrash metal|math metal|progressive ...  \n",
       "1                          grindcore|melodic death metal  \n",
       "2                                  symphonic power metal  \n",
       "3                             heavy metal|us power metal  \n",
       "4                                      progressive metal  \n",
       "...                                                  ...  \n",
       "64636                            atmospheric black metal  \n",
       "64637                                       thrash metal  \n",
       "64638                                       thrash metal  \n",
       "64639                                          hard rock  \n",
       "64640                                          hard rock  \n",
       "\n",
       "[64641 rows x 15 columns]"
      ]
     },
     "execution_count": 3,
     "metadata": {},
     "output_type": "execute_result"
    }
   ],
   "source": [
    "df = pd.read_csv('reviews_full_v7.csv')\n",
    "df = df[df['Score'] >= 75]\n",
    "df.reset_index(drop=True, inplace=True)\n",
    "df"
   ]
  },
  {
   "cell_type": "raw",
   "metadata": {},
   "source": [
    "all_bigrams = {}\n",
    "all_stopwords = sp.Defaults.stop_words\n",
    "tokenizer = nltk.RegexpTokenizer(r\"\\w+\") # removes punctuation and special characters\n",
    "spell = SpellChecker()\n",
    "\n",
    "def remove_word(word):\n",
    "    return len(word) <= 2 or word in all_stopwords or not word.isalpha() or len(spell.unknown([word])) != 0\n",
    "def isNaN(x):\n",
    "    return x != x\n",
    "\n",
    "a = time.time()\n",
    "for i,row in df.iterrows():\n",
    "    if i % 10000 == 0:\n",
    "        print(i,time.time()-a)\n",
    "    \n",
    "    sents = sent_tokenize(row['Text'])\n",
    "    \n",
    "    bigram_list = []\n",
    "    for sent in sents:\n",
    "        doc = tokenizer.tokenize(sent.lower())\n",
    "        bigram_list = bigram_list + list(bigrams(doc))\n",
    "        \n",
    "    if not isNaN(row['Review_title']):\n",
    "        doc = tokenizer.tokenize(row['Review_title'].lower())\n",
    "        bigram_list = bigram_list + list(bigrams(doc))\n",
    "        \n",
    "    for bigram in bigram_list:\n",
    "        if remove_word(bigram[0]) or remove_word(bigram[1]):\n",
    "            continue\n",
    "        if bigram in all_bigrams:\n",
    "            all_bigrams[bigram] += 1\n",
    "        else:\n",
    "            all_bigrams[bigram] = 1\n",
    "pickle.dump(all_bigrams,open('bigrams.p','wb'))"
   ]
  },
  {
   "cell_type": "code",
   "execution_count": 4,
   "metadata": {},
   "outputs": [],
   "source": [
    "all_bigrams = pickle.load(open('bigrams.p','rb'))"
   ]
  },
  {
   "cell_type": "code",
   "execution_count": 5,
   "metadata": {},
   "outputs": [
    {
     "data": {
      "image/png": "[encoded data removed]",
      "text/plain": [
       "<Figure size 720x504 with 1 Axes>"
      ]
     },
     "metadata": {
      "needs_background": "light"
     },
     "output_type": "display_data"
    }
   ],
   "source": [
    "plt.hist(clt.Counter(all_bigrams.values()).values(), log = True, bins = 20)\n",
    "plt.show()"
   ]
  },
  {
   "cell_type": "code",
   "execution_count": 6,
   "metadata": {},
   "outputs": [
    {
     "data": {
      "text/plain": [
       "1811502"
      ]
     },
     "execution_count": 6,
     "metadata": {},
     "output_type": "execute_result"
    }
   ],
   "source": [
    "len(all_bigrams)"
   ]
  },
  {
   "cell_type": "code",
   "execution_count": 7,
   "metadata": {},
   "outputs": [
    {
     "data": {
      "image/png": "[encoded data removed]",
      "text/plain": [
       "<Figure size 720x504 with 1 Axes>"
      ]
     },
     "metadata": {
      "needs_background": "light"
     },
     "output_type": "display_data"
    }
   ],
   "source": [
    "plt.title('Log of Frequency against Sorted Bigrams')\n",
    "plt.ylabel('Log of Frequency')\n",
    "plt.xlabel('Bigrams (sorted in ascending frequency)')\n",
    "plt.semilogy(sorted(all_bigrams.values()))\n",
    "plt.savefig('Log of Frequency against Sorted Bigrams.png')"
   ]
  },
  {
   "cell_type": "code",
   "execution_count": 8,
   "metadata": {},
   "outputs": [
    {
     "data": {
      "text/plain": [
       "[<matplotlib.lines.Line2D at 0x2555caf8970>]"
      ]
     },
     "execution_count": 8,
     "metadata": {},
     "output_type": "execute_result"
    },
    {
     "data": {
      "image/png": "[encoded data removed]",
      "text/plain": [
       "<Figure size 720x504 with 1 Axes>"
      ]
     },
     "metadata": {
      "needs_background": "light"
     },
     "output_type": "display_data"
    }
   ],
   "source": [
    "bigrams_new = {}\n",
    "for bigram in all_bigrams:\n",
    "    if all_bigrams[bigram] > 100:\n",
    "        bigrams_new[bigram] = all_bigrams[bigram] \n",
    "plt.semilogy(sorted(bigrams_new.values()))"
   ]
  },
  {
   "cell_type": "code",
   "execution_count": 9,
   "metadata": {},
   "outputs": [
    {
     "data": {
      "text/plain": [
       "4164"
      ]
     },
     "execution_count": 9,
     "metadata": {},
     "output_type": "execute_result"
    }
   ],
   "source": [
    "tmp = sorted([(bigrams_new[bigram],bigram) for bigram in bigrams_new], reverse = True)\n",
    "len(tmp)"
   ]
  },
  {
   "cell_type": "raw",
   "metadata": {},
   "source": [
    "f = open('bigrams.txt','w', encoding = 'utf-8')\n",
    "for item in tmp:\n",
    "    val = item[0]\n",
    "    bigram = item[1]\n",
    "    f.write(str(val) + ' ' + bigram[0] + ' ' + bigram[1] + '\\n')\n",
    "f.close()"
   ]
  },
  {
   "cell_type": "raw",
   "metadata": {},
   "source": [
    "all_stopwords = sp.Defaults.stop_words\n",
    "tokenizer = nltk.RegexpTokenizer(r\"\\w+\") # removes punctuation and special characters\n",
    "spell = SpellChecker()\n",
    "B = nx.Graph()\n",
    "\n",
    "def remove_word(word):\n",
    "    return len(word) <= 2 or word in all_stopwords or not word.isalpha() or len(spell.unknown([word])) != 0\n",
    "def isNaN(x):\n",
    "    return x != x\n",
    "\n",
    "a = time.time()\n",
    "for i,row in df.iterrows():\n",
    "    if i % 10000 == 0:\n",
    "        print(i,time.time()-a)\n",
    "    \n",
    "    sents = sent_tokenize(row['Text'])\n",
    "    album = row['Release'] + 'A'\n",
    "    \n",
    "    bigram_list = []\n",
    "    for sent in sents:\n",
    "        doc = tokenizer.tokenize(sent.lower())\n",
    "        bigram_list = bigram_list + list(bigrams(doc))\n",
    "        \n",
    "    if not isNaN(row['Review_title']):\n",
    "        doc = tokenizer.tokenize(row['Review_title'].lower())\n",
    "        bigram_list = bigram_list + list(bigrams(doc))\n",
    "        \n",
    "    for bigram in bigram_list:\n",
    "        if bigram not in bigrams_new or remove_word(bigram[0]) or remove_word(bigram[1]):\n",
    "            continue\n",
    "        if B.has_edge(album,bigram):\n",
    "            B[album][bigram]['weight'] += 1\n",
    "        else:\n",
    "            B.add_edge(album,bigram,weight = 1)\n",
    "nx.write_gpickle(B,'bipartite_bigrams.p')\n",
    "B.number_of_nodes(), B.number_of_edges()"
   ]
  },
  {
   "cell_type": "raw",
   "metadata": {},
   "source": [
    "G = nx.Graph()\n",
    "for bigram1 in bigrams_new:\n",
    "    for album in B.adj[bigram1]:\n",
    "        w = B[bigram1][album]['weight']\n",
    "        for bigram2 in B.adj[album]:\n",
    "            #the weight of the edge is determined as the minimum weights of the two edges in bipartite graph\n",
    "            w = min(w,B[bigram2][album]['weight'])\n",
    "            if G.has_edge(bigram1,bigram2):\n",
    "                G[bigram1][bigram2]['weight'] += w\n",
    "            else:\n",
    "                G.add_edge(bigram1, bigram2, weight = w)\n",
    "nx.write_gpickle(G,'network_bigrams.p')  "
   ]
  },
  {
   "cell_type": "code",
   "execution_count": 11,
   "metadata": {},
   "outputs": [],
   "source": [
    "G = nx.read_gpickle('network_bigrams.p')\n",
    "B = nx.read_gpickle('bipartite_bigrams.p')"
   ]
  },
  {
   "cell_type": "code",
   "execution_count": 12,
   "metadata": {},
   "outputs": [
    {
     "data": {
      "text/plain": [
       "(4164, 7212793, 1)"
      ]
     },
     "execution_count": 12,
     "metadata": {},
     "output_type": "execute_result"
    }
   ],
   "source": [
    "G.number_of_nodes(),G.number_of_edges(), nx.number_connected_components(G)"
   ]
  },
  {
   "cell_type": "code",
   "execution_count": 13,
   "metadata": {},
   "outputs": [
    {
     "data": {
      "image/png": "[encoded data removed]",
      "text/plain": [
       "<Figure size 720x504 with 1 Axes>"
      ]
     },
     "metadata": {
      "needs_background": "light"
     },
     "output_type": "display_data"
    }
   ],
   "source": [
    "plt.title('Degree of Bigrams')\n",
    "plt.ylabel('Log of Degree')\n",
    "plt.xlabel('Bigrams')\n",
    "plt.semilogy(sorted([G.degree(node, weight = 'weight') for node in G.nodes()]))\n",
    "plt.savefig('Degree of Bigrams.png')\n",
    "plt.show()"
   ]
  },
  {
   "cell_type": "code",
   "execution_count": 14,
   "metadata": {},
   "outputs": [
    {
     "data": {
      "image/png": "[encoded data removed]",
      "text/plain": [
       "<Figure size 720x504 with 1 Axes>"
      ]
     },
     "metadata": {
      "needs_background": "light"
     },
     "output_type": "display_data"
    }
   ],
   "source": [
    "y_weight = sorted(list(nx.get_edge_attributes(G,'weight').values()))\n",
    "plt.title('Weight of Bigrams')\n",
    "plt.ylabel('Log of Weight')\n",
    "plt.xlabel('Log Bigrams')\n",
    "plt.semilogy(y_weight)\n",
    "plt.savefig('Weight of Bigrams.png')\n",
    "plt.show()"
   ]
  },
  {
   "cell_type": "code",
   "execution_count": 15,
   "metadata": {},
   "outputs": [
    {
     "data": {
      "text/plain": [
       "2"
      ]
     },
     "execution_count": 15,
     "metadata": {},
     "output_type": "execute_result"
    }
   ],
   "source": [
    "y_weight[1000000]"
   ]
  },
  {
   "cell_type": "raw",
   "metadata": {},
   "source": [
    "degrees = sorted([(G.degree(node, weight = 'weight'),node) for node in G.nodes()], reverse = True)\n",
    "degrees[:10]"
   ]
  },
  {
   "cell_type": "code",
   "execution_count": 16,
   "metadata": {},
   "outputs": [],
   "source": [
    "H = G.copy()\n",
    "for u,v in G.edges():\n",
    "    if G[u][v]['weight'] <= 100:\n",
    "        G.remove_edge(u,v)\n",
    "tmp = list(nx.isolates(G))\n",
    "G.remove_nodes_from(tmp)"
   ]
  },
  {
   "cell_type": "code",
   "execution_count": 17,
   "metadata": {},
   "outputs": [
    {
     "data": {
      "text/plain": [
       "118102"
      ]
     },
     "execution_count": 17,
     "metadata": {},
     "output_type": "execute_result"
    }
   ],
   "source": [
    "G.number_of_edges()"
   ]
  },
  {
   "cell_type": "code",
   "execution_count": 18,
   "metadata": {},
   "outputs": [
    {
     "data": {
      "text/plain": [
       "Counter({450: 1,\n",
       "         2922: 1,\n",
       "         263: 1,\n",
       "         172: 1,\n",
       "         1: 132,\n",
       "         8: 1,\n",
       "         3: 2,\n",
       "         23: 1,\n",
       "         6: 1,\n",
       "         2: 5})"
      ]
     },
     "execution_count": 18,
     "metadata": {},
     "output_type": "execute_result"
    }
   ],
   "source": [
    "partitions = best_partition(G, randomize = True, weight = 'weight')\n",
    "clt.Counter(clt.Counter(partitions.values()).values())"
   ]
  },
  {
   "cell_type": "code",
   "execution_count": 20,
   "metadata": {},
   "outputs": [
    {
     "name": "stdout",
     "output_type": "stream",
     "text": [
      "Counter({1: 2922, 0: 450, 2: 263, 3: 172, 32: 23, 10: 8, 37: 6, 20: 3, 42: 3, 54: 2, 89: 2, 97: 2, 104: 2, 121: 2, 4: 1, 5: 1, 6: 1, 7: 1, 8: 1, 9: 1, 11: 1, 12: 1, 13: 1, 14: 1, 15: 1, 16: 1, 17: 1, 18: 1, 19: 1, 21: 1, 22: 1, 23: 1, 24: 1, 25: 1, 26: 1, 27: 1, 28: 1, 29: 1, 30: 1, 31: 1, 33: 1, 34: 1, 35: 1, 36: 1, 38: 1, 39: 1, 40: 1, 41: 1, 43: 1, 44: 1, 45: 1, 46: 1, 47: 1, 48: 1, 49: 1, 50: 1, 51: 1, 52: 1, 53: 1, 55: 1, 56: 1, 57: 1, 58: 1, 59: 1, 60: 1, 61: 1, 62: 1, 63: 1, 64: 1, 65: 1, 66: 1, 67: 1, 68: 1, 69: 1, 70: 1, 71: 1, 72: 1, 73: 1, 74: 1, 75: 1, 76: 1, 77: 1, 78: 1, 79: 1, 80: 1, 81: 1, 82: 1, 83: 1, 84: 1, 85: 1, 86: 1, 87: 1, 88: 1, 90: 1, 91: 1, 92: 1, 93: 1, 94: 1, 95: 1, 96: 1, 98: 1, 99: 1, 100: 1, 101: 1, 102: 1, 103: 1, 105: 1, 106: 1, 107: 1, 108: 1, 109: 1, 110: 1, 111: 1, 112: 1, 113: 1, 114: 1, 115: 1, 116: 1, 117: 1, 118: 1, 119: 1, 120: 1, 122: 1, 123: 1, 124: 1, 125: 1, 126: 1, 127: 1, 128: 1, 129: 1, 130: 1, 131: 1, 132: 1, 133: 1, 134: 1, 135: 1, 136: 1, 137: 1, 138: 1, 139: 1, 140: 1, 141: 1, 142: 1, 143: 1, 144: 1, 145: 1})\n"
     ]
    }
   ],
   "source": [
    "print(clt.Counter(partitions.values()))"
   ]
  },
  {
   "cell_type": "code",
   "execution_count": 23,
   "metadata": {},
   "outputs": [
    {
     "name": "stdout",
     "output_type": "stream",
     "text": [
      "('metal', 'albums')\n",
      "('guitar', 'driven')\n",
      "('later', 'releases')\n",
      "('guitar', 'solo')\n",
      "('excellent', 'song')\n",
      "('guitar', 'solos')\n",
      "('pay', 'attention')\n",
      "('fastest', 'song')\n",
      "('previous', 'songs')\n",
      "('single', 'track')\n",
      "('favorite', 'album')\n",
      "('lead', 'singer')\n",
      "('dual', 'guitar')\n",
      "('power', 'metal')\n",
      "('powerful', 'vocals')\n",
      "('way', 'better')\n",
      "('melodic', 'power')\n",
      "('guitar', 'duo')\n",
      "('melodic', 'speed')\n",
      "('speed', 'metal')\n",
      "('worth', 'noting')\n",
      "('great', 'chorus')\n",
      "('heavy', 'power')\n",
      "('electric', 'guitars')\n",
      "('solo', 'work')\n",
      "('vocal', 'parts')\n",
      "('actually', 'pretty')\n",
      "('previous', 'work')\n",
      "('fast', 'songs')\n",
      "('debut', 'album')\n",
      "('burnt', 'offerings')\n",
      "('great', 'solos')\n",
      "('faster', 'songs')\n",
      "('iced', 'earth')\n",
      "('power', 'speed')\n",
      "('speed', 'power')\n",
      "('seventh', 'son')\n",
      "('grave', 'digger')\n",
      "('king', 'diamond')\n",
      "('album', 'sound')\n",
      "('great', 'metal')\n",
      "('metal', 'head')\n",
      "('little', 'bit')\n",
      "('riffs', 'like')\n",
      "('intro', 'track')\n",
      "('speed', 'riffs')\n",
      "('great', 'thing')\n",
      "('classic', 'album')\n",
      "('pitched', 'vocals')\n",
      "('great', 'track')\n",
      "('album', 'takes')\n",
      "('running', 'wild')\n",
      "('album', 'came')\n",
      "('absolutely', 'amazing')\n",
      "('main', 'reason')\n",
      "('signature', 'sound')\n",
      "('instant', 'classic')\n",
      "('solid', 'rhythm')\n",
      "('ronnie', 'james')\n",
      "('james', 'dio')\n",
      "('looks', 'like')\n",
      "('songs', 'found')\n",
      "('lead', 'vocalist')\n",
      "('old', 'days')\n",
      "('musical', 'style')\n",
      "('metal', 'anthem')\n",
      "('worth', 'checking')\n",
      "('studio', 'albums')\n",
      "('bass', 'intro')\n",
      "('mid', 'tempo')\n",
      "('catchy', 'song')\n",
      "('rising', 'force')\n",
      "('old', 'fashioned')\n",
      "('moments', 'like')\n",
      "('deep', 'purple')\n",
      "('fates', 'warning')\n",
      "('heaviest', 'song')\n",
      "('best', 'moments')\n",
      "('virgin', 'steele')\n",
      "('classical', 'music')\n",
      "('keyboard', 'solo')\n",
      "('minute', 'song')\n",
      "('soaring', 'vocals')\n",
      "('yngwie', 'malmsteen')\n",
      "('dark', 'ride')\n",
      "('seven', 'keys')\n",
      "('gamma', 'ray')\n",
      "('dream', 'evil')\n",
      "('totally', 'different')\n",
      "('rock', 'song')\n",
      "('best', 'performance')\n",
      "('perfect', 'balance')\n",
      "('bit', 'slower')\n",
      "('memorable', 'chorus')\n",
      "('kai', 'hansen')\n",
      "('best', 'power')\n",
      "('blind', 'guardian')\n",
      "('favorite', 'bands')\n",
      "('cover', 'artwork')\n",
      "('eric', 'adams')\n",
      "('time', 'period')\n",
      "('hard', 'time')\n",
      "('black', 'wind')\n",
      "('non', 'metal')\n",
      "('metal', 'heads')\n",
      "('tony', 'iommi')\n",
      "('half', 'minute')\n",
      "('works', 'perfectly')\n",
      "('guitar', 'bass')\n",
      "('best', 'guitar')\n",
      "('memorable', 'songs')\n",
      "('better', 'songs')\n",
      "('catchy', 'songs')\n",
      "('fast', 'song')\n",
      "('classic', 'rock')\n",
      "('personal', 'favourite')\n",
      "('titled', 'debut')\n",
      "('rock', 'music')\n",
      "('best', 'known')\n",
      "('humble', 'opinion')\n",
      "('titled', 'album')\n",
      "('slower', 'songs')\n",
      "('pretty', 'sure')\n",
      "('nice', 'touch')\n",
      "('like', 'iron')\n",
      "('grim', 'reaper')\n",
      "('fist', 'pumping')\n",
      "('pretty', 'decent')\n",
      "('long', 'song')\n",
      "('perfect', 'way')\n",
      "('actually', 'sounds')\n",
      "('weakest', 'song')\n",
      "('metal', 'revival')\n",
      "('metal', 'oriented')\n",
      "('pounding', 'drumming')\n",
      "('vocal', 'duties')\n",
      "('vocal', 'line')\n",
      "('chorus', 'section')\n",
      "('epic', 'power')\n",
      "('power', 'progressive')\n",
      "('riff', 'happy')\n",
      "('half', 'ballad')\n",
      "('european', 'power')\n",
      "('vast', 'majority')\n",
      "('tempo', 'tracks')\n",
      "('paced', 'song')\n",
      "('album', 'shows')\n",
      "('unique', 'style')\n",
      "('song', 'gets')\n",
      "('numbers', 'like')\n",
      "('primal', 'fear')\n",
      "('metal', 'character')\n",
      "('ripper', 'owens')\n",
      "('vocal', 'sections')\n",
      "('blue', 'collar')\n",
      "('catchy', 'melodies')\n",
      "('single', 'note')\n",
      "('album', 'art')\n",
      "('starting', 'point')\n",
      "('rock', 'band')\n",
      "('gives', 'way')\n",
      "('highlights', 'include')\n",
      "('chorus', 'verse')\n",
      "('song', 'title')\n",
      "('angel', 'dust')\n",
      "('metal', 'vocalist')\n",
      "('guitar', 'lead')\n",
      "('sounds', 'good')\n",
      "('actual', 'music')\n",
      "('bit', 'similar')\n",
      "('song', 'goes')\n",
      "('makes', 'sense')\n",
      "('metal', 'opera')\n",
      "('excellent', 'guitar')\n",
      "('finest', 'hour')\n",
      "('years', 'old')\n",
      "('twisted', 'sister')\n",
      "('album', 'continues')\n",
      "('great', 'albums')\n",
      "('power', 'thrash')\n",
      "('classic', 'speed')\n",
      "('pretty', 'fast')\n",
      "('simply', 'amazing')\n",
      "('ample', 'destruction')\n",
      "('bit', 'different')\n",
      "('technically', 'impressive')\n",
      "('metal', 'number')\n",
      "('john', 'arch')\n",
      "('metal', 'outfit')\n",
      "('michael', 'romeo')\n",
      "('progressive', 'power')\n",
      "('wind', 'metal')\n",
      "('battle', 'cry')\n",
      "('slightly', 'better')\n",
      "('epic', 'track')\n",
      "('german', 'speed')\n",
      "('symphonic', 'elements')\n",
      "('new', 'vocalist')\n",
      "('heavy', 'guitars')\n",
      "('sonata', 'arctica')\n",
      "('jag', 'panzer')\n",
      "('liege', 'lord')\n",
      "('matt', 'barlow')\n",
      "('british', 'steel')\n",
      "('songwriting', 'department')\n",
      "('enchanted', 'lands')\n",
      "('symphonic', 'metal')\n",
      "('film', 'score')\n",
      "('vocal', 'display')\n",
      "('middle', 'earth')\n",
      "('nice', 'little')\n",
      "('album', 'overall')\n",
      "('tiny', 'bit')\n",
      "('classical', 'influences')\n",
      "('good', 'things')\n",
      "('tad', 'morose')\n",
      "('gets', 'better')\n",
      "('best', 'release')\n",
      "('guitar', 'keyboard')\n",
      "('symphonic', 'power')\n",
      "('nocturnal', 'rites')\n",
      "('tempo', 'riff')\n",
      "('originally', 'submitted')\n",
      "('jon', 'schaffer')\n",
      "('james', 'rivera')\n",
      "('length', 'studio')\n",
      "('past', 'couple')\n",
      "('blasting', 'drumming')\n",
      "('razor', 'wire')\n",
      "('epic', 'symphonic')\n",
      "('latest', 'album')\n",
      "('steady', 'mid')\n",
      "('american', 'power')\n",
      "('listens', 'like')\n",
      "('pounding', 'rhythms')\n",
      "('dark', 'moor')\n",
      "('italian', 'power')\n",
      "('high', 'vocals')\n",
      "('pounding', 'drum')\n",
      "('german', 'bands')\n",
      "('lost', 'horizon')\n",
      "('russell', 'allen')\n",
      "('keyboard', 'presence')\n",
      "('greater', 'emphasis')\n",
      "('tempo', 'pace')\n",
      "('good', 'starting')\n",
      "('guest', 'vocalists')\n",
      "('ritchie', 'blackmore')\n",
      "('axel', 'rudi')\n",
      "('rudi', 'pell')\n",
      "('prog', 'power')\n",
      "('greater', 'degree')\n",
      "('mob', 'rules')\n",
      "('upper', 'mid')\n",
      "('tempo', 'rhythms')\n",
      "('final', 'half')\n",
      "('jon', 'oliva')\n",
      "('mystic', 'prophecy')\n",
      "('originally', 'reviewed')\n",
      "('lead', 'vocal')\n",
      "('enjoyable', 'effort')\n",
      "('harry', 'conklin')\n",
      "('power', 'quest')\n"
     ]
    }
   ],
   "source": [
    "for word in partitions:\n",
    "    if partitions[word] == 2:\n",
    "        print(word)"
   ]
  },
  {
   "cell_type": "code",
   "execution_count": 19,
   "metadata": {},
   "outputs": [],
   "source": [
    "#nx.write_gpickle(G,'network_bigrams_sim.p') \n",
    "#nx.write_gpickle(DG,'disjointed_bigrams.p') "
   ]
  }
 ],
 "metadata": {
  "kernelspec": {
   "display_name": "Python 3",
   "language": "python",
   "name": "python3"
  },
  "language_info": {
   "codemirror_mode": {
    "name": "ipython",
    "version": 3
   },
   "file_extension": ".py",
   "mimetype": "text/x-python",
   "name": "python",
   "nbconvert_exporter": "python",
   "pygments_lexer": "ipython3",
   "version": "3.8.3"
  }
 },
 "nbformat": 4,
 "nbformat_minor": 4
}

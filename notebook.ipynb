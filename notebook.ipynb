{
 "cells": [
  {
   "cell_type": "code",
   "execution_count": 1,
   "metadata": {},
   "outputs": [],
   "source": [
    "import pandas as pd\n",
    "import matplotlib.pyplot as plt\n",
    "import networkx as nx\n",
    "import numpy as np\n",
    "import math\n",
    "import collections as clt"
   ]
  },
  {
   "cell_type": "code",
   "execution_count": 2,
   "metadata": {},
   "outputs": [],
   "source": [
    "df = pd.read_csv('all_reviews.csv')"
   ]
  },
  {
   "cell_type": "code",
   "execution_count": 3,
   "metadata": {},
   "outputs": [
    {
     "name": "stdout",
     "output_type": "stream",
     "text": [
      "Number of Users: 9318\n"
     ]
    }
   ],
   "source": [
    "print(\"Number of Users:\",len(set(df['User'])))\n",
    "#clt.Counter(df['User'])"
   ]
  },
  {
   "cell_type": "code",
   "execution_count": 4,
   "metadata": {},
   "outputs": [],
   "source": [
    "posScore = df['Score'].quantile(.5)\n",
    "#posScore = 75"
   ]
  },
  {
   "cell_type": "code",
   "execution_count": 5,
   "metadata": {},
   "outputs": [
    {
     "data": {
      "text/plain": [
       "77.22090459575743"
      ]
     },
     "execution_count": 5,
     "metadata": {},
     "output_type": "execute_result"
    }
   ],
   "source": [
    "np.mean(df['Score'])"
   ]
  },
  {
   "cell_type": "code",
   "execution_count": 6,
   "metadata": {},
   "outputs": [
    {
     "name": "stdout",
     "output_type": "stream",
     "text": [
      "Index(['Year', 'Date', 'User', 'Release', 'Score', 'Band'], dtype='object')\n",
      "50th Percentile at 83.0\n"
     ]
    }
   ],
   "source": [
    "print(df.columns)\n",
    "print(\"50th Percentile at\",posScore)"
   ]
  },
  {
   "cell_type": "code",
   "execution_count": 7,
   "metadata": {},
   "outputs": [
    {
     "data": {
      "image/png": "[encoded data removed]",
      "text/plain": [
       "<Figure size 432x288 with 1 Axes>"
      ]
     },
     "metadata": {
      "needs_background": "light"
     },
     "output_type": "display_data"
    }
   ],
   "source": [
    "plt.title('Distribution of Score')\n",
    "plt.xlabel('Score')\n",
    "plt.ylabel('Frequency')\n",
    "plt.hist(df['Score'])\n",
    "plt.savefig(\"Distribution of Score.png\")"
   ]
  },
  {
   "cell_type": "code",
   "execution_count": 8,
   "metadata": {},
   "outputs": [],
   "source": [
    "mp = {} #mp[release] = list(reviews)\n",
    "for i in range(len(df)):\n",
    "    if df['Score'][i] >= posScore:#positive review is defined as score >= 75\n",
    "    #if df['Score'][i] == 100:#only consider positive review as full score of 100\n",
    "        if df['Release'][i] not in mp:\n",
    "            mp[df['Release'][i]] = []\n",
    "        mp[df['Release'][i]].append((df['User'][i],float(df['Score'][i])))"
   ]
  },
  {
   "cell_type": "code",
   "execution_count": 9,
   "metadata": {},
   "outputs": [],
   "source": [
    "G = nx.Graph() #network of users\n",
    "B = nx.Graph() #bipartite graph between users and releases"
   ]
  },
  {
   "cell_type": "code",
   "execution_count": 10,
   "metadata": {},
   "outputs": [],
   "source": [
    "#construction of bipartite graph between users and releases\n",
    "users = set()\n",
    "for release in mp:\n",
    "    for item in mp[release]:\n",
    "        B.add_edge(release,str(item[0])+'U')#to differentiate items in bipartite graph\n",
    "        users.add(str(item[0])+'U')"
   ]
  },
  {
   "cell_type": "code",
   "execution_count": 11,
   "metadata": {},
   "outputs": [],
   "source": [
    "#constructing edges, and counting the frequency (i.e. number of repeated edges)\n",
    "edges = {}\n",
    "for user in users:\n",
    "    for release in B.adj[user]:\n",
    "        for node in B.adj[release]:\n",
    "            if node != user:\n",
    "                if (user, node) in edges:\n",
    "                    edges[(user, node)] += 1\n",
    "                elif (node, user) in edges:\n",
    "                    edges[(node, user)] += 1\n",
    "                else:\n",
    "                    edges[(user, node)] = 1"
   ]
  },
  {
   "cell_type": "code",
   "execution_count": 12,
   "metadata": {},
   "outputs": [],
   "source": [
    "for edge in edges:\n",
    "    G.add_edge(edge[0], edge[1], weight = edges[edge])"
   ]
  },
  {
   "cell_type": "code",
   "execution_count": 13,
   "metadata": {},
   "outputs": [
    {
     "name": "stdout",
     "output_type": "stream",
     "text": [
      "Number of Releases Used = 23883\n"
     ]
    }
   ],
   "source": [
    "print(\"Number of Releases Used =\",len(mp))"
   ]
  },
  {
   "cell_type": "code",
   "execution_count": 14,
   "metadata": {},
   "outputs": [],
   "source": [
    "#calculating similarity between two nodes which share an edge (else default is zero).\n",
    "#By using each edge, this method cuts down time complexity from O(N^2) to O(E)\n",
    "for u,v in G.edges():\n",
    "    #similarity = 2*overlap/sum of degrees of u and v\n",
    "    G[u][v]['similarity'] = (2*G[u][v]['weight'])/(G.degree(u,weight = 'weight')+G.degree(v,weight = 'weight')) "
   ]
  },
  {
   "cell_type": "code",
   "execution_count": 15,
   "metadata": {},
   "outputs": [],
   "source": [
    "#Assigning weights based on frequency\n",
    "weights = [G[u][v]['weight'] for u,v in G.edges()]\n",
    "sim_score = [G[u][v]['similarity'] for u,v in G.edges()]\n",
    "#print(weights)"
   ]
  },
  {
   "cell_type": "code",
   "execution_count": 16,
   "metadata": {},
   "outputs": [
    {
     "data": {
      "image/png": "[encoded data removed]",
      "text/plain": [
       "<Figure size 432x288 with 1 Axes>"
      ]
     },
     "metadata": {
      "needs_background": "light"
     },
     "output_type": "display_data"
    }
   ],
   "source": [
    "plt.title('Distribution of Similarity - Network of Users')\n",
    "plt.xlabel('Similarity (0-1)')\n",
    "plt.ylabel('Log of Frequency')\n",
    "#print(min(sim_score))\n",
    "plt.hist(sim_score, log = True, bins = 15)#specify the number of bins -> \n",
    "plt.savefig(\"Distribution of Similarity - Network of Users.png\")"
   ]
  },
  {
   "cell_type": "code",
   "execution_count": 17,
   "metadata": {},
   "outputs": [
    {
     "data": {
      "image/png": "[encoded data removed]",
      "text/plain": [
       "<Figure size 432x288 with 1 Axes>"
      ]
     },
     "metadata": {
      "needs_background": "light"
     },
     "output_type": "display_data"
    }
   ],
   "source": [
    "plt.title('Distribution of Weights - Network of Users')\n",
    "plt.xlabel('Weights')\n",
    "plt.ylabel('Log of Frequency')\n",
    "plt.hist(weights, log = True)\n",
    "plt.savefig(\"Distribution of Weights - Network of Users.png\")"
   ]
  },
  {
   "cell_type": "code",
   "execution_count": 18,
   "metadata": {},
   "outputs": [
    {
     "name": "stdout",
     "output_type": "stream",
     "text": [
      "Maximum Weight (i.e. Frequency) = 162\n",
      "Number of edges = 62023\n",
      "Number of nodes = 6176\n"
     ]
    }
   ],
   "source": [
    "print(\"Maximum Weight (i.e. Frequency) =\",max(weights))\n",
    "print(\"Number of edges =\",len(weights))\n",
    "print(\"Number of nodes =\",len(G.nodes()))"
   ]
  },
  {
   "cell_type": "code",
   "execution_count": 19,
   "metadata": {},
   "outputs": [
    {
     "data": {
      "image/png": "[encoded data removed]",
      "text/plain": [
       "<Figure size 432x288 with 1 Axes>"
      ]
     },
     "metadata": {
      "needs_background": "light"
     },
     "output_type": "display_data"
    }
   ],
   "source": [
    "plt.title('Distribution of Degree - Network of Users')\n",
    "plt.xlabel('Log of Degree')\n",
    "plt.ylabel('Log of Frequency')\n",
    "data = np.log10([b for a,b in G.degree(list(G.nodes()), weight = 'weight')])\n",
    "#_,bins = np.histogram(data + 1, bins='auto')\n",
    "#data = [b for a,b in G.degree(list(G.nodes()))]\n",
    "#plt.gca().set_xscale('log')\n",
    "plt.hist(data, log = True, bins = 15)\n",
    "plt.savefig(\"Distribution of Degree - Network of Users.png\")\n",
    "#print([b for a,b in G.degree(list(G.nodes()))])\n",
    "#Hopefully able to observe Power Law Distribution"
   ]
  },
  {
   "cell_type": "code",
   "execution_count": 20,
   "metadata": {},
   "outputs": [],
   "source": [
    "#Only run this when size is small\n",
    "#nx.draw(G, node_size = 10, width = weights)\n",
    "#plt.show()"
   ]
  },
  {
   "cell_type": "code",
   "execution_count": 21,
   "metadata": {},
   "outputs": [
    {
     "data": {
      "text/plain": [
       "Counter({2: 64, 3: 8, 4: 1, 5: 1, 6015: 1})"
      ]
     },
     "execution_count": 21,
     "metadata": {},
     "output_type": "execute_result"
    }
   ],
   "source": [
    "clt.Counter(sorted([len(cc) for cc in nx.connected_components(G)]))"
   ]
  },
  {
   "cell_type": "code",
   "execution_count": 22,
   "metadata": {},
   "outputs": [
    {
     "data": {
      "text/plain": [
       "\"\\ngraphs = list(nx.connected_components(G))\\n\\nfor subgraph in graphs:\\n    if len(subgraph) < 3:#only consider subgraphs with size > 3\\n        continue\\n    graph = G.subgraph(subgraph)\\n    weights1 = [graph[u][v]['weight'] for u,v in graph.edges()]\\n    nx.draw(graph, node_size = 10, width = weights1)\\n    plt.show()\\n\""
      ]
     },
     "execution_count": 22,
     "metadata": {},
     "output_type": "execute_result"
    }
   ],
   "source": [
    "#Splitting the graph into connected subgraphs\n",
    "'''\n",
    "graphs = list(nx.connected_components(G))\n",
    "\n",
    "for subgraph in graphs:\n",
    "    if len(subgraph) < 3:#only consider subgraphs with size > 3\n",
    "        continue\n",
    "    graph = G.subgraph(subgraph)\n",
    "    weights1 = [graph[u][v]['weight'] for u,v in graph.edges()]\n",
    "    nx.draw(graph, node_size = 10, width = weights1)\n",
    "    plt.show()\n",
    "'''"
   ]
  },
  {
   "cell_type": "code",
   "execution_count": 23,
   "metadata": {},
   "outputs": [],
   "source": [
    "H = nx.Graph() #network of releases"
   ]
  },
  {
   "cell_type": "code",
   "execution_count": 24,
   "metadata": {},
   "outputs": [],
   "source": [
    "#constructing edges, and counting the frequency (i.e. number of repeated edges)\n",
    "edgesNew = {}\n",
    "for release in mp:\n",
    "    for item in B.adj[release]:\n",
    "        for node in B.adj[item]:\n",
    "            if node != release:\n",
    "                if (release, node) in edgesNew:\n",
    "                    edgesNew[(release, node)] += 1\n",
    "                elif (node, release) in edgesNew:\n",
    "                    edgesNew[(node, release)] += 1\n",
    "                else:\n",
    "                    edgesNew[(release, node)] = 1\n",
    "\n",
    "for edge in edgesNew:\n",
    "    H.add_edge(edge[0], edge[1], weight = edgesNew[edge])\n",
    "\n",
    "#Assigning weights based on frequency\n",
    "weightsNew = [H[u][v]['weight'] for u,v in H.edges()]"
   ]
  },
  {
   "cell_type": "code",
   "execution_count": 25,
   "metadata": {},
   "outputs": [
    {
     "data": {
      "text/plain": [
       "2645164"
      ]
     },
     "execution_count": 25,
     "metadata": {},
     "output_type": "execute_result"
    }
   ],
   "source": [
    "len(edgesNew)"
   ]
  },
  {
   "cell_type": "code",
   "execution_count": 26,
   "metadata": {},
   "outputs": [
    {
     "name": "stdout",
     "output_type": "stream",
     "text": [
      "Number of Nodes = 22375\n",
      "Number of Edges = 2645164\n",
      "Maximum Weight = 22\n",
      "Minimum Weight = 2\n"
     ]
    }
   ],
   "source": [
    "print(\"Number of Nodes =\",len(H.nodes()))\n",
    "print(\"Number of Edges =\",len(H.edges()))\n",
    "print(\"Maximum Weight =\",max(weightsNew))\n",
    "print(\"Minimum Weight =\",min(weightsNew))"
   ]
  },
  {
   "cell_type": "code",
   "execution_count": 27,
   "metadata": {},
   "outputs": [
    {
     "data": {
      "image/png": "[encoded data removed]",
      "text/plain": [
       "<Figure size 432x288 with 1 Axes>"
      ]
     },
     "metadata": {
      "needs_background": "light"
     },
     "output_type": "display_data"
    }
   ],
   "source": [
    "plt.title('Distribution of Weights - Network of Releases')\n",
    "plt.xlabel('Weights')\n",
    "plt.ylabel('Log of Frequency')\n",
    "plt.hist(weightsNew, log = True)\n",
    "plt.savefig(\"Distribution of Weights - Network of Releases.png\")"
   ]
  },
  {
   "cell_type": "code",
   "execution_count": 28,
   "metadata": {},
   "outputs": [
    {
     "data": {
      "image/png": "[encoded data removed]",
      "text/plain": [
       "<Figure size 432x288 with 1 Axes>"
      ]
     },
     "metadata": {
      "needs_background": "light"
     },
     "output_type": "display_data"
    }
   ],
   "source": [
    "plt.title('Distribution of Degree - Network of Releases')\n",
    "plt.xlabel('Log of Degree')\n",
    "plt.ylabel('Log of Frequency')\n",
    "plt.hist(np.log10([b for a,b in H.degree(list(H.nodes()),weight = 'weight')]), log = True)\n",
    "plt.savefig(\"Distribution of Degree - Network of Releases.png\")\n",
    "#print([H for a,b in H.degree(list(H.nodes()))])\n",
    "#Hopefully able to observe Power Law Distribution"
   ]
  },
  {
   "cell_type": "code",
   "execution_count": 29,
   "metadata": {},
   "outputs": [],
   "source": [
    "#Only run this when size is small\n",
    "#nx.draw(H, node_size = 10, width = weightsNew)\n",
    "#plt.show()"
   ]
  },
  {
   "cell_type": "code",
   "execution_count": 30,
   "metadata": {},
   "outputs": [],
   "source": [
    "GC = G.subgraph(list(nx.connected_components(G))[0])#giant component of network of users"
   ]
  },
  {
   "cell_type": "code",
   "execution_count": 31,
   "metadata": {},
   "outputs": [
    {
     "data": {
      "text/plain": [
       "6015"
      ]
     },
     "execution_count": 31,
     "metadata": {},
     "output_type": "execute_result"
    }
   ],
   "source": [
    "len(GC.nodes())"
   ]
  },
  {
   "cell_type": "code",
   "execution_count": 32,
   "metadata": {},
   "outputs": [],
   "source": [
    "powers = []\n",
    "for node in GC.nodes():\n",
    "    powers.append(1.1**math.floor(math.log(GC.degree(node,weight = 'weight'),1.1)))"
   ]
  },
  {
   "cell_type": "code",
   "execution_count": 33,
   "metadata": {},
   "outputs": [
    {
     "data": {
      "text/plain": [
       "(array([5.976e+03, 2.400e+01, 1.100e+01, 2.000e+00, 0.000e+00, 0.000e+00,\n",
       "        0.000e+00, 1.000e+00, 0.000e+00, 1.000e+00]),\n",
       " array([1.94871710e+00, 7.79633486e+02, 1.55731825e+03, 2.33500302e+03,\n",
       "        3.11268779e+03, 3.89037256e+03, 4.66805733e+03, 5.44574210e+03,\n",
       "        6.22342687e+03, 7.00111164e+03, 7.77879641e+03]),\n",
       " <a list of 10 Patch objects>)"
      ]
     },
     "execution_count": 33,
     "metadata": {},
     "output_type": "execute_result"
    },
    {
     "data": {
      "image/png": "[encoded data removed]",
      "text/plain": [
       "<Figure size 432x288 with 1 Axes>"
      ]
     },
     "metadata": {
      "needs_background": "light"
     },
     "output_type": "display_data"
    }
   ],
   "source": [
    "plt.hist(powers, log = True)"
   ]
  },
  {
   "cell_type": "code",
   "execution_count": 34,
   "metadata": {},
   "outputs": [],
   "source": [
    "degree_x = []\n",
    "degree_y = []\n",
    "d_freq = clt.Counter(powers)\n",
    "for item in d_freq:\n",
    "    degree_x.append(math.log10(math.sqrt(item*(item*1.1))))\n",
    "    degree_y.append(math.log10(d_freq[item]))"
   ]
  },
  {
   "cell_type": "code",
   "execution_count": 35,
   "metadata": {},
   "outputs": [],
   "source": [
    "m,c = np.polyfit(degree_x,degree_y,1)#polynomial degree 1 (i.e. linear)"
   ]
  },
  {
   "cell_type": "code",
   "execution_count": 36,
   "metadata": {},
   "outputs": [
    {
     "name": "stdout",
     "output_type": "stream",
     "text": [
      "-0.9300357566248476 3.5073667329518963\n"
     ]
    }
   ],
   "source": [
    "print(m,c)"
   ]
  },
  {
   "cell_type": "code",
   "execution_count": 37,
   "metadata": {},
   "outputs": [
    {
     "data": {
      "image/png": "[encoded data removed]",
      "text/plain": [
       "<Figure size 432x288 with 1 Axes>"
      ]
     },
     "metadata": {
      "needs_background": "light"
     },
     "output_type": "display_data"
    }
   ],
   "source": [
    "plt.title('Degree Distribution in Giant Component')\n",
    "plt.xlabel('Log of Degree')\n",
    "plt.ylabel('Log of Frequency')\n",
    "plt.scatter(degree_x,degree_y)\n",
    "plt.plot(degree_x,m*np.array(degree_x)+c)\n",
    "plt.savefig('Degree Distribution in Giant Component')"
   ]
  },
  {
   "cell_type": "code",
   "execution_count": 38,
   "metadata": {},
   "outputs": [
    {
     "name": "stdout",
     "output_type": "stream",
     "text": [
      "Mean Squared Error = 0.030473808830360345\n"
     ]
    }
   ],
   "source": [
    "y_pred = [m*x + c for x in degree_x]\n",
    "MSE = np.square(np.subtract(degree_y,y_pred)).mean()\n",
    "print(\"Mean Squared Error =\", MSE)"
   ]
  },
  {
   "cell_type": "code",
   "execution_count": 39,
   "metadata": {},
   "outputs": [],
   "source": [
    "def cluster(sim):\n",
    "    GC_split = nx.Graph()\n",
    "    GC_split.add_nodes_from(GC.nodes())\n",
    "    for u,v in GC.edges():\n",
    "        if GC[u][v]['similarity'] >= sim:\n",
    "            GC_split.add_edge(u,v)\n",
    "            GC_split[u][v]['weight'] = GC[u][v]['weight']\n",
    "            GC_split[u][v]['similarity'] = GC[u][v]['similarity']\n",
    "    return GC_split"
   ]
  },
  {
   "cell_type": "code",
   "execution_count": 40,
   "metadata": {},
   "outputs": [],
   "source": [
    "def components(Graph):\n",
    "    return list(nx.connected_components(Graph))"
   ]
  },
  {
   "cell_type": "code",
   "execution_count": 41,
   "metadata": {},
   "outputs": [],
   "source": [
    "def getSize(Graph):\n",
    "    return [len(x) for x in list(nx.connected_components(Graph))]"
   ]
  },
  {
   "cell_type": "code",
   "execution_count": 42,
   "metadata": {},
   "outputs": [],
   "source": [
    "def entropy(sim):\n",
    "    sum = 0\n",
    "    clusters = components(cluster(sim))\n",
    "    N = len(GC.nodes())\n",
    "    for comp in clusters:\n",
    "        P = len(comp)/N\n",
    "        sum += -1*P*math.log10(P)\n",
    "    return sum"
   ]
  },
  {
   "cell_type": "code",
   "execution_count": 43,
   "metadata": {},
   "outputs": [
    {
     "data": {
      "image/png": "[encoded data removed]",
      "text/plain": [
       "<Figure size 432x288 with 1 Axes>"
      ]
     },
     "metadata": {
      "needs_background": "light"
     },
     "output_type": "display_data"
    }
   ],
   "source": [
    "sim_x = 0.01*np.array(range(0,101)) #higher runtime, but smoother curve\n",
    "#sim_x = 0.04*np.array(range(0,26))\n",
    "plt.title('Graph of Entropy against Similarity')\n",
    "plt.xlabel('Similarity')\n",
    "plt.ylabel('Entropy')\n",
    "plt.plot(sim_x,[entropy(x) for x in sim_x])\n",
    "plt.savefig('Graph of Entropy against Similarity')"
   ]
  },
  {
   "cell_type": "code",
   "execution_count": 44,
   "metadata": {},
   "outputs": [],
   "source": [
    "def certainty(sim):\n",
    "    freq = clt.Counter(getSize(cluster(sim)))\n",
    "    sum = 0\n",
    "    N = len(GC.nodes())\n",
    "    for item in freq:\n",
    "        P = item*freq[item]/N\n",
    "        sum += -1*P*math.log10(P)\n",
    "    return sum"
   ]
  },
  {
   "cell_type": "code",
   "execution_count": 45,
   "metadata": {},
   "outputs": [
    {
     "data": {
      "image/png": "[encoded data removed]",
      "text/plain": [
       "<Figure size 432x288 with 1 Axes>"
      ]
     },
     "metadata": {
      "needs_background": "light"
     },
     "output_type": "display_data"
    }
   ],
   "source": [
    "sim_x = 0.01*np.array(range(0,101)) #higher runtime, but smoother curve\n",
    "#cert_x = 0.04*np.array(range(0,26))\n",
    "plt.title('Graph of Certainty against Similarity')\n",
    "plt.xlabel('Similarity')\n",
    "plt.ylabel('Certainty')\n",
    "plt.plot(sim_x,[certainty(x) for x in sim_x])\n",
    "plt.savefig('Graph of certainty against Similarity')"
   ]
  },
  {
   "cell_type": "code",
   "execution_count": 46,
   "metadata": {},
   "outputs": [
    {
     "name": "stdout",
     "output_type": "stream",
     "text": [
      "0.067 1.0617864198771818\n"
     ]
    }
   ],
   "source": [
    "#Based on graph, calculate similarity that gives maximum certainty\n",
    "'''for x in sim_x[:20]:\n",
    "    print(x,certainty(x))'''\n",
    "#maximum\n",
    "#0.07,1.0302546261242758\n",
    "'''for x in range(60,80):\n",
    "    print(x/1e3,certainty(x/1e3))'''\n",
    "#maximum\n",
    "#0.067 1.061786419877182\n",
    "#0.068 1.0614383510267185\n",
    "'''for x in range(660,680):\n",
    "    print(x/1e4,certainty(x/1e4))'''\n",
    "#maximum\n",
    "#0.0674 1.061786419877182\n",
    "'''for x in range(6730,6750):\n",
    "    print(x/1e5,certainty(x/1e5))'''\n",
    "#maximum\n",
    "#0.06741 1.061786419877182\n",
    "#Therefore, optimal similarity value is determined to be 0.067\n",
    "optsim = 0.067 #this value is determined for when posScore = 75\n",
    "print(optsim,certainty(optsim))"
   ]
  },
  {
   "cell_type": "code",
   "execution_count": 47,
   "metadata": {},
   "outputs": [],
   "source": [
    "DG = cluster(optsim)#disjointed graph (i.e. after removing edges with similarity below threshold similarity of optsim = 0.67)\n",
    "comp = components(DG)"
   ]
  },
  {
   "cell_type": "code",
   "execution_count": 48,
   "metadata": {},
   "outputs": [],
   "source": [
    "#clt.Counter(len(x) for x in comp)"
   ]
  },
  {
   "cell_type": "code",
   "execution_count": 49,
   "metadata": {},
   "outputs": [
    {
     "data": {
      "image/png": "[encoded data removed]",
      "text/plain": [
       "<Figure size 432x288 with 1 Axes>"
      ]
     },
     "metadata": {
      "needs_background": "light"
     },
     "output_type": "display_data"
    }
   ],
   "source": [
    "plt.title('Distribution of Size of Cluster')\n",
    "plt.xlabel('Size')\n",
    "plt.ylabel('Log of Frequency')\n",
    "plt.hist([len(x) for x in comp], log = True)\n",
    "plt.savefig('Distribution of Size of Cluster')"
   ]
  }
 ],
 "metadata": {
  "kernelspec": {
   "display_name": "Python 3",
   "language": "python",
   "name": "python3"
  },
  "language_info": {
   "codemirror_mode": {
    "name": "ipython",
    "version": 3
   },
   "file_extension": ".py",
   "mimetype": "text/x-python",
   "name": "python",
   "nbconvert_exporter": "python",
   "pygments_lexer": "ipython3",
   "version": "3.6.5"
  }
 },
 "nbformat": 4,
 "nbformat_minor": 4
}

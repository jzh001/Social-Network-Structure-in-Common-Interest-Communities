{
 "cells": [
  {
   "cell_type": "code",
   "execution_count": 1,
   "metadata": {},
   "outputs": [],
   "source": [
    "import pandas as pd\n",
    "import matplotlib.pyplot as plt\n",
    "import networkx as nx\n",
    "import numpy as np\n",
    "import math\n",
    "import collections as clt"
   ]
  },
  {
   "cell_type": "code",
   "execution_count": 2,
   "metadata": {},
   "outputs": [],
   "source": [
    "plt.rcParams[\"figure.figsize\"] = (10,7) #defining size of plots"
   ]
  },
  {
   "cell_type": "code",
   "execution_count": 3,
   "metadata": {},
   "outputs": [],
   "source": [
    "df = pd.read_csv('all_reviews.csv')"
   ]
  },
  {
   "cell_type": "code",
   "execution_count": 4,
   "metadata": {},
   "outputs": [
    {
     "data": {
      "text/plain": [
       "(93434, 6)"
      ]
     },
     "execution_count": 4,
     "metadata": {},
     "output_type": "execute_result"
    }
   ],
   "source": [
    "df.shape"
   ]
  },
  {
   "cell_type": "code",
   "execution_count": 5,
   "metadata": {},
   "outputs": [
    {
     "data": {
      "text/plain": [
       "Index(['Year', 'Date', 'User', 'Release', 'Score', 'Band'], dtype='object')"
      ]
     },
     "execution_count": 5,
     "metadata": {},
     "output_type": "execute_result"
    }
   ],
   "source": [
    "df.columns"
   ]
  },
  {
   "cell_type": "code",
   "execution_count": 6,
   "metadata": {},
   "outputs": [
    {
     "data": {
      "text/html": [
       "<div>\n",
       "<style scoped>\n",
       "    .dataframe tbody tr th:only-of-type {\n",
       "        vertical-align: middle;\n",
       "    }\n",
       "\n",
       "    .dataframe tbody tr th {\n",
       "        vertical-align: top;\n",
       "    }\n",
       "\n",
       "    .dataframe thead th {\n",
       "        text-align: right;\n",
       "    }\n",
       "</style>\n",
       "<table border=\"1\" class=\"dataframe\">\n",
       "  <thead>\n",
       "    <tr style=\"text-align: right;\">\n",
       "      <th></th>\n",
       "      <th>Year</th>\n",
       "      <th>Date</th>\n",
       "      <th>User</th>\n",
       "      <th>Release</th>\n",
       "      <th>Score</th>\n",
       "      <th>Band</th>\n",
       "    </tr>\n",
       "  </thead>\n",
       "  <tbody>\n",
       "    <tr>\n",
       "      <th>0</th>\n",
       "      <td>2002</td>\n",
       "      <td>2002.07.11.06:45</td>\n",
       "      <td>8U</td>\n",
       "      <td>517380A</td>\n",
       "      <td>82</td>\n",
       "      <td>21B</td>\n",
       "    </tr>\n",
       "    <tr>\n",
       "      <th>1</th>\n",
       "      <td>2002</td>\n",
       "      <td>2002.07.14.09:19</td>\n",
       "      <td>8U</td>\n",
       "      <td>46A</td>\n",
       "      <td>88</td>\n",
       "      <td>14B</td>\n",
       "    </tr>\n",
       "    <tr>\n",
       "      <th>2</th>\n",
       "      <td>2002</td>\n",
       "      <td>2002.07.15.00:23</td>\n",
       "      <td>20U</td>\n",
       "      <td>133A</td>\n",
       "      <td>90</td>\n",
       "      <td>39B</td>\n",
       "    </tr>\n",
       "    <tr>\n",
       "      <th>3</th>\n",
       "      <td>2002</td>\n",
       "      <td>2002.07.16.03:43</td>\n",
       "      <td>21U</td>\n",
       "      <td>2A</td>\n",
       "      <td>87</td>\n",
       "      <td>4B</td>\n",
       "    </tr>\n",
       "    <tr>\n",
       "      <th>4</th>\n",
       "      <td>2002</td>\n",
       "      <td>2002.07.16.22:38</td>\n",
       "      <td>14U</td>\n",
       "      <td>21A</td>\n",
       "      <td>70</td>\n",
       "      <td>3B</td>\n",
       "    </tr>\n",
       "    <tr>\n",
       "      <th>...</th>\n",
       "      <td>...</td>\n",
       "      <td>...</td>\n",
       "      <td>...</td>\n",
       "      <td>...</td>\n",
       "      <td>...</td>\n",
       "      <td>...</td>\n",
       "    </tr>\n",
       "    <tr>\n",
       "      <th>93429</th>\n",
       "      <td>2017</td>\n",
       "      <td>2017.06.30.16:24</td>\n",
       "      <td>112373U</td>\n",
       "      <td>133802A</td>\n",
       "      <td>85</td>\n",
       "      <td>5123B</td>\n",
       "    </tr>\n",
       "    <tr>\n",
       "      <th>93430</th>\n",
       "      <td>2017</td>\n",
       "      <td>2017.06.30.16:30</td>\n",
       "      <td>112373U</td>\n",
       "      <td>270894A</td>\n",
       "      <td>65</td>\n",
       "      <td>327B</td>\n",
       "    </tr>\n",
       "    <tr>\n",
       "      <th>93431</th>\n",
       "      <td>2017</td>\n",
       "      <td>2017.06.30.16:41</td>\n",
       "      <td>112373U</td>\n",
       "      <td>45363A</td>\n",
       "      <td>80</td>\n",
       "      <td>5123B</td>\n",
       "    </tr>\n",
       "    <tr>\n",
       "      <th>93432</th>\n",
       "      <td>2017</td>\n",
       "      <td>2017.06.30.22:21</td>\n",
       "      <td>76229U</td>\n",
       "      <td>140056A</td>\n",
       "      <td>89</td>\n",
       "      <td>9208B</td>\n",
       "    </tr>\n",
       "    <tr>\n",
       "      <th>93433</th>\n",
       "      <td>2017</td>\n",
       "      <td>2017.06.30.22:24</td>\n",
       "      <td>411917U</td>\n",
       "      <td>517A</td>\n",
       "      <td>98</td>\n",
       "      <td>99B</td>\n",
       "    </tr>\n",
       "  </tbody>\n",
       "</table>\n",
       "<p>93434 rows × 6 columns</p>\n",
       "</div>"
      ],
      "text/plain": [
       "       Year              Date     User  Release  Score   Band\n",
       "0      2002  2002.07.11.06:45       8U  517380A     82    21B\n",
       "1      2002  2002.07.14.09:19       8U      46A     88    14B\n",
       "2      2002  2002.07.15.00:23      20U     133A     90    39B\n",
       "3      2002  2002.07.16.03:43      21U       2A     87     4B\n",
       "4      2002  2002.07.16.22:38      14U      21A     70     3B\n",
       "...     ...               ...      ...      ...    ...    ...\n",
       "93429  2017  2017.06.30.16:24  112373U  133802A     85  5123B\n",
       "93430  2017  2017.06.30.16:30  112373U  270894A     65   327B\n",
       "93431  2017  2017.06.30.16:41  112373U   45363A     80  5123B\n",
       "93432  2017  2017.06.30.22:21   76229U  140056A     89  9208B\n",
       "93433  2017  2017.06.30.22:24  411917U     517A     98    99B\n",
       "\n",
       "[93434 rows x 6 columns]"
      ]
     },
     "execution_count": 6,
     "metadata": {},
     "output_type": "execute_result"
    }
   ],
   "source": [
    "df"
   ]
  },
  {
   "cell_type": "code",
   "execution_count": 7,
   "metadata": {},
   "outputs": [
    {
     "data": {
      "text/html": [
       "<div>\n",
       "<style scoped>\n",
       "    .dataframe tbody tr th:only-of-type {\n",
       "        vertical-align: middle;\n",
       "    }\n",
       "\n",
       "    .dataframe tbody tr th {\n",
       "        vertical-align: top;\n",
       "    }\n",
       "\n",
       "    .dataframe thead th {\n",
       "        text-align: right;\n",
       "    }\n",
       "</style>\n",
       "<table border=\"1\" class=\"dataframe\">\n",
       "  <thead>\n",
       "    <tr style=\"text-align: right;\">\n",
       "      <th></th>\n",
       "      <th>Year</th>\n",
       "      <th>Score</th>\n",
       "    </tr>\n",
       "  </thead>\n",
       "  <tbody>\n",
       "    <tr>\n",
       "      <th>count</th>\n",
       "      <td>93434.000000</td>\n",
       "      <td>93434.000000</td>\n",
       "    </tr>\n",
       "    <tr>\n",
       "      <th>mean</th>\n",
       "      <td>2010.178661</td>\n",
       "      <td>77.220905</td>\n",
       "    </tr>\n",
       "    <tr>\n",
       "      <th>std</th>\n",
       "      <td>3.782777</td>\n",
       "      <td>20.475495</td>\n",
       "    </tr>\n",
       "    <tr>\n",
       "      <th>min</th>\n",
       "      <td>2002.000000</td>\n",
       "      <td>0.000000</td>\n",
       "    </tr>\n",
       "    <tr>\n",
       "      <th>25%</th>\n",
       "      <td>2007.000000</td>\n",
       "      <td>70.000000</td>\n",
       "    </tr>\n",
       "    <tr>\n",
       "      <th>50%</th>\n",
       "      <td>2010.000000</td>\n",
       "      <td>83.000000</td>\n",
       "    </tr>\n",
       "    <tr>\n",
       "      <th>75%</th>\n",
       "      <td>2013.000000</td>\n",
       "      <td>90.000000</td>\n",
       "    </tr>\n",
       "    <tr>\n",
       "      <th>max</th>\n",
       "      <td>2017.000000</td>\n",
       "      <td>100.000000</td>\n",
       "    </tr>\n",
       "  </tbody>\n",
       "</table>\n",
       "</div>"
      ],
      "text/plain": [
       "               Year         Score\n",
       "count  93434.000000  93434.000000\n",
       "mean    2010.178661     77.220905\n",
       "std        3.782777     20.475495\n",
       "min     2002.000000      0.000000\n",
       "25%     2007.000000     70.000000\n",
       "50%     2010.000000     83.000000\n",
       "75%     2013.000000     90.000000\n",
       "max     2017.000000    100.000000"
      ]
     },
     "execution_count": 7,
     "metadata": {},
     "output_type": "execute_result"
    }
   ],
   "source": [
    "df.describe()"
   ]
  },
  {
   "cell_type": "code",
   "execution_count": 8,
   "metadata": {},
   "outputs": [
    {
     "name": "stdout",
     "output_type": "stream",
     "text": [
      "Number of Users: 9318\n"
     ]
    }
   ],
   "source": [
    "print(\"Number of Users:\",len(set(df['User'])))\n",
    "#clt.Counter(df['User'])"
   ]
  },
  {
   "cell_type": "code",
   "execution_count": 9,
   "metadata": {},
   "outputs": [],
   "source": [
    "#posScore = df['Score'].quantile(.5)\n",
    "posScore = 75"
   ]
  },
  {
   "cell_type": "code",
   "execution_count": 10,
   "metadata": {},
   "outputs": [
    {
     "data": {
      "text/plain": [
       "77.22090459575743"
      ]
     },
     "execution_count": 10,
     "metadata": {},
     "output_type": "execute_result"
    }
   ],
   "source": [
    "np.mean(df['Score'])"
   ]
  },
  {
   "cell_type": "code",
   "execution_count": 11,
   "metadata": {},
   "outputs": [
    {
     "name": "stdout",
     "output_type": "stream",
     "text": [
      "Positive Score Threshold = 75\n"
     ]
    }
   ],
   "source": [
    "print(\"Positive Score Threshold =\",posScore)"
   ]
  },
  {
   "cell_type": "code",
   "execution_count": 12,
   "metadata": {},
   "outputs": [
    {
     "data": {
      "image/png": "[encoded data removed]",
      "text/plain": [
       "<Figure size 720x504 with 1 Axes>"
      ]
     },
     "metadata": {
      "needs_background": "light"
     },
     "output_type": "display_data"
    }
   ],
   "source": [
    "plt.title('Distribution of Score')\n",
    "plt.xlabel('Score')\n",
    "plt.ylabel('Frequency')\n",
    "plt.hist(df['Score'])\n",
    "plt.savefig(\"Distribution of Score.png\")"
   ]
  },
  {
   "cell_type": "code",
   "execution_count": null,
   "metadata": {},
   "outputs": [],
   "source": [
    "mp = {} #mp[release] = list(reviews)\n",
    "band = {}\n",
    "for i in range(len(df)):\n",
    "    if df['Score'][i] >= posScore:#positive review is defined as score >= 75\n",
    "    #if df['Score'][i] == 100:#only consider positive review as full score of 100\n",
    "        if df['Release'][i] not in mp:\n",
    "            mp[df['Release'][i]] = []\n",
    "        mp[df['Release'][i]].append((df['User'][i],float(df['Score'][i]),df['Year'][i]))#connect user to release\n",
    "    #connect release to band, assuming each release only has one band\n",
    "    #if df['Release'][i] in band and band[df['Release'][i]] != df['Band'][i]:\n",
    "        #print(\"Error at index\",i)\n",
    "    band[df['Release'][i]] = df['Band'][i]"
   ]
  },
  {
   "cell_type": "code",
   "execution_count": null,
   "metadata": {},
   "outputs": [],
   "source": [
    "G = nx.Graph() #network of users\n",
    "B = nx.Graph() #bipartite graph between users and releases"
   ]
  },
  {
   "cell_type": "code",
   "execution_count": null,
   "metadata": {},
   "outputs": [],
   "source": [
    "#construction of bipartite graph between users and releases\n",
    "users = set()\n",
    "for release in mp:\n",
    "    for item in mp[release]:\n",
    "        B.add_edge(release,item[0])#release to user\n",
    "        B[release][item[0]]['year'] = item[2]\n",
    "        users.add(item[0])"
   ]
  },
  {
   "cell_type": "code",
   "execution_count": null,
   "metadata": {},
   "outputs": [],
   "source": [
    "#constructing edges, and counting the frequency (i.e. number of repeated edges)\n",
    "edges = {}\n",
    "releases = {}\n",
    "findYear = {}\n",
    "for user in users:\n",
    "    for release in B.adj[user]:\n",
    "        for node in B.adj[release]:\n",
    "            if node != user:\n",
    "                if (user, node) in edges:\n",
    "                    edges[(user, node)] += 1\n",
    "                    releases[(user, node)].append(release)\n",
    "                    findYear[(user, node)].append(max(B[node][release]['year'],B[user][release]['year']))\n",
    "                elif (node, user) in edges:\n",
    "                    edges[(node, user)] += 1\n",
    "                    releases[(node, user)].append(release)\n",
    "                    findYear[(node, user)].append(max(B[node][release]['year'],B[user][release]['year']))\n",
    "                else:\n",
    "                    edges[(user, node)] = 1\n",
    "                    releases[(user, node)] = []\n",
    "                    releases[(user, node)].append(release)\n",
    "                    findYear[(user, node)] = []\n",
    "                    findYear[(user, node)].append(max(B[node][release]['year'],B[user][release]['year']))"
   ]
  },
  {
   "cell_type": "code",
   "execution_count": null,
   "metadata": {},
   "outputs": [],
   "source": [
    "for edge in edges:\n",
    "    G.add_edge(edge[0], edge[1], weight = edges[edge]/2)#because double counted\n",
    "    #add individual releases to each edge\n",
    "    G[edge[0]][edge[1]]['releases'] = set(releases[edge])\n",
    "    tmp = clt.Counter(findYear[edge])\n",
    "    findYear_final = {}\n",
    "    for item in tmp:\n",
    "        findYear_final[item] = int(tmp[item]/2)\n",
    "    G[edge[0]][edge[1]]['year'] = findYear_final"
   ]
  },
  {
   "cell_type": "code",
   "execution_count": null,
   "metadata": {},
   "outputs": [],
   "source": [
    "print(\"Number of Releases Used =\",len(mp))"
   ]
  },
  {
   "cell_type": "code",
   "execution_count": null,
   "metadata": {},
   "outputs": [],
   "source": [
    "#calculating similarity between two nodes which share an edge (else default is zero).\n",
    "#By using each edge, this method cuts down time complexity from O(N^2) to O(E)\n",
    "for u,v in G.edges():\n",
    "    #similarity = 2*overlap/sum of degrees of u and v\n",
    "    sum_of_degrees = G.degree(u,weight = 'weight')+G.degree(v,weight = 'weight')\n",
    "    common_edges = G[u][v]['weight']\n",
    "    G[u][v]['similarity'] = (2*common_edges)/sum_of_degrees #is this the best way?\n",
    "    #G[u][v]['similarity'] = common_edges/(sum_of_degrees - common_edges)"
   ]
  },
  {
   "cell_type": "code",
   "execution_count": null,
   "metadata": {},
   "outputs": [],
   "source": [
    "#Assigning weights based on frequency\n",
    "weights = [G[u][v]['weight'] for u,v in G.edges()]\n",
    "sim_score = [G[u][v]['similarity'] for u,v in G.edges()]\n",
    "#print(weights)"
   ]
  },
  {
   "cell_type": "code",
   "execution_count": null,
   "metadata": {},
   "outputs": [],
   "source": [
    "plt.title('Distribution of Similarity - Network of Users')\n",
    "plt.xlabel('Similarity (0-1)')\n",
    "plt.ylabel('Log of Frequency')\n",
    "#print(min(sim_score))\n",
    "plt.hist(sim_score, log = True)#specify the number of bins -> \n",
    "plt.savefig(\"Distribution of Similarity - Network of Users.png\")"
   ]
  },
  {
   "cell_type": "code",
   "execution_count": null,
   "metadata": {},
   "outputs": [],
   "source": [
    "plt.title('Distribution of Weights - Network of Users')\n",
    "plt.xlabel('Weights')\n",
    "plt.ylabel('Log of Frequency')\n",
    "plt.hist(weights, log = True)\n",
    "plt.savefig(\"Distribution of Weights - Network of Users.png\")"
   ]
  },
  {
   "cell_type": "code",
   "execution_count": null,
   "metadata": {},
   "outputs": [],
   "source": [
    "print(\"Maximum Weight (i.e. Frequency) =\",max(weights))\n",
    "print(\"Number of edges =\",len(weights))\n",
    "print(\"Number of nodes =\",len(G.nodes()))"
   ]
  },
  {
   "cell_type": "code",
   "execution_count": null,
   "metadata": {},
   "outputs": [],
   "source": [
    "plt.title('Distribution of Degree - Network of Users')\n",
    "plt.xlabel('Log of Degree')\n",
    "plt.ylabel('Log of Frequency')\n",
    "data = np.log10([b for a,b in G.degree(list(G.nodes()), weight = 'weight')])\n",
    "#_,bins = np.histogram(data + 1, bins='auto')\n",
    "#data = [b for a,b in G.degree(list(G.nodes()))]\n",
    "#plt.gca().set_xscale('log')\n",
    "plt.hist(data, log = True, bins = 15)\n",
    "plt.savefig(\"Distribution of Degree - Network of Users.png\")\n",
    "#print([b for a,b in G.degree(list(G.nodes()))])\n",
    "#Hopefully able to observe Power Law Distribution"
   ]
  },
  {
   "cell_type": "code",
   "execution_count": null,
   "metadata": {},
   "outputs": [],
   "source": [
    "#Only run this when size is small\n",
    "#nx.draw(G, node_size = 10, width = weights)\n",
    "#plt.show()"
   ]
  },
  {
   "cell_type": "code",
   "execution_count": null,
   "metadata": {},
   "outputs": [],
   "source": [
    "clt.Counter(sorted([len(cc) for cc in nx.connected_components(G)]))"
   ]
  },
  {
   "cell_type": "code",
   "execution_count": null,
   "metadata": {},
   "outputs": [],
   "source": [
    "#Splitting the graph into connected subgraphs\n",
    "'''\n",
    "graphs = list(nx.connected_components(G))\n",
    "\n",
    "for subgraph in graphs:\n",
    "    if len(subgraph) < 3:#only consider subgraphs with size > 3\n",
    "        continue\n",
    "    graph = G.subgraph(subgraph)\n",
    "    weights1 = [graph[u][v]['weight'] for u,v in graph.edges()]\n",
    "    nx.draw(graph, node_size = 10, width = weights1)\n",
    "    plt.show()\n",
    "'''"
   ]
  },
  {
   "cell_type": "code",
   "execution_count": null,
   "metadata": {},
   "outputs": [],
   "source": [
    "'''H = nx.Graph() #network of releases'''"
   ]
  },
  {
   "cell_type": "code",
   "execution_count": null,
   "metadata": {},
   "outputs": [],
   "source": [
    "'''#constructing edges, and counting the frequency (i.e. number of repeated edges)\n",
    "edgesNew = {}\n",
    "for release in mp:\n",
    "    for item in B.adj[release]:\n",
    "        for node in B.adj[item]:\n",
    "            if node != release:\n",
    "                if (release, node) in edgesNew:\n",
    "                    edgesNew[(release, node)] += 1\n",
    "                elif (node, release) in edgesNew:\n",
    "                    edgesNew[(node, release)] += 1\n",
    "                else:\n",
    "                    edgesNew[(release, node)] = 1\n",
    "\n",
    "for edge in edgesNew:\n",
    "    H.add_edge(edge[0], edge[1], weight = edgesNew[edge]/2)#double counted\n",
    "\n",
    "#Assigning weights based on frequency\n",
    "weightsNew = [H[u][v]['weight'] for u,v in H.edges()]'''"
   ]
  },
  {
   "cell_type": "code",
   "execution_count": null,
   "metadata": {},
   "outputs": [],
   "source": [
    "#Only run this when size is small\n",
    "#nx.draw(H, node_size = 10, width = weightsNew)\n",
    "#plt.show()"
   ]
  },
  {
   "cell_type": "code",
   "execution_count": null,
   "metadata": {},
   "outputs": [],
   "source": [
    "GC = G.subgraph(list(nx.connected_components(G))[0])#giant component of network of users"
   ]
  },
  {
   "cell_type": "code",
   "execution_count": null,
   "metadata": {},
   "outputs": [],
   "source": [
    "len(GC.nodes())"
   ]
  },
  {
   "cell_type": "code",
   "execution_count": null,
   "metadata": {},
   "outputs": [],
   "source": [
    "#binning node degrees by log factor (i.e. each bin has the range  [a^x,a^(x+1)))\n",
    "powers = []\n",
    "for node in GC.nodes():\n",
    "    powers.append(1.1**math.floor(math.log(GC.degree(node,weight = 'weight'),1.1)))"
   ]
  },
  {
   "cell_type": "code",
   "execution_count": null,
   "metadata": {},
   "outputs": [],
   "source": [
    "degree_x = []\n",
    "degree_y = []\n",
    "d_freq = clt.Counter(powers)\n",
    "for item in d_freq:\n",
    "    degree_x.append(math.log10(math.sqrt(item*(item*1.1))))\n",
    "    degree_y.append(math.log10(d_freq[item]))"
   ]
  },
  {
   "cell_type": "code",
   "execution_count": null,
   "metadata": {},
   "outputs": [],
   "source": [
    "#finding best fit line\n",
    "m,c = np.polyfit(degree_x,degree_y,1)#polynomial degree 1 (i.e. linear)"
   ]
  },
  {
   "cell_type": "code",
   "execution_count": null,
   "metadata": {},
   "outputs": [],
   "source": [
    "print(m,c)"
   ]
  },
  {
   "cell_type": "code",
   "execution_count": null,
   "metadata": {},
   "outputs": [],
   "source": [
    "plt.title('Degree Distribution in Giant Component')\n",
    "plt.xlabel('Log of Degree')\n",
    "plt.ylabel('Log of Frequency')\n",
    "plt.scatter(degree_x,degree_y)\n",
    "plt.plot(degree_x,m*np.array(degree_x)+c)\n",
    "plt.savefig('Degree Distribution in Giant Component')"
   ]
  },
  {
   "cell_type": "code",
   "execution_count": null,
   "metadata": {},
   "outputs": [],
   "source": [
    "y_pred = [m*x + c for x in degree_x]\n",
    "MSE = np.square(np.subtract(degree_y,y_pred)).mean()\n",
    "print(\"Mean Squared Error =\", MSE)"
   ]
  },
  {
   "cell_type": "code",
   "execution_count": null,
   "metadata": {},
   "outputs": [],
   "source": [
    "def cluster(sim):\n",
    "    #this function generates a graph which is a collection of subgraphs from the original graph\n",
    "    #after removing all edges with similarity < sim, where sim is to be determined\n",
    "    #to generate full graph, used for point query\n",
    "    GC_split = nx.Graph()\n",
    "    GC_split.add_nodes_from(GC.nodes())\n",
    "    for u,v in GC.edges():\n",
    "        if GC[u][v]['similarity'] >= sim:\n",
    "            GC_split.add_edge(u,v)\n",
    "            GC_split[u][v]['weight'] = GC[u][v]['weight']\n",
    "            GC_split[u][v]['similarity'] = GC[u][v]['similarity']\n",
    "            GC_split[u][v]['releases'] = GC[u][v]['releases']\n",
    "            GC_split[u][v]['year'] = GC[u][v]['year']\n",
    "    return GC_split"
   ]
  },
  {
   "cell_type": "code",
   "execution_count": null,
   "metadata": {},
   "outputs": [],
   "source": [
    "def cluster_fast(sim):\n",
    "    #a faster version of cluster function, but without edge attributes, for computational purposes only\n",
    "    GC_split = nx.Graph()\n",
    "    GC_split.add_nodes_from(GC.nodes())\n",
    "    for u,v in GC.edges():\n",
    "        if GC[u][v]['similarity'] >= sim:\n",
    "            GC_split.add_edge(u,v)\n",
    "    return GC_split"
   ]
  },
  {
   "cell_type": "code",
   "execution_count": null,
   "metadata": {},
   "outputs": [],
   "source": [
    "def components(Graph):\n",
    "    #returns a list connected components of a graph (a list of lists of nodes in each connected component)\n",
    "    return list(nx.connected_components(Graph))"
   ]
  },
  {
   "cell_type": "code",
   "execution_count": null,
   "metadata": {},
   "outputs": [],
   "source": [
    "def getSize(Graph):\n",
    "    #returns a list of the size of disconnected subgraphs in a graph\n",
    "    return [len(x) for x in list(nx.connected_components(Graph))]"
   ]
  },
  {
   "cell_type": "code",
   "execution_count": null,
   "metadata": {},
   "outputs": [],
   "source": [
    "def entropy(sim, Graph = nx.Graph()):\n",
    "    #can be used both for range and point query\n",
    "    #calculates the Shannon Entropy of a graph\n",
    "    #if input is a graph instead of similarity value, set sim = -1\n",
    "    sum = 0\n",
    "    if sim == -1:#used by range function entropy_range\n",
    "        clusters = components(Graph)\n",
    "    else:#used individually\n",
    "        clusters = components(cluster_fast(sim))\n",
    "    N = len(GC.nodes())\n",
    "    for comp in clusters:\n",
    "        P = len(comp)/N\n",
    "        sum += -1*P*math.log10(P)\n",
    "    return sum"
   ]
  },
  {
   "cell_type": "code",
   "execution_count": null,
   "metadata": {},
   "outputs": [],
   "source": [
    "def entropy_range(sim_x, isShannon = False):\n",
    "    #runs in linear time, but needs to be initialised from largest to smallest similarity\n",
    "    #takes in a range of values and adds edges individually from greatest to smallest similarity\n",
    "    #used for range query\n",
    "    #isShannon is a boolean which is True when finding Shannon Entropy and False when finding Cluster Entropy\n",
    "    #can be used for both types of entropy by specifying boolean\n",
    "    #range query reduces run time as graph is only constructed once\n",
    "    #returns list of entropy values\n",
    "    pos = 0\n",
    "    GC_split = nx.Graph()\n",
    "    GC_split.add_nodes_from(GC.nodes())\n",
    "    edges = []\n",
    "    for u,v in GC.edges():\n",
    "        edges.append((GC[u][v]['similarity'],u,v))\n",
    "    edges.sort(reverse = True)\n",
    "    ret = []\n",
    "    for sim in sim_x:\n",
    "        for i in range(pos,len(edges)):\n",
    "            edgesim, u, v = edges[i]\n",
    "            if edgesim >= sim:\n",
    "                GC_split.add_edge(u,v)\n",
    "            else:\n",
    "                break\n",
    "        pos = i\n",
    "        if isShannon:\n",
    "            ret.append(entropy(-1,GC_split))\n",
    "        else:\n",
    "            ret.append(clusterentropy(-1,GC_split))\n",
    "    ret.reverse()\n",
    "    return ret"
   ]
  },
  {
   "cell_type": "code",
   "execution_count": null,
   "metadata": {},
   "outputs": [],
   "source": [
    "sim_x = [0.01*x for x in range(101)] \n",
    "sim_y = entropy_range(reversed(sim_x), True)\n",
    "#print(sim_y)\n",
    "#sim_x = 0.04*np.array(range(0,26))\n",
    "plt.title('Graph of Shannon Entropy of Network against Similarity')\n",
    "plt.xlabel('Similarity')\n",
    "plt.ylabel('Entropy')\n",
    "plt.plot(sim_x,sim_y)\n",
    "plt.savefig('Graph of Shannon Entropy of Network against Similarity')"
   ]
  },
  {
   "cell_type": "code",
   "execution_count": null,
   "metadata": {},
   "outputs": [],
   "source": [
    "def clusterentropy(sim, Graph = nx.Graph()):\n",
    "    #can be used both for range and point query\n",
    "    #set sim = -1 if input is a graph\n",
    "    if sim == -1:#used by range function entropy_range\n",
    "        freq = clt.Counter(getSize(Graph))\n",
    "    else:#used individually\n",
    "        freq = clt.Counter(getSize(cluster_fast(sim)))\n",
    "    sum = 0\n",
    "    N = len(GC.nodes())\n",
    "    for item in freq:\n",
    "        P = item*freq[item]/N\n",
    "        sum += -1*P*math.log10(P)\n",
    "    return sum"
   ]
  },
  {
   "cell_type": "code",
   "execution_count": null,
   "metadata": {},
   "outputs": [],
   "source": [
    "sim_y = entropy_range(reversed(sim_x))\n",
    "plt.title('Graph of Cluster Entropy against Similarity')\n",
    "plt.xlabel('Similarity')\n",
    "plt.ylabel('Cluster Entropy')\n",
    "plt.plot(sim_x,sim_y)\n",
    "plt.savefig('Graph of Cluster Entropy against Similarity')"
   ]
  },
  {
   "cell_type": "code",
   "execution_count": null,
   "metadata": {},
   "outputs": [],
   "source": [
    "def entropy_rangemax(sim_x):\n",
    "    #runs in linear time, but needs to be initialised from largest to smallest similarity\n",
    "    #takes in a range of values and adds edges individually from greatest to smallest similarity\n",
    "    #used for range query\n",
    "    #Different from entropy_range as this returns the maximum entropy and the similarity value at which cluster entropy is maximum\n",
    "    pos = 0\n",
    "    GC_split = nx.Graph()\n",
    "    GC_split.add_nodes_from(GC.nodes())\n",
    "    edges = []\n",
    "    for u,v in GC.edges():\n",
    "        edges.append((GC[u][v]['similarity'],u,v))\n",
    "    edges.sort(reverse = True)\n",
    "    bestsim = -1\n",
    "    maxi = -1\n",
    "    for i1, sim in enumerate(sim_x):\n",
    "        for i in range(pos,len(edges)):\n",
    "            edgesim, u, v = edges[i]\n",
    "            if edgesim >= sim:\n",
    "                GC_split.add_edge(u,v)\n",
    "            else:\n",
    "                break\n",
    "        pos = i\n",
    "        x = clusterentropy(-1,GC_split)\n",
    "        if x > maxi:\n",
    "            maxi = x\n",
    "            bestsim = sim\n",
    "    return maxi,bestsim"
   ]
  },
  {
   "cell_type": "code",
   "execution_count": null,
   "metadata": {},
   "outputs": [],
   "source": [
    "#Based on graph, calculate similarity that gives maximum certainty\n",
    "\n",
    "#Searches with precision of 0.01 in entire range of similarity from 0-1\n",
    "sim_x = [0.01*x for x in range(101)]#reversed\n",
    "maxi, sim = entropy_rangemax(reversed(sim_x))\n",
    "print(\"Maximum Cluster Entropy:\",maxi,\" when Similarity =\",sim)\n",
    "\n",
    "#Searches with precision of 0.001 within new range based on previous search\n",
    "sim_x = [0.001*x + sim for x in range(-10,10)]\n",
    "maxi, sim = entropy_rangemax(reversed(sim_x))\n",
    "print(\"Maximum Cluster Entropy:\",maxi,\" when Similarity =\",sim)\n",
    "\n",
    "#Searches with precision of 0.0001 within new range based on previous search (if needed)\n",
    "'''sim_x = [0.0001*x + sim for x in range(-10,10)]\n",
    "maxi, sim = entropy_rangemax(reversed(sim_x))\n",
    "print(\"Maximum Cluster Entropy:\",maxi,\" when Similarity =\",sim)'''\n",
    "#Therefore, optimal similarity value is determined to be 0.0593\n",
    "optsim = sim #this value is determined for when posScore = 75\n",
    "#when posScore = 83 at 50th percentile, optsim = 0.67\n",
    "print(optsim,maxi)"
   ]
  },
  {
   "cell_type": "code",
   "execution_count": null,
   "metadata": {},
   "outputs": [],
   "source": [
    "DG = cluster(optsim)#disjointed graph (i.e. after removing edges with similarity < optsim )\n",
    "comp = components(DG)"
   ]
  },
  {
   "cell_type": "code",
   "execution_count": null,
   "metadata": {},
   "outputs": [],
   "source": [
    "#finding size of subgraphs in new graph generated with optsim\n",
    "dist_size = []\n",
    "tmp = clt.Counter(len(x) for x in comp)\n",
    "for y in tmp:\n",
    "    dist_size.append((y,tmp[y]))\n",
    "dist_size = sorted(dist_size)\n",
    "print(dist_size)"
   ]
  },
  {
   "cell_type": "code",
   "execution_count": null,
   "metadata": {},
   "outputs": [],
   "source": [
    "plt.title('Distribution of Size of Clusters')\n",
    "plt.xlabel('Size of Cluster')\n",
    "plt.ylabel('Log of Frequency')\n",
    "plt.hist([len(x) for x in comp], log = True)\n",
    "plt.savefig('Distribution of Size of Clusters')"
   ]
  },
  {
   "cell_type": "code",
   "execution_count": null,
   "metadata": {},
   "outputs": [],
   "source": [
    "plt.title('Size of Clusters - Scatter Plot')\n",
    "plt.xlabel('Size of Cluster')\n",
    "plt.ylabel('Log of Frequency')\n",
    "plt.scatter([x[0] for x in dist_size], [math.log10(x[1]) for x in dist_size],label = 'Clusters')\n",
    "plt.legend()\n",
    "plt.savefig('Size of Clusters - Scatter Plot')"
   ]
  },
  {
   "cell_type": "code",
   "execution_count": null,
   "metadata": {},
   "outputs": [],
   "source": [
    "#finding number of distinct bands per cluster and investigating relationship between size of cluster and band\n",
    "grps = []\n",
    "bands = []\n",
    "for grp in comp:\n",
    "    NG = DG.subgraph(grp) #NG represents each new subgraph using optsim\n",
    "    grps.append(NG)\n",
    "    Bands = set()\n",
    "    for u,v in NG.edges():\n",
    "        for item in NG[u][v]['releases']:\n",
    "            Bands.add(band[item])\n",
    "    bands.append((len(grp),len(Bands)))"
   ]
  },
  {
   "cell_type": "code",
   "execution_count": null,
   "metadata": {},
   "outputs": [],
   "source": [
    "bands_x = [x[0] for x in bands]\n",
    "bands_y = [x[1] for x in bands]"
   ]
  },
  {
   "cell_type": "code",
   "execution_count": null,
   "metadata": {},
   "outputs": [],
   "source": [
    "m1,c1 = np.polyfit(bands_x, bands_y, 1)#polynomial degree 1 (i.e. linear)\n",
    "print(m1,c1)"
   ]
  },
  {
   "cell_type": "code",
   "execution_count": null,
   "metadata": {},
   "outputs": [],
   "source": [
    "plt.title('Size of Clusters vs Number of Distinct Bands')\n",
    "plt.xlabel('Size of Cluster')\n",
    "plt.ylabel('Number of Distinct Bands')\n",
    "plt.scatter(bands_x, bands_y,label = 'Clusters')\n",
    "plt.plot(bands_x,m1*np.array(bands_x)+c1, label = 'Best Fit Line')\n",
    "plt.legend()\n",
    "plt.savefig('Size of Clusters vs Number of Distinct Bands')"
   ]
  },
  {
   "cell_type": "code",
   "execution_count": null,
   "metadata": {},
   "outputs": [],
   "source": [
    "y_pred = [m1*x + c1 for x in bands_x]\n",
    "MSE = np.square(np.subtract(bands_y,y_pred)).mean()\n",
    "print(\"Mean Squared Error =\", MSE)"
   ]
  },
  {
   "cell_type": "code",
   "execution_count": null,
   "metadata": {},
   "outputs": [],
   "source": [
    "#sorted descending list of all components (i.e. subgraphs) according to size\n",
    "comps = sorted([(len(x),list(x)) for x in components(DG)], reverse = True)"
   ]
  },
  {
   "cell_type": "code",
   "execution_count": null,
   "metadata": {},
   "outputs": [],
   "source": [
    "def draw_subgraph(ind):\n",
    "    SG = DG.subgraph(comps[ind][1])\n",
    "    print(len(SG.nodes()))\n",
    "    nx.draw(SG, node_size = 15, width = [SG[u][v]['similarity']*15 for u,v in SG.edges()], pos = nx.spring_layout(SG))#similarity*15 for visualisation purpose\n",
    "    plt.savefig('Subgraph ' + str(ind))"
   ]
  },
  {
   "cell_type": "code",
   "execution_count": null,
   "metadata": {},
   "outputs": [],
   "source": [
    "draw_subgraph(0) #largest subgraph"
   ]
  },
  {
   "cell_type": "code",
   "execution_count": null,
   "metadata": {},
   "outputs": [],
   "source": [
    "draw_subgraph(1) #second largest subgraph"
   ]
  },
  {
   "cell_type": "code",
   "execution_count": null,
   "metadata": {},
   "outputs": [],
   "source": [
    "draw_subgraph(2) #third largest subgraph"
   ]
  }
 ],
 "metadata": {
  "kernelspec": {
   "display_name": "Python 3",
   "language": "python",
   "name": "python3"
  },
  "language_info": {
   "codemirror_mode": {
    "name": "ipython",
    "version": 3
   },
   "file_extension": ".py",
   "mimetype": "text/x-python",
   "name": "python",
   "nbconvert_exporter": "python",
   "pygments_lexer": "ipython3",
   "version": "3.6.5"
  }
 },
 "nbformat": 4,
 "nbformat_minor": 4
}

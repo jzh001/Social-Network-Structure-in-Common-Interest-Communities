{
 "cells": [
  {
   "cell_type": "code",
   "execution_count": 1,
   "metadata": {},
   "outputs": [],
   "source": [
    "import pandas as pd\n",
    "import matplotlib.pyplot as plt\n",
    "import networkx as nx\n",
    "import numpy as np\n",
    "import math"
   ]
  },
  {
   "cell_type": "code",
   "execution_count": 2,
   "metadata": {},
   "outputs": [],
   "source": [
    "df = pd.read_csv('all_reviews.csv')"
   ]
  },
  {
   "cell_type": "code",
   "execution_count": 3,
   "metadata": {},
   "outputs": [
    {
     "name": "stdout",
     "output_type": "stream",
     "text": [
      "   Year              Date  User  Release  Score  Band\n",
      "0  2002  2002.07.11.06:45     8   517380     82  21.0\n",
      "1  2002  2002.07.14.09:19     8       46     88  14.0\n",
      "2  2002  2002.07.15.00:23    20      133     90  39.0\n",
      "3  2002  2002.07.16.03:43    21        2     87   4.0\n",
      "4  2002  2002.07.16.22:38    14       21     70   3.0\n"
     ]
    }
   ],
   "source": [
    "print(df.head())"
   ]
  },
  {
   "cell_type": "code",
   "execution_count": 4,
   "metadata": {},
   "outputs": [],
   "source": [
    "posScore = df['Score'].quantile(.5)"
   ]
  },
  {
   "cell_type": "code",
   "execution_count": 5,
   "metadata": {},
   "outputs": [
    {
     "name": "stdout",
     "output_type": "stream",
     "text": [
      "Index(['Year', 'Date', 'User', 'Release', 'Score', 'Band'], dtype='object')\n",
      "50th Percentile at 83.0\n"
     ]
    }
   ],
   "source": [
    "print(df.columns)\n",
    "print(\"50th Percentile at\",posScore)"
   ]
  },
  {
   "cell_type": "code",
   "execution_count": 6,
   "metadata": {},
   "outputs": [
    {
     "data": {
      "image/png": "[encoded data removed]",
      "text/plain": [
       "<Figure size 432x288 with 1 Axes>"
      ]
     },
     "metadata": {
      "needs_background": "light"
     },
     "output_type": "display_data"
    }
   ],
   "source": [
    "plt.title('Distribution of Score')\n",
    "plt.xlabel('Score')\n",
    "plt.ylabel('Frequency')\n",
    "plt.hist(df['Score'])\n",
    "plt.savefig(\"Distribution of Score.png\")"
   ]
  },
  {
   "cell_type": "code",
   "execution_count": 7,
   "metadata": {},
   "outputs": [],
   "source": [
    "mp = {} #mp[release] = list(reviews)\n",
    "for i in range(len(df)):\n",
    "    if df['Score'][i] > posScore:#positive review is defined as 50th percentile or above\n",
    "    #if df['Score'][i] == 100:#only consider positive review as full score of 100\n",
    "        if df['Release'][i] not in mp:\n",
    "            mp[df['Release'][i]] = []\n",
    "        mp[df['Release'][i]].append((df['User'][i],float(df['Score'][i])))"
   ]
  },
  {
   "cell_type": "code",
   "execution_count": 8,
   "metadata": {},
   "outputs": [],
   "source": [
    "G = nx.Graph() #network of users\n",
    "B = nx.Graph() #bipartite"
   ]
  },
  {
   "cell_type": "code",
   "execution_count": 9,
   "metadata": {},
   "outputs": [],
   "source": [
    "#construction of bipartite graph between users and releases\n",
    "users = set()\n",
    "for release in mp:\n",
    "    for item in mp[release]:\n",
    "        B.add_edge(release,str(item[0])+'U')#to differentiate items in bipartite graph\n",
    "        users.add(str(item[0])+'U')"
   ]
  },
  {
   "cell_type": "code",
   "execution_count": 10,
   "metadata": {},
   "outputs": [],
   "source": [
    "edges = {}\n",
    "for user in users:\n",
    "    for release in B.adj[user]:\n",
    "        for node in B.adj[release]:\n",
    "            if node != user:\n",
    "                if (user, node) in edges:\n",
    "                    edges[(user, node)] += 1\n",
    "                elif (node, release) in edges:\n",
    "                    edges[(node, user)] += 1\n",
    "                else:\n",
    "                    edges[(user, node)] = 1\n",
    "\n",
    "for edge in edges:\n",
    "    G.add_edge(edge[0], edge[1], weight = edges[edge])"
   ]
  },
  {
   "cell_type": "code",
   "execution_count": 11,
   "metadata": {},
   "outputs": [
    {
     "name": "stdout",
     "output_type": "stream",
     "text": [
      "Number of Releases Used = 23182\n"
     ]
    }
   ],
   "source": [
    "print(\"Number of Releases Used =\",len(mp))"
   ]
  },
  {
   "cell_type": "code",
   "execution_count": 12,
   "metadata": {},
   "outputs": [],
   "source": [
    "for u,v in G.edges():\n",
    "    #similarity = 2*overlap/sum of degrees of u and v\n",
    "    G[u][v]['similarity'] = (2*G[u][v]['weight'])/(G.degree(u)+G.degree(v))"
   ]
  },
  {
   "cell_type": "code",
   "execution_count": 13,
   "metadata": {},
   "outputs": [],
   "source": [
    "#Assigning weights based on frequency\n",
    "weights = [G[u][v]['weight'] for u,v in G.edges()]\n",
    "sim = [G[u][v]['similarity'] for u,v in G.edges()]\n",
    "#print(weights)"
   ]
  },
  {
   "cell_type": "code",
   "execution_count": 14,
   "metadata": {},
   "outputs": [
    {
     "data": {
      "image/png": "[encoded data removed]",
      "text/plain": [
       "<Figure size 432x288 with 1 Axes>"
      ]
     },
     "metadata": {
      "needs_background": "light"
     },
     "output_type": "display_data"
    }
   ],
   "source": [
    "plt.title('Distribution of Weights - Network of Users')\n",
    "plt.xlabel('Weights')\n",
    "plt.ylabel('Log of Frequency')\n",
    "plt.hist(weights, log = True)\n",
    "plt.savefig(\"Distribution of Weights - Network of Users.png\")"
   ]
  },
  {
   "cell_type": "code",
   "execution_count": 15,
   "metadata": {},
   "outputs": [
    {
     "data": {
      "image/png": "[encoded data removed]",
      "text/plain": [
       "<Figure size 432x288 with 1 Axes>"
      ]
     },
     "metadata": {
      "needs_background": "light"
     },
     "output_type": "display_data"
    }
   ],
   "source": [
    "plt.title('Distribution of Similarity - Network of Users')\n",
    "plt.xlabel('Similarity (0-1)')\n",
    "plt.ylabel('Log of Frequency')\n",
    "plt.hist(sim, log = True)\n",
    "plt.savefig(\"Distribution of Similarity - Network of Users.png\")"
   ]
  },
  {
   "cell_type": "code",
   "execution_count": 16,
   "metadata": {},
   "outputs": [
    {
     "name": "stdout",
     "output_type": "stream",
     "text": [
      "Maximum Weight (i.e. Frequency) = 77\n",
      "Number of edges = 60136\n",
      "Number of nodes = 6118\n"
     ]
    }
   ],
   "source": [
    "print(\"Maximum Weight (i.e. Frequency) =\",max(weights))\n",
    "print(\"Number of edges =\",len(weights))\n",
    "print(\"Number of nodes =\",len(G.nodes()))"
   ]
  },
  {
   "cell_type": "code",
   "execution_count": 17,
   "metadata": {},
   "outputs": [
    {
     "data": {
      "image/png": "[encoded data removed]",
      "text/plain": [
       "<Figure size 432x288 with 1 Axes>"
      ]
     },
     "metadata": {
      "needs_background": "light"
     },
     "output_type": "display_data"
    }
   ],
   "source": [
    "plt.title('Distribution of Degree - Network of Users')\n",
    "plt.xlabel('Degree')\n",
    "plt.ylabel('Log of Frequency')\n",
    "plt.hist([b for a,b in G.degree(list(G.nodes()))],log = True)\n",
    "plt.savefig(\"Distribution of Degree - Network of Users.png\")\n",
    "#print([b for a,b in G.degree(list(G.nodes()))])\n",
    "#Hopefully able to observe Power Law Distribution"
   ]
  },
  {
   "cell_type": "code",
   "execution_count": 18,
   "metadata": {},
   "outputs": [],
   "source": [
    "#Only run this when size is small\n",
    "#nx.draw(G, node_size = 10, width = weights)\n",
    "#plt.show()"
   ]
  },
  {
   "cell_type": "code",
   "execution_count": 19,
   "metadata": {},
   "outputs": [
    {
     "data": {
      "text/plain": [
       "\"\\ngraphs = list(nx.connected_components(G))\\n\\nfor subgraph in graphs:\\n    if len(subgraph) < 3:#only consider subgraphs with size > 3\\n        continue\\n    graph = G.subgraph(subgraph)\\n    weights1 = [graph[u][v]['weight'] for u,v in graph.edges()]\\n    nx.draw(graph, node_size = 10, width = weights1)\\n    plt.show()\\n\""
      ]
     },
     "execution_count": 19,
     "metadata": {},
     "output_type": "execute_result"
    }
   ],
   "source": [
    "#Splitting the graph into connected subgraphs\n",
    "'''\n",
    "graphs = list(nx.connected_components(G))\n",
    "\n",
    "for subgraph in graphs:\n",
    "    if len(subgraph) < 3:#only consider subgraphs with size > 3\n",
    "        continue\n",
    "    graph = G.subgraph(subgraph)\n",
    "    weights1 = [graph[u][v]['weight'] for u,v in graph.edges()]\n",
    "    nx.draw(graph, node_size = 10, width = weights1)\n",
    "    plt.show()\n",
    "'''"
   ]
  },
  {
   "cell_type": "code",
   "execution_count": 20,
   "metadata": {},
   "outputs": [],
   "source": [
    "H = nx.Graph() #network of releases"
   ]
  },
  {
   "cell_type": "code",
   "execution_count": 21,
   "metadata": {},
   "outputs": [],
   "source": [
    "edgesNew = {}\n",
    "for release in mp:\n",
    "    for item in B.adj[release]:\n",
    "        for node in B.adj[item]:\n",
    "            if node != release:\n",
    "                if (release, node) in edgesNew:\n",
    "                    edgesNew[(release, node)] += 1\n",
    "                elif (node, release) in edgesNew:\n",
    "                    edgesNew[(node, release)] += 1\n",
    "                else:\n",
    "                    edgesNew[(release, node)] = 1\n",
    "                \n",
    "for edge in edgesNew:\n",
    "    H.add_edge(edge[0], edge[1], weight = edgesNew[edge])\n",
    "\n",
    "#Assigning weights based on frequency\n",
    "weightsNew = [H[u][v]['weight'] for u,v in H.edges()]"
   ]
  },
  {
   "cell_type": "code",
   "execution_count": 22,
   "metadata": {},
   "outputs": [
    {
     "name": "stdout",
     "output_type": "stream",
     "text": [
      "Number of Nodes = 21668\n",
      "Number of Edges = 2373898\n",
      "Maximum Weight = 22\n",
      "Minimum Weight = 2\n"
     ]
    }
   ],
   "source": [
    "print(\"Number of Nodes =\",len(H.nodes()))\n",
    "print(\"Number of Edges =\",len(H.edges()))\n",
    "print(\"Maximum Weight =\",max(weightsNew))\n",
    "print(\"Minimum Weight =\",min(weightsNew))"
   ]
  },
  {
   "cell_type": "code",
   "execution_count": 23,
   "metadata": {},
   "outputs": [
    {
     "data": {
      "image/png": "[encoded data removed]",
      "text/plain": [
       "<Figure size 432x288 with 1 Axes>"
      ]
     },
     "metadata": {
      "needs_background": "light"
     },
     "output_type": "display_data"
    }
   ],
   "source": [
    "plt.title('Distribution of Weights - Network of Releases')\n",
    "plt.xlabel('Weights')\n",
    "plt.ylabel('Log of Frequency')\n",
    "plt.hist(weightsNew, log = True)\n",
    "plt.savefig(\"Distribution of Weights - Network of Releases.png\")"
   ]
  },
  {
   "cell_type": "code",
   "execution_count": 24,
   "metadata": {},
   "outputs": [
    {
     "data": {
      "image/png": "[encoded data removed]",
      "text/plain": [
       "<Figure size 432x288 with 1 Axes>"
      ]
     },
     "metadata": {
      "needs_background": "light"
     },
     "output_type": "display_data"
    }
   ],
   "source": [
    "plt.title('Distribution of Degree - Network of Releases')\n",
    "plt.xlabel('Degree')\n",
    "plt.ylabel('Log of Frequency')\n",
    "plt.hist([b for a,b in H.degree(list(H.nodes()))],log = True)\n",
    "plt.savefig(\"Distribution of Degree - Network of Releases.png\")\n",
    "#print([H for a,b in H.degree(list(H.nodes()))])\n",
    "#Hopefully able to observe Power Law Distribution"
   ]
  },
  {
   "cell_type": "code",
   "execution_count": 25,
   "metadata": {},
   "outputs": [],
   "source": [
    "#Only run this when size is small\n",
    "#nx.draw(H, node_size = 10, width = weightsNew)\n",
    "#plt.show()"
   ]
  },
  {
   "cell_type": "code",
   "execution_count": null,
   "metadata": {},
   "outputs": [],
   "source": []
  }
 ],
 "metadata": {
  "kernelspec": {
   "display_name": "Python 3",
   "language": "python",
   "name": "python3"
  },
  "language_info": {
   "codemirror_mode": {
    "name": "ipython",
    "version": 3
   },
   "file_extension": ".py",
   "mimetype": "text/x-python",
   "name": "python",
   "nbconvert_exporter": "python",
   "pygments_lexer": "ipython3",
   "version": "3.6.5"
  }
 },
 "nbformat": 4,
 "nbformat_minor": 4
}

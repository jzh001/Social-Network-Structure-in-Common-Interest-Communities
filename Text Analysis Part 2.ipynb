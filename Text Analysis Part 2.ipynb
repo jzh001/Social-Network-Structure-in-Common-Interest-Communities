{
 "cells": [
  {
   "cell_type": "code",
   "execution_count": 1,
   "metadata": {},
   "outputs": [],
   "source": [
    "import pandas as pd\n",
    "import numpy as np\n",
    "import time\n",
    "import matplotlib.pyplot as plt\n",
    "import collections as clt\n",
    "import networkx as nx\n",
    "import pickle\n",
    "import itertools\n",
    "from joblib import Parallel, delayed\n",
    "import math\n",
    "from community import best_partition, modularity\n",
    "from nltk.sentiment.vader import SentimentIntensityAnalyzer\n",
    "from nltk.stem import WordNetLemmatizer \n",
    "from spellchecker import SpellChecker"
   ]
  },
  {
   "cell_type": "code",
   "execution_count": 2,
   "metadata": {},
   "outputs": [],
   "source": [
    "plt.rcParams[\"figure.figsize\"] = (10,7) #defining size of plots"
   ]
  },
  {
   "cell_type": "code",
   "execution_count": 3,
   "metadata": {},
   "outputs": [
    {
     "data": {
      "text/html": [
       "<div>\n",
       "<style scoped>\n",
       "    .dataframe tbody tr th:only-of-type {\n",
       "        vertical-align: middle;\n",
       "    }\n",
       "\n",
       "    .dataframe tbody tr th {\n",
       "        vertical-align: top;\n",
       "    }\n",
       "\n",
       "    .dataframe thead th {\n",
       "        text-align: right;\n",
       "    }\n",
       "</style>\n",
       "<table border=\"1\" class=\"dataframe\">\n",
       "  <thead>\n",
       "    <tr style=\"text-align: right;\">\n",
       "      <th></th>\n",
       "      <th>User</th>\n",
       "      <th>Date</th>\n",
       "      <th>Year</th>\n",
       "      <th>Month</th>\n",
       "      <th>Release</th>\n",
       "      <th>Band</th>\n",
       "      <th>Score</th>\n",
       "      <th>Link</th>\n",
       "      <th>Album_link</th>\n",
       "      <th>Review_title</th>\n",
       "      <th>...</th>\n",
       "      <th>Band_Genre</th>\n",
       "      <th>Combined_Genre</th>\n",
       "      <th>Key Features</th>\n",
       "      <th>Cleansed Features</th>\n",
       "      <th>Cleansed Text</th>\n",
       "      <th>Product Features</th>\n",
       "      <th>Product Features_dep</th>\n",
       "      <th>neg</th>\n",
       "      <th>neu</th>\n",
       "      <th>pos</th>\n",
       "    </tr>\n",
       "  </thead>\n",
       "  <tbody>\n",
       "    <tr>\n",
       "      <th>0</th>\n",
       "      <td>SpookyApparition</td>\n",
       "      <td>July 11 2002</td>\n",
       "      <td>2002</td>\n",
       "      <td>7</td>\n",
       "      <td>Chaosphere</td>\n",
       "      <td>Meshuggah</td>\n",
       "      <td>82</td>\n",
       "      <td>https://www.metal-archives.com/reviews/Meshugg...</td>\n",
       "      <td>https://www.metal-archives.com/albums/Meshugga...</td>\n",
       "      <td>Technical metal at it's finest.</td>\n",
       "      <td>...</td>\n",
       "      <td>groove metal|thrash metal</td>\n",
       "      <td>technical thrash metal|math metal|progressive ...</td>\n",
       "      <td>originally bought|entire album|sounded variati...</td>\n",
       "      <td>originally bought|entire album|sounded variati...</td>\n",
       "      <td>I originally bought Chaosphere in late 2000......</td>\n",
       "      <td>entire album|sounded variation|grown appreciat...</td>\n",
       "      <td>tacky place|respective instruments|vocal perfo...</td>\n",
       "      <td>0.025</td>\n",
       "      <td>0.826</td>\n",
       "      <td>0.149</td>\n",
       "    </tr>\n",
       "    <tr>\n",
       "      <th>1</th>\n",
       "      <td>SpookyApparition</td>\n",
       "      <td>July 14 2002</td>\n",
       "      <td>2002</td>\n",
       "      <td>7</td>\n",
       "      <td>Necroticism_-_Descanting_the_Insalubrious</td>\n",
       "      <td>Carcass</td>\n",
       "      <td>88</td>\n",
       "      <td>https://www.metal-archives.com/reviews/Carcass...</td>\n",
       "      <td>https://www.metal-archives.com/albums/Carcass/...</td>\n",
       "      <td>Carcass at their finest.</td>\n",
       "      <td>...</td>\n",
       "      <td>grindcore|death metal</td>\n",
       "      <td>grindcore|melodic death metal</td>\n",
       "      <td>somewhat song structures|song structures|injec...</td>\n",
       "      <td>somewhat song structures|song structures|injec...</td>\n",
       "      <td>A midpoint between Carcass' early grind albums...</td>\n",
       "      <td>somewhat song structures|song structures|injec...</td>\n",
       "      <td>melodic variety|vocal performances|enjoyable a...</td>\n",
       "      <td>0.038</td>\n",
       "      <td>0.850</td>\n",
       "      <td>0.111</td>\n",
       "    </tr>\n",
       "    <tr>\n",
       "      <th>2</th>\n",
       "      <td>MarkRyan</td>\n",
       "      <td>July 15 2002</td>\n",
       "      <td>2002</td>\n",
       "      <td>7</td>\n",
       "      <td>Angels_Fall_First</td>\n",
       "      <td>Nightwish</td>\n",
       "      <td>90</td>\n",
       "      <td>https://www.metal-archives.com/reviews/Nightwi...</td>\n",
       "      <td>https://www.metal-archives.com/albums/Nightwis...</td>\n",
       "      <td>On par with their other stuff...</td>\n",
       "      <td>...</td>\n",
       "      <td>symphonic metal|power metal</td>\n",
       "      <td>symphonic power metal</td>\n",
       "      <td>general consensus|lose credibility|sung poet|b...</td>\n",
       "      <td>general consensus|lose credibility|sung poet|b...</td>\n",
       "      <td>I'm not hard-core into metal at all, really, b...</td>\n",
       "      <td>general consensus|lose credibility|sung poet|b...</td>\n",
       "      <td>beautiful melody|beautiful example|general con...</td>\n",
       "      <td>0.026</td>\n",
       "      <td>0.771</td>\n",
       "      <td>0.202</td>\n",
       "    </tr>\n",
       "    <tr>\n",
       "      <th>3</th>\n",
       "      <td>Fear</td>\n",
       "      <td>July 16 2002</td>\n",
       "      <td>2002</td>\n",
       "      <td>7</td>\n",
       "      <td>Dark_Genesis</td>\n",
       "      <td>Iced_Earth</td>\n",
       "      <td>87</td>\n",
       "      <td>https://www.metal-archives.com/reviews/Iced_Ea...</td>\n",
       "      <td>https://www.metal-archives.com/albums/Iced_Ear...</td>\n",
       "      <td>Brilliance in Repackaging</td>\n",
       "      <td>...</td>\n",
       "      <td>thrash metal|power metal</td>\n",
       "      <td>heavy metal|us power metal</td>\n",
       "      <td>new album fact|old material|bought big fan|big...</td>\n",
       "      <td>new album fact|old material|bought big fan|big...</td>\n",
       "      <td>This is not a new album, but in fact, five alb...</td>\n",
       "      <td>new album fact|old material|bought big fan|big...</td>\n",
       "      <td>different versions|original vocals|old materia...</td>\n",
       "      <td>0.031</td>\n",
       "      <td>0.723</td>\n",
       "      <td>0.246</td>\n",
       "    </tr>\n",
       "    <tr>\n",
       "      <th>4</th>\n",
       "      <td>Esoteric</td>\n",
       "      <td>July 16 2002</td>\n",
       "      <td>2002</td>\n",
       "      <td>7</td>\n",
       "      <td>A_Night_at_the_Opera</td>\n",
       "      <td>Blind_Guardian</td>\n",
       "      <td>70</td>\n",
       "      <td>https://www.metal-archives.com/reviews/Blind_G...</td>\n",
       "      <td>https://www.metal-archives.com/albums/Blind_Gu...</td>\n",
       "      <td>Somewhat Disappointing</td>\n",
       "      <td>...</td>\n",
       "      <td>speed metal|power metal</td>\n",
       "      <td>power metal</td>\n",
       "      <td>accurate description album|vocal lines|meaty a...</td>\n",
       "      <td>accurate description album|vocal lines|meaty a...</td>\n",
       "      <td>I've been trying for months to come up with an...</td>\n",
       "      <td>accurate description album|vocal lines|meaty a...</td>\n",
       "      <td>catchy songs|bad album|vocal lines|little line...</td>\n",
       "      <td>0.130</td>\n",
       "      <td>0.747</td>\n",
       "      <td>0.123</td>\n",
       "    </tr>\n",
       "  </tbody>\n",
       "</table>\n",
       "<p>5 rows × 23 columns</p>\n",
       "</div>"
      ],
      "text/plain": [
       "               User          Date  Year  Month  \\\n",
       "0  SpookyApparition  July 11 2002  2002      7   \n",
       "1  SpookyApparition  July 14 2002  2002      7   \n",
       "2          MarkRyan  July 15 2002  2002      7   \n",
       "3              Fear  July 16 2002  2002      7   \n",
       "4          Esoteric  July 16 2002  2002      7   \n",
       "\n",
       "                                     Release            Band  Score  \\\n",
       "0                                 Chaosphere       Meshuggah     82   \n",
       "1  Necroticism_-_Descanting_the_Insalubrious         Carcass     88   \n",
       "2                          Angels_Fall_First       Nightwish     90   \n",
       "3                               Dark_Genesis      Iced_Earth     87   \n",
       "4                       A_Night_at_the_Opera  Blind_Guardian     70   \n",
       "\n",
       "                                                Link  \\\n",
       "0  https://www.metal-archives.com/reviews/Meshugg...   \n",
       "1  https://www.metal-archives.com/reviews/Carcass...   \n",
       "2  https://www.metal-archives.com/reviews/Nightwi...   \n",
       "3  https://www.metal-archives.com/reviews/Iced_Ea...   \n",
       "4  https://www.metal-archives.com/reviews/Blind_G...   \n",
       "\n",
       "                                          Album_link  \\\n",
       "0  https://www.metal-archives.com/albums/Meshugga...   \n",
       "1  https://www.metal-archives.com/albums/Carcass/...   \n",
       "2  https://www.metal-archives.com/albums/Nightwis...   \n",
       "3  https://www.metal-archives.com/albums/Iced_Ear...   \n",
       "4  https://www.metal-archives.com/albums/Blind_Gu...   \n",
       "\n",
       "                       Review_title  ...                   Band_Genre  \\\n",
       "0   Technical metal at it's finest.  ...    groove metal|thrash metal   \n",
       "1          Carcass at their finest.  ...        grindcore|death metal   \n",
       "2  On par with their other stuff...  ...  symphonic metal|power metal   \n",
       "3         Brilliance in Repackaging  ...     thrash metal|power metal   \n",
       "4            Somewhat Disappointing  ...      speed metal|power metal   \n",
       "\n",
       "                                      Combined_Genre  \\\n",
       "0  technical thrash metal|math metal|progressive ...   \n",
       "1                      grindcore|melodic death metal   \n",
       "2                              symphonic power metal   \n",
       "3                         heavy metal|us power metal   \n",
       "4                                        power metal   \n",
       "\n",
       "                                        Key Features  \\\n",
       "0  originally bought|entire album|sounded variati...   \n",
       "1  somewhat song structures|song structures|injec...   \n",
       "2  general consensus|lose credibility|sung poet|b...   \n",
       "3  new album fact|old material|bought big fan|big...   \n",
       "4  accurate description album|vocal lines|meaty a...   \n",
       "\n",
       "                                   Cleansed Features  \\\n",
       "0  originally bought|entire album|sounded variati...   \n",
       "1  somewhat song structures|song structures|injec...   \n",
       "2  general consensus|lose credibility|sung poet|b...   \n",
       "3  new album fact|old material|bought big fan|big...   \n",
       "4  accurate description album|vocal lines|meaty a...   \n",
       "\n",
       "                                       Cleansed Text  \\\n",
       "0  I originally bought Chaosphere in late 2000......   \n",
       "1  A midpoint between Carcass' early grind albums...   \n",
       "2  I'm not hard-core into metal at all, really, b...   \n",
       "3  This is not a new album, but in fact, five alb...   \n",
       "4  I've been trying for months to come up with an...   \n",
       "\n",
       "                                    Product Features  \\\n",
       "0  entire album|sounded variation|grown appreciat...   \n",
       "1  somewhat song structures|song structures|injec...   \n",
       "2  general consensus|lose credibility|sung poet|b...   \n",
       "3  new album fact|old material|bought big fan|big...   \n",
       "4  accurate description album|vocal lines|meaty a...   \n",
       "\n",
       "                                Product Features_dep    neg    neu    pos  \n",
       "0  tacky place|respective instruments|vocal perfo...  0.025  0.826  0.149  \n",
       "1  melodic variety|vocal performances|enjoyable a...  0.038  0.850  0.111  \n",
       "2  beautiful melody|beautiful example|general con...  0.026  0.771  0.202  \n",
       "3  different versions|original vocals|old materia...  0.031  0.723  0.246  \n",
       "4  catchy songs|bad album|vocal lines|little line...  0.130  0.747  0.123  \n",
       "\n",
       "[5 rows x 23 columns]"
      ]
     },
     "execution_count": 3,
     "metadata": {},
     "output_type": "execute_result"
    }
   ],
   "source": [
    "df = pd.read_csv('reviews_full_v9-2.csv')\n",
    "df.head()"
   ]
  },
  {
   "cell_type": "code",
   "execution_count": 4,
   "metadata": {},
   "outputs": [
    {
     "name": "stdout",
     "output_type": "stream",
     "text": [
      "680777\n"
     ]
    }
   ],
   "source": [
    "all_features = pickle.load(open('opinionsv3.p','rb')) #sorted dictionary of phrases + frequency\n",
    "print(len(all_features))"
   ]
  },
  {
   "cell_type": "code",
   "execution_count": 5,
   "metadata": {},
   "outputs": [
    {
     "data": {
      "text/plain": [
       "2651"
      ]
     },
     "execution_count": 5,
     "metadata": {},
     "output_type": "execute_result"
    }
   ],
   "source": [
    "len([feature for feature in all_features if all_features[feature] > 100])"
   ]
  },
  {
   "cell_type": "code",
   "execution_count": 6,
   "metadata": {},
   "outputs": [
    {
     "data": {
      "image/png": "[encoded data removed]",
      "text/plain": [
       "<Figure size 720x504 with 1 Axes>"
      ]
     },
     "metadata": {
      "needs_background": "light"
     },
     "output_type": "display_data"
    }
   ],
   "source": [
    "plt.title('Log of Frequency against Log of Word Count')\n",
    "plt.ylabel('Log of Frequency')\n",
    "plt.xlabel('Log of Words')\n",
    "plt.loglog([1]+sorted(all_features.values()))\n",
    "plt.show()"
   ]
  },
  {
   "cell_type": "code",
   "execution_count": 7,
   "metadata": {},
   "outputs": [],
   "source": [
    "genre_group = pickle.load(open('genre_group.p','rb'))\n",
    "lemma = WordNetLemmatizer() "
   ]
  },
  {
   "cell_type": "code",
   "execution_count": 8,
   "metadata": {},
   "outputs": [
    {
     "data": {
      "text/plain": [
       "[1, 127, 3218, 3813, 58, 2747, 35, 2122, 106, 242]"
      ]
     },
     "execution_count": 8,
     "metadata": {},
     "output_type": "execute_result"
    }
   ],
   "source": [
    "list(all_features.values())[:10]"
   ]
  },
  {
   "cell_type": "code",
   "execution_count": 9,
   "metadata": {},
   "outputs": [
    {
     "name": "stdout",
     "output_type": "stream",
     "text": [
      "0 0.09469032287597656\n",
      "10000 4.218678712844849\n",
      "20000 7.163754224777222\n",
      "30000 10.458091020584106\n",
      "40000 13.909595727920532\n",
      "50000 17.34326171875\n",
      "60000 20.918671131134033\n",
      "70000 24.65713405609131\n",
      "80000 28.49202251434326\n",
      "90000 32.41213035583496\n"
     ]
    }
   ],
   "source": [
    "def isNaN(x):\n",
    "    return x != x\n",
    "\n",
    "spell = SpellChecker()\n",
    "adj_to_genre = {}\n",
    "t1 = time.time()\n",
    "all_genres = set()\n",
    "for i,row in df.iterrows():\n",
    "    if i%10000 == 0:\n",
    "        print(i,time.time()-t1)\n",
    "    if isNaN(row['Product Features_dep']) or isNaN(row['Combined_Genre']):\n",
    "        continue\n",
    "    features = row['Product Features_dep'].split('|')\n",
    "    genres = row['Combined_Genre'].split('|')\n",
    "    album = row['Release']\n",
    "    for genre in genres.copy():\n",
    "        if genre not in genre_group or genre_group[genre] == 'Non-metal' or genre_group[genre] == 'Others':\n",
    "            genres.remove(genre)\n",
    "    \n",
    "    for feature in features:\n",
    "        adj = lemma.lemmatize(feature.split(' ')[0])\n",
    "        if len(spell.unknown([adj])) != 0:\n",
    "            continue\n",
    "        if adj not in adj_to_genre:\n",
    "            adj_to_genre[adj] = set()\n",
    "        for genre in genres:\n",
    "            adj_to_genre[adj].add(genre)\n",
    "            all_genres.add(genre)"
   ]
  },
  {
   "cell_type": "code",
   "execution_count": 10,
   "metadata": {},
   "outputs": [
    {
     "data": {
      "image/png": "[encoded data removed]",
      "text/plain": [
       "<Figure size 720x504 with 1 Axes>"
      ]
     },
     "metadata": {
      "needs_background": "light"
     },
     "output_type": "display_data"
    }
   ],
   "source": [
    "genfreq = {}\n",
    "for adj in adj_to_genre:\n",
    "    if len(adj_to_genre[adj]) != 0:\n",
    "        genfreq[adj] = len(adj_to_genre[adj])\n",
    "\n",
    "plt.semilogy(sorted(genfreq.values()))\n",
    "plt.show()    "
   ]
  },
  {
   "cell_type": "code",
   "execution_count": 11,
   "metadata": {},
   "outputs": [
    {
     "name": "stdout",
     "output_type": "stream",
     "text": [
      "1708\n"
     ]
    }
   ],
   "source": [
    "tmp = []\n",
    "for feature in all_features:\n",
    "    adj = feature.split(' ')[0]\n",
    "    if adj in genfreq and genfreq[adj] < 150 and all_features[feature] > 100:\n",
    "        #print(feature)\n",
    "        tmp.append(feature)\n",
    "print(len(tmp))"
   ]
  },
  {
   "cell_type": "code",
   "execution_count": 12,
   "metadata": {},
   "outputs": [
    {
     "name": "stdout",
     "output_type": "stream",
     "text": [
      "0 0.13131332397460938\n",
      "10000 4.211076021194458\n",
      "20000 8.650559186935425\n",
      "30000 13.222265720367432\n",
      "40000 18.090505599975586\n",
      "50000 23.181601762771606\n",
      "60000 28.3011372089386\n",
      "70000 33.7978515625\n",
      "80000 39.25950384140015\n",
      "90000 44.953537464141846\n"
     ]
    }
   ],
   "source": [
    "t1 = time.time()\n",
    "B = nx.Graph()\n",
    "featureset = set()\n",
    "album_to_genre = {}\n",
    "all_genres = []\n",
    "\n",
    "def isNaN(x):\n",
    "    return x != x\n",
    "\n",
    "for i,row in df.iterrows():\n",
    "    if i%10000 == 0:\n",
    "        print(i,time.time()-t1)\n",
    "    if isNaN(row['Product Features_dep']) or isNaN(row['Combined_Genre']):\n",
    "        continue\n",
    "    features = row['Product Features_dep'].split('|')\n",
    "    genres = row['Combined_Genre'].split('|')\n",
    "    album = row['Release']\n",
    "    user = row['User']\n",
    "    for genre in genres.copy():\n",
    "        if genre not in genre_group or genre_group[genre] == 'Non-metal' or genre_group[genre] == 'Others':\n",
    "            genres.remove(genre)\n",
    "    all_genres += genres\n",
    "    if album in album_to_genre:\n",
    "        album_to_genre[album] = album_to_genre[album].union(set(genres))\n",
    "    else:\n",
    "        album_to_genre[album] = set(genres)\n",
    "    for feature in features:\n",
    "        feature_lem = ' '.join([lemma.lemmatize(word) for word in feature.split()])\n",
    "        #if abs(featuresent[feature]) < 0.5 and 'metal' not in feature:\n",
    "        adj = lemma.lemmatize(feature.split(' ')[0])\n",
    "        #if 'metal' not in feature and all_features[feature] >= 100: \n",
    "        if 'metal' not in feature and adj in genfreq and genfreq[adj] < 150 and all_features[feature] > 100 and len(spell.unknown(feature.split(' '))) == 0: \n",
    "            '''if not B.has_edge(album,feature_lem):\n",
    "                B.add_edge(album, feature_lem)\n",
    "                featureset.add(feature_lem)'''\n",
    "            if not B.has_edge(user,feature_lem):\n",
    "                B.add_edge(user, feature_lem)\n",
    "                featureset.add(feature_lem)"
   ]
  },
  {
   "cell_type": "code",
   "execution_count": 13,
   "metadata": {},
   "outputs": [
    {
     "data": {
      "text/plain": [
       "(9656, 197494, 1410, 190)"
      ]
     },
     "execution_count": 13,
     "metadata": {},
     "output_type": "execute_result"
    }
   ],
   "source": [
    "B.number_of_nodes(), B.number_of_edges(), len(featureset), len(set(all_genres))"
   ]
  },
  {
   "cell_type": "code",
   "execution_count": 14,
   "metadata": {},
   "outputs": [
    {
     "data": {
      "image/png": "[encoded data removed]",
      "text/plain": [
       "<Figure size 720x504 with 1 Axes>"
      ]
     },
     "metadata": {
      "needs_background": "light"
     },
     "output_type": "display_data"
    }
   ],
   "source": [
    "plt.title('Degree Distribution')\n",
    "plt.ylabel('Log of Degree')\n",
    "plt.xlabel('Nodes')\n",
    "tmp = sorted([B.degree[feature] for feature in featureset], reverse = True)\n",
    "plt.loglog(tmp)\n",
    "plt.show()"
   ]
  },
  {
   "cell_type": "raw",
   "metadata": {},
   "source": [
    "tmp = sorted([(B.degree[feature],feature) for feature in featureset], reverse = True)\n",
    "rem_nodes = [node for f,node in tmp if (f < 10 or f > 1000)]\n",
    "#rem_nodes = [node for f,node in tmp if (f < 1000)]\n",
    "B.remove_nodes_from(rem_nodes)\n",
    "print(len(featureset))\n",
    "featureset = featureset.difference(set(rem_nodes))\n",
    "print(len(featureset))"
   ]
  },
  {
   "cell_type": "code",
   "execution_count": 15,
   "metadata": {},
   "outputs": [],
   "source": [
    "B.remove_nodes_from(list(nx.isolates(B)))"
   ]
  },
  {
   "cell_type": "code",
   "execution_count": 16,
   "metadata": {},
   "outputs": [
    {
     "data": {
      "text/plain": [
       "(9656, 197494)"
      ]
     },
     "execution_count": 16,
     "metadata": {},
     "output_type": "execute_result"
    }
   ],
   "source": [
    "B.number_of_nodes(), B.number_of_edges()"
   ]
  },
  {
   "cell_type": "code",
   "execution_count": 17,
   "metadata": {},
   "outputs": [
    {
     "data": {
      "text/plain": [
       "(1410, 992109)"
      ]
     },
     "execution_count": 17,
     "metadata": {},
     "output_type": "execute_result"
    }
   ],
   "source": [
    "G = nx.Graph()\n",
    "for feature1 in featureset:\n",
    "    for user in B.adj[feature1]:\n",
    "        for feature2 in B.adj[user]:\n",
    "            if feature2 >= feature1:\n",
    "                continue\n",
    "            if G.has_edge(feature1,feature2):\n",
    "                G[feature1][feature2]['weight'] += 1\n",
    "                #G[feature1][feature2]['albums'].add(album)\n",
    "                #G[feature1][feature2]['users'].add(user)\n",
    "            else:\n",
    "                #G.add_edge(feature1, feature2, weight = 1, albums = {album})\n",
    "                #G.add_edge(feature1, feature2, weight = 1, users = {user})\n",
    "                G.add_edge(feature1, feature2, weight = 1)\n",
    "G.number_of_nodes(), G.number_of_edges()"
   ]
  },
  {
   "cell_type": "code",
   "execution_count": 18,
   "metadata": {},
   "outputs": [
    {
     "data": {
      "image/png": "[encoded data removed]",
      "text/plain": [
       "<Figure size 720x504 with 1 Axes>"
      ]
     },
     "metadata": {
      "needs_background": "light"
     },
     "output_type": "display_data"
    }
   ],
   "source": [
    "plt.semilogy(sorted(list(nx.get_edge_attributes(G,'weight').values())))\n",
    "plt.show()"
   ]
  },
  {
   "cell_type": "code",
   "execution_count": 19,
   "metadata": {},
   "outputs": [
    {
     "name": "stdout",
     "output_type": "stream",
     "text": [
      "1\n"
     ]
    },
    {
     "data": {
      "text/plain": [
       "(1409, 988882)"
      ]
     },
     "execution_count": 19,
     "metadata": {},
     "output_type": "execute_result"
    }
   ],
   "source": [
    "G3 = G.copy()\n",
    "for u,v in G3.edges():\n",
    "    if G3[u][v]['weight'] <= 1:\n",
    "        G.remove_edge(u,v)\n",
    "print(len(list(nx.isolates(G))))\n",
    "G.remove_nodes_from(list(nx.isolates(G)))\n",
    "G.number_of_nodes(), G.number_of_edges()"
   ]
  },
  {
   "cell_type": "code",
   "execution_count": 20,
   "metadata": {},
   "outputs": [
    {
     "data": {
      "image/png": "[encoded data removed]",
      "text/plain": [
       "<Figure size 720x504 with 1 Axes>"
      ]
     },
     "metadata": {
      "needs_background": "light"
     },
     "output_type": "display_data"
    }
   ],
   "source": [
    "plt.semilogy(sorted(list(nx.get_edge_attributes(G,'weight').values())))\n",
    "plt.show()"
   ]
  },
  {
   "cell_type": "raw",
   "metadata": {},
   "source": [
    "partitions = best_partition(G,randomize = True, weight = 'weight')\n",
    "print(max(partitions.values()))\n",
    "partitions_by_cluster = {i:[] for i in range(max(partitions.values())+1)}\n",
    "for node in partitions:\n",
    "    partitions_by_cluster[partitions[node]].append(node)\n",
    "clusters = [G.subgraph(partitions_by_cluster[i]) for i in range(max(partitions.values())+1)]"
   ]
  },
  {
   "cell_type": "raw",
   "metadata": {},
   "source": [
    "def freq_network_parr(Graph, n_iter, n_jobs, width = 'weight', res = 1):#Graph is new frequency network\n",
    "    partitions = Parallel(n_jobs=n_jobs)(delayed(best_partition)(Graph, randomize = True, weight = width, resolution = res) for i in range(n_iter))\n",
    "    #partitions = [best_partition(Graph, randomize = True, weight = 'weight') for i in range(n_iter)]\n",
    "    N = int(sum([len(cc)*(len(cc)-1)/2 for cc in nx.connected_components(Graph)]))\n",
    "    print(nx.number_connected_components(Graph), N, len(Graph.edges()))\n",
    "    prob = {} #key is (node 1, node 2), value is number of times they are in the same cluster/total number of iterations\n",
    "    total = 0\n",
    "    G = nx.Graph()\n",
    "    for partition in partitions:# for n_iter number of iterations\n",
    "        #partition = best_partition(Graph, randomize = True, weight = 'weight')\n",
    "        mp = {}\n",
    "        for user in partition:\n",
    "            if partition[user] not in mp:\n",
    "                mp[partition[user]]= []\n",
    "            mp[partition[user]].append(user)\n",
    "        for part in mp:\n",
    "            for u,v in itertools.combinations(mp[part],2):\n",
    "                if G.has_edge(u,v):\n",
    "                    G[u][v][width] += 1\n",
    "                else:\n",
    "                    G.add_edge(u,v)\n",
    "                    G[u][v][width] = 1\n",
    "    N = int(sum([len(cc)*(len(cc)-1)/2 for cc in nx.connected_components(G)]))\n",
    "    print(nx.number_connected_components(G), N, G.number_of_edges())\n",
    "    return G\n",
    "\n",
    "def no_crossedges(Graph):\n",
    "    return sum([len(cc)*(len(cc)-1)/2 for cc in nx.connected_components(Graph)]) == Graph.number_of_edges()"
   ]
  },
  {
   "cell_type": "raw",
   "metadata": {},
   "source": [
    "H = G.copy()\n",
    "while not no_crossedges(H):\n",
    "    H = freq_network_parr(H, 10, 4)\n",
    "\n",
    "partitions = {}\n",
    "    \n",
    "for i,cc in enumerate(nx.connected_components(H)):\n",
    "    for node in cc:\n",
    "        partitions[node] = i"
   ]
  },
  {
   "cell_type": "code",
   "execution_count": 21,
   "metadata": {},
   "outputs": [],
   "source": [
    "def get_kcore(Graph):\n",
    "    K = Graph.copy()\n",
    "    K.remove_edges_from(nx.selfloop_edges(K))\n",
    "    K = nx.k_core(K)\n",
    "    sortbylen = lambda cc : len(cc)\n",
    "    return nx.Graph(K.subgraph(sorted(list(nx.connected_components(K)), key = sortbylen)[-1]))"
   ]
  },
  {
   "cell_type": "code",
   "execution_count": 22,
   "metadata": {},
   "outputs": [
    {
     "data": {
      "text/plain": [
       "(1409, 988882)"
      ]
     },
     "execution_count": 22,
     "metadata": {},
     "output_type": "execute_result"
    }
   ],
   "source": [
    "#G = get_kcore(G)\n",
    "G.number_of_nodes(), G.number_of_edges()"
   ]
  },
  {
   "cell_type": "code",
   "execution_count": 23,
   "metadata": {},
   "outputs": [],
   "source": [
    "def normalize_weights(Graph):\n",
    "    weights = list(nx.get_edge_attributes(G,'weight').values())\n",
    "    maxi = max(weights)\n",
    "    mini = min(weights)\n",
    "    for u,v in Graph.copy().edges():\n",
    "        Graph[u][v]['weight'] = (Graph[u][v]['weight'] - mini + 1)*100/(maxi-mini)\n",
    "    return Graph"
   ]
  },
  {
   "cell_type": "code",
   "execution_count": 24,
   "metadata": {},
   "outputs": [],
   "source": [
    "#G = normalize_weights(G)"
   ]
  },
  {
   "cell_type": "code",
   "execution_count": 25,
   "metadata": {},
   "outputs": [
    {
     "name": "stdout",
     "output_type": "stream",
     "text": [
      "2\n"
     ]
    }
   ],
   "source": [
    "partitions = best_partition(G,randomize = True, weight = 'weight')\n",
    "print(max(partitions.values()))\n",
    "partitions_by_cluster = {i:[] for i in range(max(partitions.values())+1)}\n",
    "for node in partitions:\n",
    "    partitions_by_cluster[partitions[node]].append(node)\n",
    "clusters = [G.subgraph(partitions_by_cluster[i]) for i in range(max(partitions.values())+1)]"
   ]
  },
  {
   "cell_type": "code",
   "execution_count": 26,
   "metadata": {},
   "outputs": [
    {
     "data": {
      "text/plain": [
       "0.021253060321380857"
      ]
     },
     "execution_count": 26,
     "metadata": {},
     "output_type": "execute_result"
    }
   ],
   "source": [
    "modularity(partitions, G, weight = 'weight')"
   ]
  },
  {
   "cell_type": "code",
   "execution_count": 27,
   "metadata": {},
   "outputs": [
    {
     "data": {
      "image/png": "[encoded data removed]",
      "text/plain": [
       "<Figure size 720x504 with 1 Axes>"
      ]
     },
     "metadata": {
      "needs_background": "light"
     },
     "output_type": "display_data"
    }
   ],
   "source": [
    "tmp = clt.Counter(list(partitions.values()))\n",
    "plt.bar(tmp.keys(),tmp.values())\n",
    "plt.show()"
   ]
  },
  {
   "cell_type": "code",
   "execution_count": 28,
   "metadata": {},
   "outputs": [],
   "source": [
    "condensed_genres = [genre_group[genre] for genre in all_genres if genre in genre_group]\n",
    "genre_freq = clt.Counter(condensed_genres)\n",
    "#genre_freq = clt.Counter(all_genres)\n",
    "\n",
    "def printCluster(ind, use_kcore = False):\n",
    "    Graph = clusters[ind]\n",
    "    if use_kcore:\n",
    "        Graph = get_kcore(Graph)\n",
    "    genre_list = []\n",
    "    albums = set()\n",
    "    for u,v in Graph.edges():\n",
    "        albums = albums.union(G[u][v]['albums'])\n",
    "    for album in albums:\n",
    "        genre_list += [genre_group[genre] for genre in album_to_genre[album] if genre in genre_group]\n",
    "    tmp = clt.Counter(genre_list)\n",
    "    '''\n",
    "    for key in tmp:\n",
    "        #print(key,tmp[key], genre_freq[key], len(genre_list), len(G[u][v]['albums']))\n",
    "        tmp[key] /= genre_freq[key] #percentage\n",
    "        tmp[key] = round(tmp[key],2)\n",
    "    '''\n",
    "    #tmp = {k: v for k, v in sorted(tmp.items(), key=lambda item: item[1], reverse = True)}\n",
    "    #print(tmp)\n",
    "    print()\n",
    "    print(Graph.nodes())\n",
    "    "
   ]
  },
  {
   "cell_type": "code",
   "execution_count": 29,
   "metadata": {},
   "outputs": [
    {
     "name": "stdout",
     "output_type": "stream",
     "text": [
      "11 [220, 222, 118, 145, 208, 48, 113, 85, 66, 96, 88]\n"
     ]
    },
    {
     "data": {
      "image/png": "[encoded data removed]",
      "text/plain": [
       "<Figure size 720x504 with 1 Axes>"
      ]
     },
     "metadata": {
      "needs_background": "light"
     },
     "output_type": "display_data"
    }
   ],
   "source": [
    "clusters_new = []\n",
    "\n",
    "for cluster in clusters:\n",
    "    partitions = best_partition(cluster,randomize = True, weight = 'weight')\n",
    "    partitions_by_cluster = {i:[] for i in range(max(partitions.values())+1)}\n",
    "    for node in partitions:\n",
    "        partitions_by_cluster[partitions[node]].append(node)\n",
    "    subclusters = [cluster.subgraph(partitions_by_cluster[i]) for i in range(max(partitions.values())+1)]\n",
    "    clusters_new += subclusters\n",
    "\n",
    "print(len(clusters_new), [cluster.number_of_nodes() for cluster in clusters_new])\n",
    "plt.bar([i for i in range(len(clusters_new))],[cluster.number_of_nodes() for cluster in clusters_new])\n",
    "plt.show()"
   ]
  },
  {
   "cell_type": "raw",
   "metadata": {},
   "source": [
    "from wordcloud import WordCloud, STOPWORDS, ImageColorGenerator\n",
    "\n",
    "def vizCluster(ind, use_kcore = False):\n",
    "    Graph = clusters[ind]\n",
    "    if use_kcore:\n",
    "        Graph = get_kcore(Graph)\n",
    "    genre_list = []\n",
    "    albums = set()\n",
    "    for u,v in Graph.edges():\n",
    "        albums = albums.union(G[u][v]['albums'])\n",
    "    for album in albums:\n",
    "        genre_list += [genre_group[genre] for genre in album_to_genre[album] if genre in genre_group]\n",
    "    text = ' '.join([' '.join(genre.split()[:-1]) for genre in genre_list])\n",
    "    wordcloud = WordCloud(max_font_size=100, max_words=100, background_color=\"white\").generate(text)\n",
    "    plt.figure()\n",
    "    plt.imshow(wordcloud, interpolation=\"bilinear\")\n",
    "    plt.axis(\"off\")\n",
    "    plt.show()\n",
    "    H = clusters[ind]\n",
    "    nx.draw(H, node_size = 20, with_labels = True)\n",
    "    plt.show()"
   ]
  },
  {
   "cell_type": "raw",
   "metadata": {},
   "source": [
    "vizCluster(0)"
   ]
  }
 ],
 "metadata": {
  "kernelspec": {
   "display_name": "Python 3",
   "language": "python",
   "name": "python3"
  },
  "language_info": {
   "codemirror_mode": {
    "name": "ipython",
    "version": 3
   },
   "file_extension": ".py",
   "mimetype": "text/x-python",
   "name": "python",
   "nbconvert_exporter": "python",
   "pygments_lexer": "ipython3",
   "version": "3.8.3"
  }
 },
 "nbformat": 4,
 "nbformat_minor": 4
}

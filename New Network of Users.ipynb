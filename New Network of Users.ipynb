{
 "cells": [
  {
   "cell_type": "code",
   "execution_count": 1,
   "metadata": {},
   "outputs": [],
   "source": [
    "import pandas as pd\n",
    "import matplotlib.pyplot as plt\n",
    "import networkx as nx\n",
    "import numpy as np\n",
    "import math\n",
    "import collections as clt\n",
    "from community import best_partition,modularity\n",
    "import itertools\n",
    "from joblib import Parallel, delayed\n",
    "import pickle\n",
    "from IPython.display import display, HTML"
   ]
  },
  {
   "cell_type": "code",
   "execution_count": 2,
   "metadata": {},
   "outputs": [
    {
     "data": {
      "text/html": [
       "<div>\n",
       "<style scoped>\n",
       "    .dataframe tbody tr th:only-of-type {\n",
       "        vertical-align: middle;\n",
       "    }\n",
       "\n",
       "    .dataframe tbody tr th {\n",
       "        vertical-align: top;\n",
       "    }\n",
       "\n",
       "    .dataframe thead th {\n",
       "        text-align: right;\n",
       "    }\n",
       "</style>\n",
       "<table border=\"1\" class=\"dataframe\">\n",
       "  <thead>\n",
       "    <tr style=\"text-align: right;\">\n",
       "      <th></th>\n",
       "      <th>User</th>\n",
       "      <th>Date</th>\n",
       "      <th>Year</th>\n",
       "      <th>Month</th>\n",
       "      <th>Release</th>\n",
       "      <th>Band</th>\n",
       "      <th>Score</th>\n",
       "      <th>Link</th>\n",
       "      <th>Album_link</th>\n",
       "      <th>Review_title</th>\n",
       "      <th>...</th>\n",
       "      <th>Band_Genre</th>\n",
       "      <th>Combined_Genre</th>\n",
       "      <th>Key Features</th>\n",
       "      <th>Cleansed Features</th>\n",
       "      <th>Cleansed Text</th>\n",
       "      <th>Product Features</th>\n",
       "      <th>Product Features_dep</th>\n",
       "      <th>neg</th>\n",
       "      <th>neu</th>\n",
       "      <th>pos</th>\n",
       "    </tr>\n",
       "  </thead>\n",
       "  <tbody>\n",
       "    <tr>\n",
       "      <th>0</th>\n",
       "      <td>SpookyApparition</td>\n",
       "      <td>July 11 2002</td>\n",
       "      <td>2002</td>\n",
       "      <td>7</td>\n",
       "      <td>Chaosphere</td>\n",
       "      <td>Meshuggah</td>\n",
       "      <td>82</td>\n",
       "      <td>https://www.metal-archives.com/reviews/Meshugg...</td>\n",
       "      <td>https://www.metal-archives.com/albums/Meshugga...</td>\n",
       "      <td>Technical metal at it's finest.</td>\n",
       "      <td>...</td>\n",
       "      <td>groove metal|thrash metal</td>\n",
       "      <td>technical thrash metal|math metal|progressive ...</td>\n",
       "      <td>originally bought|entire album|sounded variati...</td>\n",
       "      <td>originally bought|entire album|sounded variati...</td>\n",
       "      <td>I originally bought Chaosphere in late 2000......</td>\n",
       "      <td>entire album|sounded variation|grown appreciat...</td>\n",
       "      <td>tacky place|respective instruments|vocal perfo...</td>\n",
       "      <td>0.025</td>\n",
       "      <td>0.826</td>\n",
       "      <td>0.149</td>\n",
       "    </tr>\n",
       "    <tr>\n",
       "      <th>1</th>\n",
       "      <td>SpookyApparition</td>\n",
       "      <td>July 14 2002</td>\n",
       "      <td>2002</td>\n",
       "      <td>7</td>\n",
       "      <td>Necroticism_-_Descanting_the_Insalubrious</td>\n",
       "      <td>Carcass</td>\n",
       "      <td>88</td>\n",
       "      <td>https://www.metal-archives.com/reviews/Carcass...</td>\n",
       "      <td>https://www.metal-archives.com/albums/Carcass/...</td>\n",
       "      <td>Carcass at their finest.</td>\n",
       "      <td>...</td>\n",
       "      <td>grindcore|death metal</td>\n",
       "      <td>grindcore|melodic death metal</td>\n",
       "      <td>somewhat song structures|song structures|injec...</td>\n",
       "      <td>somewhat song structures|song structures|injec...</td>\n",
       "      <td>A midpoint between Carcass' early grind albums...</td>\n",
       "      <td>somewhat song structures|song structures|injec...</td>\n",
       "      <td>melodic variety|vocal performances|enjoyable a...</td>\n",
       "      <td>0.038</td>\n",
       "      <td>0.850</td>\n",
       "      <td>0.111</td>\n",
       "    </tr>\n",
       "    <tr>\n",
       "      <th>2</th>\n",
       "      <td>MarkRyan</td>\n",
       "      <td>July 15 2002</td>\n",
       "      <td>2002</td>\n",
       "      <td>7</td>\n",
       "      <td>Angels_Fall_First</td>\n",
       "      <td>Nightwish</td>\n",
       "      <td>90</td>\n",
       "      <td>https://www.metal-archives.com/reviews/Nightwi...</td>\n",
       "      <td>https://www.metal-archives.com/albums/Nightwis...</td>\n",
       "      <td>On par with their other stuff...</td>\n",
       "      <td>...</td>\n",
       "      <td>symphonic metal|power metal</td>\n",
       "      <td>symphonic power metal</td>\n",
       "      <td>general consensus|lose credibility|sung poet|b...</td>\n",
       "      <td>general consensus|lose credibility|sung poet|b...</td>\n",
       "      <td>I'm not hard-core into metal at all, really, b...</td>\n",
       "      <td>general consensus|lose credibility|sung poet|b...</td>\n",
       "      <td>beautiful melody|beautiful example|general con...</td>\n",
       "      <td>0.026</td>\n",
       "      <td>0.771</td>\n",
       "      <td>0.202</td>\n",
       "    </tr>\n",
       "    <tr>\n",
       "      <th>3</th>\n",
       "      <td>Fear</td>\n",
       "      <td>July 16 2002</td>\n",
       "      <td>2002</td>\n",
       "      <td>7</td>\n",
       "      <td>Dark_Genesis</td>\n",
       "      <td>Iced_Earth</td>\n",
       "      <td>87</td>\n",
       "      <td>https://www.metal-archives.com/reviews/Iced_Ea...</td>\n",
       "      <td>https://www.metal-archives.com/albums/Iced_Ear...</td>\n",
       "      <td>Brilliance in Repackaging</td>\n",
       "      <td>...</td>\n",
       "      <td>thrash metal|power metal</td>\n",
       "      <td>heavy metal|us power metal</td>\n",
       "      <td>new album fact|old material|bought big fan|big...</td>\n",
       "      <td>new album fact|old material|bought big fan|big...</td>\n",
       "      <td>This is not a new album, but in fact, five alb...</td>\n",
       "      <td>new album fact|old material|bought big fan|big...</td>\n",
       "      <td>different versions|original vocals|old materia...</td>\n",
       "      <td>0.031</td>\n",
       "      <td>0.723</td>\n",
       "      <td>0.246</td>\n",
       "    </tr>\n",
       "    <tr>\n",
       "      <th>4</th>\n",
       "      <td>Esoteric</td>\n",
       "      <td>July 16 2002</td>\n",
       "      <td>2002</td>\n",
       "      <td>7</td>\n",
       "      <td>A_Night_at_the_Opera</td>\n",
       "      <td>Blind_Guardian</td>\n",
       "      <td>70</td>\n",
       "      <td>https://www.metal-archives.com/reviews/Blind_G...</td>\n",
       "      <td>https://www.metal-archives.com/albums/Blind_Gu...</td>\n",
       "      <td>Somewhat Disappointing</td>\n",
       "      <td>...</td>\n",
       "      <td>speed metal|power metal</td>\n",
       "      <td>power metal</td>\n",
       "      <td>accurate description album|vocal lines|meaty a...</td>\n",
       "      <td>accurate description album|vocal lines|meaty a...</td>\n",
       "      <td>I've been trying for months to come up with an...</td>\n",
       "      <td>accurate description album|vocal lines|meaty a...</td>\n",
       "      <td>catchy songs|bad album|vocal lines|little line...</td>\n",
       "      <td>0.130</td>\n",
       "      <td>0.747</td>\n",
       "      <td>0.123</td>\n",
       "    </tr>\n",
       "  </tbody>\n",
       "</table>\n",
       "<p>5 rows × 23 columns</p>\n",
       "</div>"
      ],
      "text/plain": [
       "               User          Date  Year  Month  \\\n",
       "0  SpookyApparition  July 11 2002  2002      7   \n",
       "1  SpookyApparition  July 14 2002  2002      7   \n",
       "2          MarkRyan  July 15 2002  2002      7   \n",
       "3              Fear  July 16 2002  2002      7   \n",
       "4          Esoteric  July 16 2002  2002      7   \n",
       "\n",
       "                                     Release            Band  Score  \\\n",
       "0                                 Chaosphere       Meshuggah     82   \n",
       "1  Necroticism_-_Descanting_the_Insalubrious         Carcass     88   \n",
       "2                          Angels_Fall_First       Nightwish     90   \n",
       "3                               Dark_Genesis      Iced_Earth     87   \n",
       "4                       A_Night_at_the_Opera  Blind_Guardian     70   \n",
       "\n",
       "                                                Link  \\\n",
       "0  https://www.metal-archives.com/reviews/Meshugg...   \n",
       "1  https://www.metal-archives.com/reviews/Carcass...   \n",
       "2  https://www.metal-archives.com/reviews/Nightwi...   \n",
       "3  https://www.metal-archives.com/reviews/Iced_Ea...   \n",
       "4  https://www.metal-archives.com/reviews/Blind_G...   \n",
       "\n",
       "                                          Album_link  \\\n",
       "0  https://www.metal-archives.com/albums/Meshugga...   \n",
       "1  https://www.metal-archives.com/albums/Carcass/...   \n",
       "2  https://www.metal-archives.com/albums/Nightwis...   \n",
       "3  https://www.metal-archives.com/albums/Iced_Ear...   \n",
       "4  https://www.metal-archives.com/albums/Blind_Gu...   \n",
       "\n",
       "                       Review_title  ...                   Band_Genre  \\\n",
       "0   Technical metal at it's finest.  ...    groove metal|thrash metal   \n",
       "1          Carcass at their finest.  ...        grindcore|death metal   \n",
       "2  On par with their other stuff...  ...  symphonic metal|power metal   \n",
       "3         Brilliance in Repackaging  ...     thrash metal|power metal   \n",
       "4            Somewhat Disappointing  ...      speed metal|power metal   \n",
       "\n",
       "                                      Combined_Genre  \\\n",
       "0  technical thrash metal|math metal|progressive ...   \n",
       "1                      grindcore|melodic death metal   \n",
       "2                              symphonic power metal   \n",
       "3                         heavy metal|us power metal   \n",
       "4                                        power metal   \n",
       "\n",
       "                                        Key Features  \\\n",
       "0  originally bought|entire album|sounded variati...   \n",
       "1  somewhat song structures|song structures|injec...   \n",
       "2  general consensus|lose credibility|sung poet|b...   \n",
       "3  new album fact|old material|bought big fan|big...   \n",
       "4  accurate description album|vocal lines|meaty a...   \n",
       "\n",
       "                                   Cleansed Features  \\\n",
       "0  originally bought|entire album|sounded variati...   \n",
       "1  somewhat song structures|song structures|injec...   \n",
       "2  general consensus|lose credibility|sung poet|b...   \n",
       "3  new album fact|old material|bought big fan|big...   \n",
       "4  accurate description album|vocal lines|meaty a...   \n",
       "\n",
       "                                       Cleansed Text  \\\n",
       "0  I originally bought Chaosphere in late 2000......   \n",
       "1  A midpoint between Carcass' early grind albums...   \n",
       "2  I'm not hard-core into metal at all, really, b...   \n",
       "3  This is not a new album, but in fact, five alb...   \n",
       "4  I've been trying for months to come up with an...   \n",
       "\n",
       "                                    Product Features  \\\n",
       "0  entire album|sounded variation|grown appreciat...   \n",
       "1  somewhat song structures|song structures|injec...   \n",
       "2  general consensus|lose credibility|sung poet|b...   \n",
       "3  new album fact|old material|bought big fan|big...   \n",
       "4  accurate description album|vocal lines|meaty a...   \n",
       "\n",
       "                                Product Features_dep    neg    neu    pos  \n",
       "0  tacky place|respective instruments|vocal perfo...  0.025  0.826  0.149  \n",
       "1  melodic variety|vocal performances|enjoyable a...  0.038  0.850  0.111  \n",
       "2  beautiful melody|beautiful example|general con...  0.026  0.771  0.202  \n",
       "3  different versions|original vocals|old materia...  0.031  0.723  0.246  \n",
       "4  catchy songs|bad album|vocal lines|little line...  0.130  0.747  0.123  \n",
       "\n",
       "[5 rows x 23 columns]"
      ]
     },
     "execution_count": 2,
     "metadata": {},
     "output_type": "execute_result"
    }
   ],
   "source": [
    "plt.rcParams[\"figure.figsize\"] = (10,7) #defining size of plots\n",
    "df = pd.read_csv('reviews_full_v9-2.csv')\n",
    "df.head()"
   ]
  },
  {
   "cell_type": "code",
   "execution_count": 3,
   "metadata": {},
   "outputs": [],
   "source": [
    "genre_group = pickle.load(open('genre_group.p','rb'))"
   ]
  },
  {
   "cell_type": "code",
   "execution_count": 4,
   "metadata": {},
   "outputs": [],
   "source": [
    "#G = nx.read_gpickle('network_users.p')\n",
    "users = set(df['User'])\n",
    "G = nx.Graph() #network of users\n",
    "B = nx.Graph() #bipartite graph between users and releases\n",
    "G.add_nodes_from(users)\n",
    "B.add_nodes_from(users)\n",
    "\n",
    "posScore = 75\n",
    "#construction of bipartite graph between users and releases\n",
    "bandmp = {}\n",
    "album_to_genre = {}\n",
    "\n",
    "def isNaN(x):\n",
    "    return x != x\n",
    "\n",
    "for index, row in df.iterrows():\n",
    "    if row['Score'] >= posScore and not B.has_edge(row['Release'] + 'R', row['User']):#positive review is defined as score >= 75\n",
    "        B.add_edge(row['Release'] + 'R', row['User'])#added 'R' as some user names are the same as review names\n",
    "    if isNaN(row['Combined_Genre']):\n",
    "        album_to_genre[row['Release'] + 'R'] = []\n",
    "    else:\n",
    "        album_to_genre[row['Release'] + 'R'] = row['Combined_Genre'].split('|')\n",
    "        #album_to_genre[row['Release'] + 'R'] = [genre for genre in row['Combined_Genre'].split('|') if genre in genre_group and genre_group[genre] != 'Non-metal' and genre_group[genre]!= 'Others']\n",
    "        \n",
    "#constructing edges, and counting the frequency (i.e. number of repeated edges)\n",
    "for user in users:\n",
    "    for release in B.adj[user]:\n",
    "        for node in B.adj[release]:\n",
    "            if node < user: #to ensure the order, with no repeats\n",
    "                if not G.has_edge(user,node):\n",
    "                    G.add_edge(user, node, weight = 1, albums = {release})\n",
    "                else:\n",
    "                    G[user][node]['weight'] += 1\n",
    "                    G[user][node]['albums'].add(release)"
   ]
  },
  {
   "cell_type": "code",
   "execution_count": 5,
   "metadata": {},
   "outputs": [
    {
     "data": {
      "text/plain": [
       "9317"
      ]
     },
     "execution_count": 5,
     "metadata": {},
     "output_type": "execute_result"
    }
   ],
   "source": [
    "G.number_of_nodes()"
   ]
  },
  {
   "cell_type": "code",
   "execution_count": 6,
   "metadata": {},
   "outputs": [
    {
     "data": {
      "image/png": "[encoded data removed]",
      "text/plain": [
       "<Figure size 720x504 with 1 Axes>"
      ]
     },
     "metadata": {
      "needs_background": "light"
     },
     "output_type": "display_data"
    }
   ],
   "source": [
    "plt.semilogy(sorted(list(nx.get_edge_attributes(G,'weight').values())))\n",
    "plt.show()"
   ]
  },
  {
   "cell_type": "code",
   "execution_count": 7,
   "metadata": {},
   "outputs": [],
   "source": [
    "G_original = G.copy()"
   ]
  },
  {
   "cell_type": "code",
   "execution_count": 8,
   "metadata": {},
   "outputs": [],
   "source": [
    "for u,v in G.copy().edges():\n",
    "    if G[u][v]['weight'] <= 1:\n",
    "        G.remove_edge(u,v)"
   ]
  },
  {
   "cell_type": "code",
   "execution_count": 9,
   "metadata": {},
   "outputs": [],
   "source": [
    "sortbylen = lambda cc : len(cc)\n",
    "G = G.subgraph(sorted(list(nx.connected_components(G)), key = sortbylen)[-1])"
   ]
  },
  {
   "cell_type": "code",
   "execution_count": 10,
   "metadata": {},
   "outputs": [
    {
     "data": {
      "text/plain": [
       "(13439, Counter({2024: 1}))"
      ]
     },
     "execution_count": 10,
     "metadata": {},
     "output_type": "execute_result"
    }
   ],
   "source": [
    "G.number_of_edges(), clt.Counter([len(cc) for cc in nx.connected_components(G)])"
   ]
  },
  {
   "cell_type": "code",
   "execution_count": 11,
   "metadata": {},
   "outputs": [
    {
     "data": {
      "text/plain": [
       "'K = G.copy()\\nK.remove_edges_from(nx.selfloop_edges(K))\\nK = nx.k_core(K,3)\\nsortbylen = lambda cc : len(cc)\\nCore = K.subgraph(sorted(list(nx.connected_components(K)), key = sortbylen)[-1])'"
      ]
     },
     "execution_count": 11,
     "metadata": {},
     "output_type": "execute_result"
    }
   ],
   "source": [
    "'''K = G.copy()\n",
    "K.remove_edges_from(nx.selfloop_edges(K))\n",
    "K = nx.k_core(K,3)\n",
    "sortbylen = lambda cc : len(cc)\n",
    "Core = K.subgraph(sorted(list(nx.connected_components(K)), key = sortbylen)[-1])'''"
   ]
  },
  {
   "cell_type": "code",
   "execution_count": 12,
   "metadata": {},
   "outputs": [],
   "source": [
    "#Core.number_of_nodes(),Core.number_of_edges()"
   ]
  },
  {
   "cell_type": "code",
   "execution_count": 13,
   "metadata": {},
   "outputs": [],
   "source": [
    "def freq_network_parr(Graph, n_iter, n_jobs, width = 'weight'):#Graph is new frequency network\n",
    "    partitions = Parallel(n_jobs=n_jobs)(delayed(best_partition)(Graph, randomize = True, weight = width) for i in range(n_iter))\n",
    "    #partitions = [best_partition(Graph, randomize = True, weight = 'weight') for i in range(n_iter)]\n",
    "    N = int(sum([len(cc)*(len(cc)-1)/2 for cc in nx.connected_components(Graph)]))\n",
    "    print(nx.number_connected_components(Graph), N, Graph.number_of_edges())\n",
    "    prob = {} #key is (node 1, node 2), value is number of times they are in the same cluster/total number of iterations\n",
    "    total = 0\n",
    "    G = nx.Graph()\n",
    "    for partition in partitions:# for n_iter number of iterations\n",
    "        #partition = best_partition(Graph, randomize = True, weight = 'weight')\n",
    "        mp = {}\n",
    "        for user in partition:\n",
    "            if partition[user] not in mp:\n",
    "                mp[partition[user]]= []\n",
    "            mp[partition[user]].append(user)\n",
    "        for part in mp:\n",
    "            for u,v in itertools.combinations(mp[part],2):\n",
    "                if G.has_edge(u,v):\n",
    "                    G[u][v][width] += 1\n",
    "                else:\n",
    "                    G.add_edge(u,v)\n",
    "                    G[u][v][width] = 1\n",
    "    N = int(sum([len(cc)*(len(cc)-1)/2 for cc in nx.connected_components(G)]))\n",
    "    print(nx.number_connected_components(G), N, G.number_of_edges())\n",
    "    return G\n",
    "\n",
    "def no_crossedges(Graph):\n",
    "    return sum([len(cc)*(len(cc)-1)/2 for cc in nx.connected_components(Graph)]) == Graph.number_of_edges()"
   ]
  },
  {
   "cell_type": "code",
   "execution_count": 14,
   "metadata": {},
   "outputs": [
    {
     "data": {
      "text/plain": [
       "1"
      ]
     },
     "execution_count": 14,
     "metadata": {},
     "output_type": "execute_result"
    }
   ],
   "source": [
    "nx.number_connected_components(G)"
   ]
  },
  {
   "cell_type": "code",
   "execution_count": 15,
   "metadata": {},
   "outputs": [
    {
     "name": "stdout",
     "output_type": "stream",
     "text": [
      "1 2047276 13439\n",
      "1 2047276 900918\n",
      "1 2047276 900918\n",
      "3 1110940 477023\n",
      "3 1110940 477023\n",
      "5 474695 474695\n"
     ]
    }
   ],
   "source": [
    "H = G.copy() #not using core for now\n",
    "while not no_crossedges(H):\n",
    "    H = freq_network_parr(H, 10, 4)"
   ]
  },
  {
   "cell_type": "code",
   "execution_count": 16,
   "metadata": {},
   "outputs": [
    {
     "data": {
      "text/plain": [
       "0.2639954647773757"
      ]
     },
     "execution_count": 16,
     "metadata": {},
     "output_type": "execute_result"
    }
   ],
   "source": [
    "def calc_mod(Graph, Clusters):\n",
    "    part = {}\n",
    "    for i,cc in enumerate(list(nx.connected_components(Clusters))):\n",
    "        for node in cc:\n",
    "            part[node] = i\n",
    "    \n",
    "    return modularity(part,Graph,weight = 'weight')\n",
    "calc_mod(G, H)      "
   ]
  },
  {
   "cell_type": "code",
   "execution_count": 17,
   "metadata": {},
   "outputs": [
    {
     "data": {
      "text/plain": [
       "[378, 571, 443, 524, 108]"
      ]
     },
     "execution_count": 17,
     "metadata": {},
     "output_type": "execute_result"
    }
   ],
   "source": [
    "[len(cc) for cc in nx.connected_components(H)]"
   ]
  },
  {
   "cell_type": "code",
   "execution_count": 18,
   "metadata": {},
   "outputs": [],
   "source": [
    "clusterid = {}\n",
    "for i,cc in enumerate(nx.connected_components(H)):\n",
    "    for user in cc:\n",
    "        clusterid[user] = i\n",
    "\n",
    "pickle.dump(clusterid, open('cluster_ids.p', 'wb'))"
   ]
  },
  {
   "cell_type": "code",
   "execution_count": 19,
   "metadata": {},
   "outputs": [],
   "source": [
    "def isNaN(x):\n",
    "    return x != x"
   ]
  },
  {
   "cell_type": "code",
   "execution_count": 20,
   "metadata": {},
   "outputs": [
    {
     "name": "stdout",
     "output_type": "stream",
     "text": [
      "Shape of Context: 0 356 104\n",
      "1902\n",
      "Shape of Context: 1 558 131\n",
      "3122\n",
      "Shape of Context: 2 440 102\n",
      "3017\n",
      "Shape of Context: 3 508 110\n",
      "2664\n",
      "Shape of Context: 4 96 41\n",
      "331\n"
     ]
    }
   ],
   "source": [
    "for i,cc in enumerate(list(nx.connected_components(H))):\n",
    "    cluster = G_original.subgraph(cc)\n",
    "    cxt = []\n",
    "    #albumset = set()\n",
    "    userset = set()\n",
    "    genreset = set()\n",
    "    for u,v in cluster.edges():\n",
    "        for album in cluster[u][v]['albums']:\n",
    "            for genre in album_to_genre[album]:\n",
    "                cxt.append((u,genre))\n",
    "                cxt.append((v,genre))\n",
    "            \n",
    "    \n",
    "    cxt = clt.Counter(cxt)\n",
    "    for concept in cxt.copy():\n",
    "        if cxt[concept] <= 1:\n",
    "            cxt.pop(concept)\n",
    "        else:\n",
    "            #user, album = concept\n",
    "            user, genre = concept\n",
    "            userset.add(user)\n",
    "            #albumset.add(album)\n",
    "            genreset.add(genre)\n",
    "    \n",
    "    #print('Shape of Context:',i,len(userset), len(albumset))\n",
    "    print('Shape of Context:',i,len(userset), len(genreset))\n",
    "    \n",
    "    context_df = pd.DataFrame()\n",
    "    cnt = 0\n",
    "    for user in userset:\n",
    "        arr = []\n",
    "        #for album in albumset:\n",
    "        for genre in genreset:\n",
    "            #if (feature, genre) in cxt and cxt[(feature,genre)]/genres_all[genre] >= 0.05:\n",
    "            #if (user, album) in cxt:\n",
    "            if (user, genre) in cxt:\n",
    "                cnt += 1\n",
    "                arr.append('X')\n",
    "            else:\n",
    "                arr.append('')\n",
    "        context_df[user] = arr\n",
    "    #context_df.index = list(albumset)\n",
    "    #context_df.to_csv('users-albums_'+str(i)+'.csv')\n",
    "    context_df.index = list(genreset)\n",
    "    context_df.to_csv('users-genres_'+str(i)+'.csv')\n",
    "    print(cnt)"
   ]
  },
  {
   "cell_type": "code",
   "execution_count": 21,
   "metadata": {},
   "outputs": [],
   "source": [
    "from concepts import Context\n",
    "\n",
    "def generateConcepts(ind):\n",
    "    #c = Context.fromfile('users-albums_'+str(ind)+'.csv', frmat = 'csv')\n",
    "    c = Context.fromfile('users-genres_'+str(ind)+'.csv', frmat = 'csv')\n",
    "    l = c.lattice\n",
    "    #f = open('concepts_users-albums_'+str(ind)+'.txt','w')\n",
    "    f = open('concepts_users-genres_'+str(ind)+'.txt','w')\n",
    "    for x,y in l:\n",
    "        f.write(str(x) + '\\n\\n\\n' + str(y) + '\\n\\n\\n.....................\\n\\n\\n')\n",
    "        f.write('\\n')\n",
    "    f.close()"
   ]
  },
  {
   "cell_type": "code",
   "execution_count": 22,
   "metadata": {},
   "outputs": [
    {
     "name": "stdout",
     "output_type": "stream",
     "text": [
      "0\n",
      "1\n",
      "2\n",
      "3\n",
      "4\n"
     ]
    }
   ],
   "source": [
    "for i in range(nx.number_connected_components(H)):\n",
    "    print(i)\n",
    "    generateConcepts(i)"
   ]
  }
 ],
 "metadata": {
  "kernelspec": {
   "display_name": "Python 3",
   "language": "python",
   "name": "python3"
  },
  "language_info": {
   "codemirror_mode": {
    "name": "ipython",
    "version": 3
   },
   "file_extension": ".py",
   "mimetype": "text/x-python",
   "name": "python",
   "nbconvert_exporter": "python",
   "pygments_lexer": "ipython3",
   "version": "3.8.3"
  }
 },
 "nbformat": 4,
 "nbformat_minor": 4
}
